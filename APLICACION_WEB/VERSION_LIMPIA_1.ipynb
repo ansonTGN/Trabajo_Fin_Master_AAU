{
 "cells": [
  {
   "cell_type": "markdown",
   "metadata": {},
   "source": [
    "PROGRAMA_ANALISIS_LactAPP\n",
    "\n",
    "Version: 05/12/2023\n",
    "\n",
    "Test de funcionamiento Neo4j para analisis.\n",
    "\n",
    "Necesario:\n",
    "\n",
    "    - Docker Neo4j arrancado\n",
    "\n",
    "    - Activado entorno venv\n",
    "\n",
    "    - Licencia OpenAI (Archivo: .env)\n",
    "\n",
    "Version 1.01"
   ]
  },
  {
   "cell_type": "code",
   "execution_count": 2,
   "metadata": {},
   "outputs": [
    {
     "name": "stderr",
     "output_type": "stream",
     "text": [
      "/media/ubuntu/Linux3/CHAT_BOT_FINANCIERO/venv/lib/python3.11/site-packages/tqdm/auto.py:21: TqdmWarning: IProgress not found. Please update jupyter and ipywidgets. See https://ipywidgets.readthedocs.io/en/stable/user_install.html\n",
      "  from .autonotebook import tqdm as notebook_tqdm\n"
     ]
    }
   ],
   "source": [
    "# Bibliotecas a Cargar\n",
    "\n",
    "# Group 1: Web Framework (Flask) / Grupo 1: Framework Web (Flask)\n",
    "from flask import Flask, request, jsonify, render_template\n",
    "# Flask is a Python web framework used for building web applications.\n",
    "# Imports include essential components for creating routes, handling HTTP requests, and rendering HTML templates.\n",
    "# Flask es un framework web de Python que se utiliza para crear aplicaciones web.\n",
    "# Las importaciones incluyen componentes esenciales para crear rutas, manejar solicitudes HTTP y renderizar plantillas HTML.\n",
    "\n",
    "# Group 2: System Operations and Environment Variables / Grupo 2: Operaciones del Sistema y Variables de Entorno\n",
    "import os\n",
    "from dotenv import load_dotenv, find_dotenv\n",
    "# This group handles system related operations and environment variables.\n",
    "# 'os' provides functions for interacting with the operating system.\n",
    "# 'dotenv' allows loading environment variables from '.env' files.\n",
    "# Este grupo maneja operaciones relacionadas con el sistema y variables de entorno.\n",
    "# 'os' proporciona funciones para interactuar con el sistema operativo.\n",
    "# 'dotenv' permite cargar variables de entorno desde archivos '.env'.\n",
    "\n",
    "# Group 3: Natural Language Processing (NLP) / Grupo 3: Procesamiento de Lenguaje Natural (NLP)\n",
    "from langchain import (\n",
    "    PromptTemplate, LLMChain, llms, text_splitter, vectorstores, chains, embeddings\n",
    ")\n",
    "from sentence_transformers import SentenceTransformer\n",
    "from sklearn.metrics.pairwise import cosine_similarity\n",
    "# This group focuses on natural language processing (NLP) and utilizes the 'langchain' library.\n",
    "# It includes various functionalities for text processing and language models.\n",
    "# 'SentenceTransformer' is used for generating sentence vector representations for similarity calculations.\n",
    "# 'cosine_similarity' is used to calculate cosine similarity between vectors.\n",
    "# Este grupo se centra en el procesamiento de lenguaje natural (NLP) y utiliza la biblioteca 'langchain'.\n",
    "# Incluye diversas funcionalidades para el procesamiento de texto y modelos de lenguaje.\n",
    "# 'SentenceTransformer' permite generar representaciones vectoriales de oraciones para cálculos de similitud.\n",
    "# 'cosine_similarity' se usa para calcular la similitud de coseno entre vectores.\n",
    "\n",
    "# Group 4: Data Loading and Database Operations / Grupo 4: Carga de Datos y Operaciones de Base de Datos\n",
    "from langchain.document_loaders import PyPDFLoader\n",
    "from langchain.vectorstores.neo4j_vector import Neo4jVector\n",
    "from langchain.graphs import Neo4jGraph\n",
    "from neo4j import GraphDatabase\n",
    "# This group is responsible for loading documents and handling database operations.\n",
    "# It includes functionalities for loading PDF documents ('PyPDFLoader') and working with databases like Neo4j.\n",
    "# Este grupo se encarga de cargar documentos y manejar operaciones de base de datos.\n",
    "# Incluye funcionalidades para cargar documentos PDF ('PyPDFLoader') y trabajar con bases de datos como Neo4j.\n",
    "\n",
    "# Group 5: Additional Language Processing / Grupo 5: Procesamiento de Lenguaje Adicional\n",
    "from langchain.llms import CTransformers\n",
    "from langchain.prompts import ChatPromptTemplate\n",
    "from langchain.chat_models import ChatOpenAI\n",
    "from langchain.schema.output_parser import StrOutputParser\n",
    "from langchain.text_splitter import RecursiveCharacterTextSplitter\n",
    "from langchain.vectorstores import Chroma\n",
    "from langchain.chains import RetrievalQA\n",
    "from langchain.embeddings import HuggingFaceBgeEmbeddings\n",
    "from langchain.prompts import PromptTemplate\n",
    "from langchain.chains import LLMChain\n",
    "from langchain.chains.prompt_selector import ConditionalPromptSelector\n",
    "# This group includes additional imports related to 'langchain' and language models,\n",
    "# like 'ChatOpenAI' for generating chat responses.\n",
    "# Este grupo incluye importaciones adicionales relacionadas con 'langchain' y modelos de lenguaje,\n",
    "# como 'ChatOpenAI' para generar respuestas de chat.\n"
   ]
  },
  {
   "cell_type": "code",
   "execution_count": 3,
   "metadata": {},
   "outputs": [],
   "source": [
    "## Caso de usar .env file\n",
    "## In case of using a .env file\n",
    "\n",
    "# Carga de variables de Entorno \n",
    "# Load environment variables\n",
    "\n",
    "load_dotenv(find_dotenv(), override=True)\n",
    "\n",
    "# Accede a las variables de entorno en tu código\n",
    "# Access environment variables in your code\n",
    "OPENAI_API_KEY = os.getenv('OPENAI_API_KEY')\n",
    "URL_NEO4J = os.getenv('URL_NEO4J')\n",
    "USERNAME_NEO4J = os.getenv('USERNAME_NEO4J')\n",
    "PASSWORD_NEO4J = os.getenv('PASSWORD_NEO4J')\n",
    "\n",
    "# Ahora, puedes usar las variables en tu script\n",
    "# Now, you can use the variables in your script\n",
    "#print(f'OPENAI_API_KEY: {OPENAI_API_KEY}')\n",
    "#print(f'URL_NEO4J: {URL_NEO4J}')\n",
    "#print(f'USERNAME_NEO4J: {USERNAME_NEO4J}')\n",
    "#print(f'PASSWORD_NEO4J: {PASSWORD_NEO4J}')"
   ]
  },
  {
   "cell_type": "markdown",
   "metadata": {},
   "source": [
    "1.- CARGA MODELO LOCAL\n",
    "\n",
    "Modelo Local -> llm"
   ]
  },
  {
   "cell_type": "code",
   "execution_count": 4,
   "metadata": {},
   "outputs": [],
   "source": [
    "# Initialize LLM and other components as in the original code\n",
    "# Inicializa el LLM y otros componentes como en el código original\n",
    "\n",
    "# Uncomment and set the appropriate model name for your local environment\n",
    "# Descomenta y establece el nombre del modelo adecuado para tu entorno local\n",
    "\n",
    "# local_llm = \"neural-chat-7b-v3-1.Q4_K_M.gguf\"\n",
    "local_llm = \"openhermes-2.5-mistral-7b.Q3_K_M.gguf\""
   ]
  },
  {
   "cell_type": "code",
   "execution_count": 5,
   "metadata": {},
   "outputs": [],
   "source": [
    "# Model Parameters\n",
    "# Parámetros del Modelo\n",
    "\n",
    "# Define configuration parameters for the model\n",
    "# Define los parámetros de configuración para el modelo\n",
    "config = {\n",
    "    'max_new_tokens': 512,       # Maximum number of new tokens generated\n",
    "    'repetition_penalty': 1.1,   # Repetition penalty for text generation\n",
    "    'temperature': 0,           # Temperature for controlling randomness (0 for deterministic output)\n",
    "    'context_length': 1024,     # Length of the input context\n",
    "    'stream': False             # Whether to stream the output or generate it all at once\n",
    "}"
   ]
  },
  {
   "cell_type": "markdown",
   "metadata": {},
   "source": [
    "| Parameter            | Type      | Description                                                     | Default   |\n",
    "|----------------------|-----------|-----------------------------------------------------------------|-----------|\n",
    "| top_k                | int       | The top-k value to use for sampling.                            | 40        |\n",
    "| top_p                | float     | The top-p value to use for sampling.                            | 0.95      |\n",
    "| temperature          | float     | The temperature to use for sampling.                            | 0.8       |\n",
    "| repetition_penalty   | float     | The repetition penalty to use for sampling.                     | 1.1       |\n",
    "| last_n_tokens        | int       | The number of last tokens to use for repetition penalty.        | 64        |\n",
    "| seed                 | int       | The seed value to use for sampling tokens.                      | -1        |\n",
    "| max_new_tokens       | int       | The maximum number of new tokens to generate.                   | 256       |\n",
    "| stop                 | List[str] | A list of sequences to stop generation when encountered.        | None      |\n",
    "| stream               | bool      | Whether to stream the generated text.                           | False     |\n",
    "| reset                | bool      | Whether to reset the model state before generating text.        | True      |\n",
    "| batch_size           | int       | The batch size to use for evaluating tokens in a single prompt. | 8         |\n",
    "| threads              | int       | The number of threads to use for evaluating tokens.             | -1        |\n",
    "| context_length       | int       | The maximum context length to use.                              | -1        |\n",
    "| gpu_layers           | int       | The number of layers to run on GPU.                             | 0         |"
   ]
  },
  {
   "cell_type": "code",
   "execution_count": 6,
   "metadata": {},
   "outputs": [
    {
     "name": "stdout",
     "output_type": "stream",
     "text": [
      "LLM Initialized....\n"
     ]
    }
   ],
   "source": [
    "# Initialize a CTransformers object with the specified parameters.\n",
    "# Inicializa un objeto CTransformers con los parámetros especificados.\n",
    "llm = CTransformers(\n",
    "    model=local_llm,\n",
    "    model_type=\"mistral\",\n",
    "    lib=\"avx2\",\n",
    "    **config\n",
    ")\n",
    "\n",
    "# Print a message to indicate that LLM (Language Model) has been initialized.\n",
    "# Imprime un mensaje para indicar que LLM (Modelo de Lenguaje) ha sido inicializado.\n",
    "print(\"LLM Initialized....\")"
   ]
  },
  {
   "cell_type": "markdown",
   "metadata": {},
   "source": [
    "2- MODELO EMBEDDINGS"
   ]
  },
  {
   "cell_type": "code",
   "execution_count": 7,
   "metadata": {},
   "outputs": [],
   "source": [
    "# Define the model name for embeddings.\n",
    "# Define el nombre del modelo para los embeddings.\n",
    "model_name = \"BAAI/bge-large-en\"\n",
    "\n",
    "# Specify keyword arguments for the model (e.g., device).\n",
    "# Especifica argumentos clave para el modelo (por ejemplo, dispositivo).\n",
    "model_kwargs = {'device': 'cpu'}\n",
    "\n",
    "# Specify keyword arguments for encoding (e.g., normalization settings).\n",
    "# Especifica argumentos clave para la codificación (por ejemplo, configuración de normalización).\n",
    "encode_kwargs = {'normalize_embeddings': False}\n",
    "\n",
    "# Initialize HuggingFaceBgeEmbeddings with the specified parameters.\n",
    "# Inicializa HuggingFaceBgeEmbeddings con los parámetros especificados.\n",
    "embeddings = HuggingFaceBgeEmbeddings(\n",
    "    model_name=model_name,\n",
    "    model_kwargs=model_kwargs,\n",
    "    encode_kwargs=encode_kwargs\n",
    ")"
   ]
  },
  {
   "cell_type": "markdown",
   "metadata": {},
   "source": [
    "3.- DEFINICION PROMPTS\n",
    "\n",
    "Para modelo local\n",
    "\n",
    "Nota: El modelo local se utilizara en caso de que queramos generar una respuesta en modo texto usando el contexto de la cadana identificada como mas relevante para la pregunta indicada por la usuaria."
   ]
  },
  {
   "cell_type": "code",
   "execution_count": 8,
   "metadata": {},
   "outputs": [],
   "source": [
    "# Define a prompt template for generating prompts.\n",
    "# Define una plantilla de prompt para generar preguntas.\n",
    "prompt_template = \"\"\"Use the following pieces of information to answer the user's question.\n",
    "If you don't know the answer, just say that you don't know, don't try to make up an answer.\n",
    "\n",
    "Context: {context}\n",
    "Question: {question}\n",
    "\n",
    "Only return the helpful answer below and nothing else.\n",
    "Helpful answer:\n",
    "\"\"\"\n",
    "\n",
    "# Specify the input variables used in the template.\n",
    "# Especifica las variables de entrada utilizadas en la plantilla.\n",
    "input_variables = ['context', 'question']\n",
    "\n",
    "# Create a PromptTemplate object with the specified template and input variables.\n",
    "# Crea un objeto PromptTemplate con la plantilla y las variables de entrada especificadas.\n",
    "prompt = PromptTemplate(template=prompt_template, input_variables=input_variables)"
   ]
  },
  {
   "cell_type": "markdown",
   "metadata": {},
   "source": [
    "4.- DATOS CONEXION Neo4j\n",
    "\n",
    "La estructura de árboles de la aplicación LactApp se encuentra en una BBDD Neo4j\n",
    "\n",
    "Hemos procedido a:\n",
    "\n",
    "- Generar BBDD Neo4j en Docker\n",
    "\n",
    "- Cargar sobre esa BBDD el DUMP proporcionado con los datos de la aplicación."
   ]
  },
  {
   "cell_type": "code",
   "execution_count": 9,
   "metadata": {},
   "outputs": [],
   "source": [
    "# Establish a connection to the Neo4j database.\n",
    "# Establece una conexión a la base de datos Neo4j.\n",
    "url = URL_NEO4J\n",
    "username = USERNAME_NEO4J\n",
    "password = PASSWORD_NEO4J"
   ]
  },
  {
   "cell_type": "code",
   "execution_count": 10,
   "metadata": {},
   "outputs": [
    {
     "name": "stdout",
     "output_type": "stream",
     "text": [
      "Successful connection to the Neo4j database\n"
     ]
    }
   ],
   "source": [
    "# Function to check the connection to the Neo4j database\n",
    "# Función para verificar la conexión a la base de datos Neo4j\n",
    "def verificar_conexion(url, username, password):\n",
    "    try:\n",
    "        # Attempt to establish a connection to the Neo4j database\n",
    "        # Intento de establecer una conexión a la base de datos Neo4j\n",
    "        with GraphDatabase.driver(url, auth=(username, password)) as driver:\n",
    "            with driver.session() as session:\n",
    "                # Run a test query to check the connection\n",
    "                # Ejecutar una consulta de prueba para verificar la conexión\n",
    "                session.run(\"RETURN 1\")\n",
    "        return True  # Return True if the connection is successful\n",
    "    except Exception as e:\n",
    "        # Handle any exceptions that occur during the connection attempt\n",
    "        # Manejar cualquier excepción que ocurra durante el intento de conexión\n",
    "        print(f\"Connection error: {str(e)}\")\n",
    "        return False  # Return False if the connection fails\n",
    "\n",
    "# Check the connection to the Neo4j database\n",
    "# Verifica la conexión a la base de datos Neo4j\n",
    "if verificar_conexion(url, username, password):\n",
    "    print(\"Successful connection to the Neo4j database\")\n",
    "else:\n",
    "    print(\"Failed to connect to the Neo4j database\")"
   ]
  },
  {
   "cell_type": "markdown",
   "metadata": {},
   "source": [
    "5.- INICIALIZACION EMBEDDING DE LA BBDD Neo4j\n",
    "\n",
    "Procedemos a realizar el embedding de todos los nodos (Solo la primera vez)\n",
    "\n",
    "Utilizaremos el modelo de embedding inicializado --> embeddings\n",
    "\n",
    "Luego solo se realizara el embedding de los nodos que no dispongan de embedding ya calculado."
   ]
  },
  {
   "cell_type": "code",
   "execution_count": 11,
   "metadata": {},
   "outputs": [],
   "source": [
    "# Function to initialize the embedding for a node type\n",
    "# Función para inicializar el embedding para un tipo de nodo\n",
    "def init_node_embedding(node_label, text_properties):\n",
    "    return Neo4jVector.from_existing_graph(\n",
    "        embedding=embeddings,  # The embedding to use for initialization\n",
    "        url=url,  # URL for the Neo4j database\n",
    "        username=username,  # Username for database authentication\n",
    "        password=password,  # Password for database authentication\n",
    "        index_name=f\"{node_label.lower()}_index\",  # Name of the index for the node label\n",
    "        node_label=node_label,  # Label of the node type\n",
    "        text_node_properties=text_properties,  # Text properties for node embedding\n",
    "        embedding_node_property=\"NEWembedding\"  # Property name for the embedding in the database\n",
    "    )"
   ]
  },
  {
   "cell_type": "code",
   "execution_count": 12,
   "metadata": {},
   "outputs": [
    {
     "name": "stdout",
     "output_type": "stream",
     "text": [
      "Choice embedding OK\n",
      "Question embedding OK\n",
      "Theme embedding OK\n",
      "Reply embedding OK\n"
     ]
    }
   ],
   "source": [
    "# Initialize embeddings for different types of nodes\n",
    "# Inicializar embeddings para diferentes tipos de nodos\n",
    "\n",
    "# Initialize embedding for \"Choice\" nodes with support for Spanish strings\n",
    "Choice_embedding = init_node_embedding(\"Choice\", [\"string_es\"])\n",
    "print(\"Choice embedding OK\")  # Print message to indicate successful initialization\n",
    "# Inicializar la incrustación para nodos \"Choice\" con soporte para cadenas en español\n",
    "# Imprimir mensaje para indicar una inicialización exitosa\n",
    "\n",
    "# Initialize embedding for \"Question\" nodes with support for Spanish strings\n",
    "Question_embedding = init_node_embedding(\"Question\", [\"string_es\"])\n",
    "print(\"Question embedding OK\")  # Print message to indicate successful initialization\n",
    "# Inicializar la incrustación para nodos \"Question\" con soporte para cadenas en español\n",
    "# Imprimir mensaje para indicar una inicialización exitosa\n",
    "\n",
    "# Initialize embedding for \"Theme\" nodes with support for Spanish strings\n",
    "Theme_embedding = init_node_embedding(\"Theme\", [\"string_es\"])\n",
    "print(\"Theme embedding OK\")  # Print message to indicate successful initialization\n",
    "# Inicializar la incrustación para nodos \"Theme\" con soporte para cadenas en español\n",
    "# Imprimir mensaje para indicar una inicialización exitosa\n",
    "\n",
    "# Initialize embedding for \"Reply\" nodes with support for Spanish strings\n",
    "Reply_embedding = init_node_embedding(\"Reply\", [\"string_es\"])\n",
    "print(\"Reply embedding OK\")  # Print message to indicate successful initialization\n",
    "# Inicializar la incrustación para nodos \"Reply\" con soporte para cadenas en español\n",
    "# Imprimir mensaje para indicar una inicialización exitosa"
   ]
  },
  {
   "cell_type": "markdown",
   "metadata": {},
   "source": [
    "6.- CALCULO SIMILITUD ENTRE EMBEDDING BBDD Neo4j y QUERY\n",
    "\n",
    "Generaremos una propiedad 'similarity_query' en cada nodo.\n",
    "\n",
    "El valor de esa propiedad sera la similitud entre el vector de la query y el EMBEDDING almacenado en cada nodo.\n",
    "\n",
    "Se actualizara cada vez que se plantee una query nueva."
   ]
  },
  {
   "cell_type": "code",
   "execution_count": 30,
   "metadata": {},
   "outputs": [],
   "source": [
    "# Function to calculate similarity between the query and nodes\n",
    "# Función para calcular la similitud entre la consulta y los nodos\n",
    "def calculate_similarity(tx, input_query):\n",
    "    # Get embeddings for the query\n",
    "    # Obtener representaciones incrustadas (embeddings) para la consulta\n",
    "    query_embedding = embeddings.encode(input_query, **encode_kwargs)\n",
    "\n",
    "    # Obtain information for all nodes\n",
    "    # Obtener información de todos los nodos\n",
    "    result = tx.run(\"\"\"\n",
    "    MATCH (n)\n",
    "    RETURN ID(n) AS node_id, n.NEWembedding AS node_embedding\n",
    "    \"\"\")\n",
    "\n",
    "    queries_to_update = []\n",
    "\n",
    "    for record in result:\n",
    "        node_id = record[\"node_id\"]\n",
    "        node_embedding = record[\"node_embedding\"]\n",
    "\n",
    "        # Calculate cosine similarity between the query and the node\n",
    "        # Calcular la similitud del coseno entre la consulta y el nodo\n",
    "        similarity_score = cosine_similarity([query_embedding], [node_embedding])[0][0]\n",
    "\n",
    "        # Prepare the query to update the node\n",
    "        # Preparar la consulta para actualizar el nodo\n",
    "        queries_to_update.append({\n",
    "            \"node_id\": node_id,\n",
    "            \"score\": similarity_score\n",
    "        })\n",
    "\n",
    "    # Update all nodes in a single transaction\n",
    "    # Actualizar todos los nodos en una sola transacción\n",
    "    for query_data in queries_to_update:\n",
    "        tx.run(\"\"\"\n",
    "        MATCH (n)\n",
    "        WHERE ID(n) = $node_id\n",
    "        SET n.similarity_query = $score\n",
    "        \"\"\", node_id=query_data[\"node_id\"], score=query_data[\"score\"])"
   ]
  },
  {
   "cell_type": "markdown",
   "metadata": {},
   "source": [
    "7.- CALCULO NODOS MAS CERCANOS SEGUN MEDIA SIMILARIDAD INDICADA\n",
    "\n",
    "- calculate_top_similarity_nodes --> Identifica los 5 nodos mas cercanos y lo devuelve en forma de lista "
   ]
  },
  {
   "cell_type": "code",
   "execution_count": 14,
   "metadata": {},
   "outputs": [],
   "source": [
    "# ESTA MODIFICADO EN LA VERSION LIMPIA\n",
    "# Function to calculate the list of closest nodes\n",
    "# Función para calcular la lista de nodos más cercanos\n",
    "def calculate_top_similarity_nodes(tx, input_query):\n",
    "    # Get embeddings for the query\n",
    "    query_embedding = embeddings.encode(input_query, **encode_kwargs)\n",
    "\n",
    "    result = tx.run(\"\"\"\n",
    "    MATCH (n)\n",
    "    RETURN n.node_id AS node_id, n.NEWembedding AS node_embedding, n.similaridadquery AS similarity_score, n.string_es AS node_text\n",
    "    ORDER BY similarity_score DESC\n",
    "    LIMIT 5\n",
    "    \"\"\")\n",
    "\n",
    "    top_nodes = []\n",
    "\n",
    "    for record in result:\n",
    "        node_id = record[\"node_id\"]\n",
    "        node_embedding = record[\"node_embedding\"]\n",
    "        similarity_score = record[\"similarity_score\"]\n",
    "        textoNodo = record[\"node_text\"]\n",
    "\n",
    "        top_nodes.append({\n",
    "            \"node_id\": node_id,\n",
    "            \"node_embedding\": node_embedding,\n",
    "            \"similarity_score\": similarity_score,\n",
    "            \"texto\": textoNodo\n",
    "        })\n",
    "\n",
    "    return top_nodes"
   ]
  },
  {
   "cell_type": "code",
   "execution_count": null,
   "metadata": {},
   "outputs": [],
   "source": []
  },
  {
   "cell_type": "markdown",
   "metadata": {},
   "source": [
    "8.- CLASE PARA CALCULO CAMINOS OPTIMOS\n",
    "\n",
    "Clase para identificar caminos optimos\n",
    "    \n",
    "    find_path -> Dado Nodo de inicio, profundidad maxima de busqueda devuelve lista de información de nodos para los caminos encontrados.\n",
    "    \n",
    "    get_all_themes_string -->  lista de cadenas de todos los Themas de la Neo4j\n",
    "    \n",
    "     get_node_ids_by_theme_string --> Devuelve una lista de IDs de nodos asociados con la cadena de tema proporcionada"
   ]
  },
  {
   "cell_type": "code",
   "execution_count": 15,
   "metadata": {},
   "outputs": [],
   "source": [
    "class GraphPathFinder:\n",
    "    def __init__(self, url, user, password):\n",
    "        # Initialize the GraphPathFinder class with database connection parameters\n",
    "        # Inicializar la clase GraphPathFinder con parámetros de conexión a la base de datos\n",
    "        self.driver = GraphDatabase.driver(url, auth=(user, password))\n",
    "\n",
    "    def close(self):\n",
    "        # Close the database connection\n",
    "        # Cerrar la conexión a la base de datos\n",
    "        self.driver.close()\n",
    "\n",
    "    def find_paths(self, start_node_id, max_depth, external_embedding):\n",
    "        with self.driver.session() as session:\n",
    "            query = \"\"\"\n",
    "            MATCH path = (n {node_id: $start_node_id})-[*1..%s]-(end)\n",
    "            WHERE all(node in nodes(path) WHERE node.similaridadquery >= 0.7)\n",
    "            RETURN [node in nodes(path) | [node.node_id, node.similaridadquery, node.string_es]] AS node_info\n",
    "            ORDER BY reduce(s = 0, n IN nodes(path) | s + n.similaridadquery) DESC\n",
    "            \"\"\" % max_depth\n",
    "            result = session.run(query, start_node_id=start_node_id)\n",
    "            # Return a list of node information for the found paths\n",
    "            # Devolver una lista de información de nodos para los caminos encontrados\n",
    "            return [record[\"node_info\"] for record in result]\n",
    "\n",
    "    def get_all_theme_strings(self):\n",
    "        with self.driver.session() as session:\n",
    "            query = \"\"\"\n",
    "            MATCH (theme:Theme)\n",
    "            RETURN collect(theme.string_es) AS theme_strings\n",
    "            \"\"\"\n",
    "            result = session.run(query)\n",
    "            # Return a list of all theme strings in the database\n",
    "            # Devolver una lista de todas las cadenas de temas en la base de datos\n",
    "            return [record[\"theme_strings\"] for record in result][0]\n",
    "\n",
    "    def get_node_ids_by_theme_string(self, theme_string):\n",
    "        with self.driver.session() as session:\n",
    "            query = \"\"\"\n",
    "            MATCH (node:Theme {string_es: $theme_string})\n",
    "            RETURN collect(node.node_id) AS node_ids\n",
    "            \"\"\"\n",
    "            result = session.run(query, theme_string=theme_string)\n",
    "            # Return a list of node IDs associated with the given theme string\n",
    "            # Devolver una lista de IDs de nodos asociados con la cadena de tema proporcionada\n",
    "            return [record[\"node_ids\"] for record in result][0]"
   ]
  },
  {
   "cell_type": "markdown",
   "metadata": {},
   "source": [
    "9.- PROCESADO NODOS\n",
    "\n",
    "procesar_nodos --> Dado un nodo inicial, una profundidad máxima de nodo, y un número maximo de nodos a extraer nos devuelve la información."
   ]
  },
  {
   "cell_type": "code",
   "execution_count": 16,
   "metadata": {},
   "outputs": [],
   "source": [
    "def procesar_nodos1(finder, start_node_ids, Profund_Maxima_Nodos, n_top_paths, query, clasificacion, external_embedding=None):\n",
    "    \"\"\"\n",
    "    finder --> Clase de analisis caminos\n",
    "    start_nodes_ids --> Lista de Nodos iniciales donde empezar la busqueda\n",
    "    Profund_Maxima_Nodos --> máximo nivel de profundidad de los nodos\n",
    "    n_top_paths --> Numero de caminos a devolver\n",
    "    query --> Consulta del usuario\n",
    "    external_embedding --> A utilizar en el futuro\n",
    "    \"\"\"\n",
    "\n",
    "    resultados = []  # Almacenará los resultados finales\n",
    "\n",
    "    # Itera sobre los nodos iniciales\n",
    "    for start_node_id in start_node_ids:\n",
    "        # Encuentra los caminos desde el nodo inicial\n",
    "        paths = finder.find_paths(start_node_id, Profund_Maxima_Nodos, external_embedding)\n",
    "\n",
    "        # Calcula la media de similaridad y almacena junto con el camino\n",
    "        path_with_mean = []\n",
    "        for path in paths:\n",
    "            if path:\n",
    "                # Calcula la media de la similaridad en el camino\n",
    "                mean_similarity = sum(node[1] for node in path if node[1] is not None) / len(path)\n",
    "                path_with_mean.append((path, mean_similarity))\n",
    "\n",
    "        # Ordena los caminos por la media de similaridad de mayor a menor\n",
    "        path_with_mean.sort(key=lambda x: x[1], reverse=True)\n",
    "\n",
    "        # Guarda la información de los n caminos con mayor media\n",
    "        top_paths = path_with_mean[:n_top_paths]\n",
    "        for path, mean in top_paths:\n",
    "            path_info = [(node[0], node[1]) for node in path]\n",
    "            string_es_values = [node[2] for node in path if node[2] is not None]\n",
    "            max_similarity_node = max(path, key=lambda x: x[1])\n",
    "            max_similarity_node_info = (max_similarity_node[0], max_similarity_node[1], max_similarity_node[2])\n",
    "\n",
    "            resultados.append({\n",
    "                'start_node_id': start_node_id,\n",
    "                'path_info': path_info,\n",
    "                'mean_similarity': mean,\n",
    "                'string_es_values': string_es_values,\n",
    "                'max_similarity_node_info': max_similarity_node_info,\n",
    "                'query': query,\n",
    "                'clasificacion': clasificacion\n",
    "            })\n",
    "\n",
    "    return resultados  # Devuelve los resultados finales"
   ]
  },
  {
   "cell_type": "code",
   "execution_count": 46,
   "metadata": {},
   "outputs": [],
   "source": [
    "# Visualización de resultados formato texto.\n",
    "\n",
    "def mostrar_resultado(resultado, mostrar):\n",
    "    ''' Imprime el resultado de la búsqueda de caminos en la base de datos Neo4j\n",
    "    limitando el número de nodos del camino mostrados\n",
    "    y valores de string_es a mostrar.\n",
    "    El valor límite dado por: 'mostrar'\n",
    "    '''\n",
    "    print(\"ID del Nodo Inicial:\", resultado['start_node_id'])\n",
    "\n",
    "    # Asegurarse de que num_nodos no exceda la longitud de path_info\n",
    "    num_nodos = min(len(resultado['path_info']), mostrar)\n",
    "    print(\"\\nInformación del Camino (mostrando hasta {} nodos):\".format(num_nodos))\n",
    "    for node in resultado['path_info'][:num_nodos]:\n",
    "        print(f\"  Nodo ID: {node[0]}, Similaridad: {node[1]}\")\n",
    "\n",
    "    print(\"\\nMedia de Similaridad:\", resultado['mean_similarity'])\n",
    "\n",
    "    # Asegurarse de que num_valores_string no exceda la longitud de string_es_values\n",
    "    num_valores_string = min(len(resultado['string_es_values']), mostrar)\n",
    "    print(\"\\nValores de string_es (mostrando hasta {} valores):\".format(num_valores_string))\n",
    "    for value in resultado['string_es_values'][:num_valores_string]:\n",
    "        print(f\"  {value}\")\n",
    "\n",
    "    print(\"\\nInformación del Nodo con Máxima Similaridad:\")\n",
    "    max_node_info = resultado['max_similarity_node_info']\n",
    "    print(f\"  Nodo ID: {max_node_info[0]}, Similaridad: {max_node_info[1]}\")\n",
    "    print(f\"  string_es: {max_node_info[2]}\")"
   ]
  },
  {
   "cell_type": "markdown",
   "metadata": {},
   "source": [
    "A.- PROCESO COMPLETO DE ANALISIS EN SECUENCIA"
   ]
  },
  {
   "cell_type": "markdown",
   "metadata": {},
   "source": [
    "A1.- Identificación Mensajes Usuarias disponibles"
   ]
  },
  {
   "cell_type": "code",
   "execution_count": 18,
   "metadata": {},
   "outputs": [],
   "source": [
    "FILEDATOS = '/media/ubuntu/Linux3/02_TFM/TEST_BIBLIOTECA/MODELOS/a.xlsx'\n",
    "\n",
    "import pandas as pd\n",
    "import numpy as np\n",
    "df = pd.read_excel(FILEDATOS)"
   ]
  },
  {
   "cell_type": "code",
   "execution_count": 19,
   "metadata": {},
   "outputs": [],
   "source": [
    "mensajes = df['message'].to_list()\n",
    "mensajes = list(set(mensajes))"
   ]
  },
  {
   "cell_type": "markdown",
   "metadata": {},
   "source": [
    "A2.- GENERACION DE CLASIFICACION MENSAJE USUARIA USANDO LLMs"
   ]
  },
  {
   "cell_type": "code",
   "execution_count": 20,
   "metadata": {},
   "outputs": [],
   "source": [
    "# Carga Modelo Open AI\n",
    "\n",
    "#modelOpenAI = ChatOpenAI(temperature=0, model_name=\"gpt-3.5-turbo\")\n",
    "\n",
    "modelOpenAI = ChatOpenAI(temperature=0)"
   ]
  },
  {
   "cell_type": "code",
   "execution_count": 21,
   "metadata": {},
   "outputs": [
    {
     "name": "stdout",
     "output_type": "stream",
     "text": [
      "Mistral7:\n",
      " input_variables=['categorias', 'texto'] template=\"<s> [INST] You are an expert in breastfeeding.If you don't know the answer, just say that you don't know. The output must be only the category. [/INST] </s> [INST] Question: classify the text: {texto}. Context: The categories for classify are: {categorias}. Answer: [/INST]\"\n",
      "OpenAI:\n",
      " input_variables=['categorias', 'texto'] template='\"Clasifica el siguiente texto en una de las siguientes categorías {categorias}: \\n Texto: {texto}\\nCategoría: '\n"
     ]
    }
   ],
   "source": [
    "# Ejemplo de Prompts condicionales\n",
    "\n",
    "#Ref: https://python.langchain.com/docs/guides/local_llms\n",
    "# Mistral --> https://smith.langchain.com/hub/rlm/rag-prompt-mistral\n",
    "# Llama --> https://smith.langchain.com/hub/rlm/rag-prompt-llama\n",
    "\n",
    "\n",
    "DEFAULT_MISTRAL_SEARCH_PROMPT = PromptTemplate(\n",
    "    input_variables=[\"texto\", \"categorias\"],\n",
    "    template=\"\"\"<s> [INST] You are an expert in breastfeeding.\\\n",
    "If you don't know the answer, just say that you don't know. \\\n",
    "The output must be only the category. [/INST] </s> \\\n",
    "[INST] Question: classify the text: {texto}. \\\n",
    "Context: The categories for classify are: {categorias}. \\\n",
    "Answer: [/INST]\"\"\",\n",
    ")\n",
    "\n",
    "DEFAULT_SEARCH_PROMPT = PromptTemplate(\n",
    "    input_variables=[\"texto\", \"categorias\"],\n",
    "    template=\"\"\"\"Clasifica el siguiente texto en una de las siguientes categorías {categorias}: \\n Texto: {texto}\\nCategoría: \"\"\",\n",
    ")\n",
    "\n",
    "QUESTION_PROMPT_SELECTOR = ConditionalPromptSelector(\n",
    "    default_prompt=DEFAULT_SEARCH_PROMPT,\n",
    "    conditionals=[\n",
    "        (lambda model: (model == llm), DEFAULT_MISTRAL_SEARCH_PROMPT)\n",
    "    ],\n",
    ")\n",
    "\n",
    "\n",
    "prompt2 = QUESTION_PROMPT_SELECTOR.get_prompt(llm)\n",
    "prompt3 = QUESTION_PROMPT_SELECTOR.get_prompt(modelOpenAI)\n",
    "\n",
    "\n",
    "\n",
    "print('Mistral7:\\n', prompt2)\n",
    "\n",
    "print('OpenAI:\\n', prompt3)"
   ]
  },
  {
   "cell_type": "code",
   "execution_count": 22,
   "metadata": {},
   "outputs": [],
   "source": [
    "# Caso Mistral y Llama2\n",
    "\n",
    "chainMistral = prompt2 | llm | StrOutputParser()\n",
    "\n",
    "chainOpenAI = prompt3 | modelOpenAI | StrOutputParser()"
   ]
  },
  {
   "cell_type": "code",
   "execution_count": 23,
   "metadata": {},
   "outputs": [],
   "source": [
    "def clasificar_LLMs(texto, categorias, chain):\n",
    "    '''Función de clasificación\n",
    "    Entrada:\n",
    "        texto -> Conversación Usuaria\n",
    "        categorias --> Lista de categorias donde se ha de clasificar\n",
    "        chain --> Cadena de LangChain\n",
    "    respuesta:\n",
    "        Respuesta del modelo\n",
    "    '''\n",
    "    response = chain.invoke({\"categorias\": categorias, \"texto\": texto})\n",
    "    return response"
   ]
  },
  {
   "cell_type": "code",
   "execution_count": 25,
   "metadata": {},
   "outputs": [],
   "source": [
    "# Mensaje de TEST\n",
    "\n",
    "#entrada = mensajes[0]\n",
    "entrada = 'Hola! Es normal que mi bebé de 6 semanas quiera comer a cada hora en las últimas horas del día? Toma LME. Anoche también lo hizo durante la madrugada. No puedo dormirla entre toma y toma. '"
   ]
  },
  {
   "cell_type": "markdown",
   "metadata": {},
   "source": [
    "CREACION LISTA CON TODAS LAS CATEGORIAS EN BBDD Neo4j"
   ]
  },
  {
   "cell_type": "code",
   "execution_count": 26,
   "metadata": {},
   "outputs": [
    {
     "name": "stdout",
     "output_type": "stream",
     "text": [
      "['LACTANCIA POR ETAPAS', 'Punto Violeta', 'CONCEPTOS BÁSICOS', 'CÓMO PRODUCIR MÁS LECHE', 'SEGUIR PREPARÁNDOME', 'BULTOS EN EL PECHO', '¿TENGO POCA LECHE?', 'Sueño del bebé', 'PRUEBAS DIAGNÓSTICAS', 'MIS SENTIMIENTOS', 'SOBRE MI SALUD', 'PORTEO', 'EXTRACCIÓN DE LECHE', 'COSAS QUE HACE MI BEBÉ', 'Semana Mundial de la Lactancia', 'LACTANCIA MIXTA', 'PAÑALES SUCIOS', 'DOLOR EN EL PECHO', 'BACHES Y CRISIS', 'RELACTAR', '¿PUEDO...?', 'PECHO: FORMA Y TAMAÑO', 'DIFICULTADES DE AGARRE', 'ESTOY ENFERMA', 'LA DONACIÓN DE LECHE', 'ME HE QUEDADO EMBARAZADA', 'EN QUÉ DARLE LA LECHE', 'GUÍA DEL DOLOR AL AMAMANTAR', 'Emociones', 'Cómo gestionar mi mastitis', '¿QUÉ HAGO SI...?', 'LOS PRIMEROS DÍAS', 'INDUCCIÓN', 'ALIMENTOS SÓLIDOS', 'Guía de regalos', 'CONSERVACIÓN', 'A PARTIR DE 6 MESES', 'Preparar mi lactancia', 'GEMELOS, MELLIZOS', 'Coronavirus', 'EMBARAZO: SEGUIR LACTANDO', 'Planifica tu vuelta al trabajo', 'Lactancia artificial', 'DEJAR LA FÓRMULA', 'MI BEBÉ ES PREMATURO', 'Durante mi embarazo', 'Baby Led Weaning', 'MI BEBÉ NO GANA PESO', 'SALUD DE MI BEBÉ', 'EL CAMINO DE LA LECHE', 'SUEÑO Y LACTANCIA', 'DEJAR DE DAR EL PECHO', 'EL DESTETE POR ETAPAS', '¡QUIERO SER DONANTE!', 'Mi embarazo por etapas', 'LA VUELTA AL TRABAJO', 'Visitas y talleres', 'MI BEBÉ MAMA MUCHO', 'PRODUCTOS PARA LA LACTANCIA', 'GRIETAS Y HERIDAS']\n",
      "60\n"
     ]
    }
   ],
   "source": [
    "# Creación de la instancia de GraphPathFinder\n",
    "finder = GraphPathFinder(url, username, password)\n",
    "categorias = finder.get_all_theme_strings()\n",
    "categorias = list(set(categorias))\n",
    "print(categorias)\n",
    "print(len(categorias))"
   ]
  },
  {
   "cell_type": "markdown",
   "metadata": {},
   "source": [
    "IDENTIFICACION DE CLASIFICACION DEL MENSAJE DE LA USUARIA\n",
    "\n",
    "entrada --> Mensaje de entrada\n",
    "\n",
    "categorias --> Lista de todas las categorias identificadas en Neo4j\n",
    "\n",
    "chainOpenAI --> Cadena de analisis con OpenAI"
   ]
  },
  {
   "cell_type": "code",
   "execution_count": 27,
   "metadata": {},
   "outputs": [],
   "source": [
    "salidaOpen= clasificar_LLMs(entrada, categorias, chainOpenAI)"
   ]
  },
  {
   "cell_type": "markdown",
   "metadata": {},
   "source": [
    "IDENTIFICACION NODO CON MAYOR SIMILITUD"
   ]
  },
  {
   "cell_type": "code",
   "execution_count": 28,
   "metadata": {},
   "outputs": [
    {
     "name": "stdout",
     "output_type": "stream",
     "text": [
      "['t15']\n",
      "1\n"
     ]
    }
   ],
   "source": [
    "# Creación de la instancia de GraphPathFinder\n",
    "finder = GraphPathFinder(url, username, password)\n",
    "ids = finder.get_node_ids_by_theme_string(salidaOpen)\n",
    "ids = list(set(ids))\n",
    "print(ids)\n",
    "print(len(ids))"
   ]
  },
  {
   "cell_type": "markdown",
   "metadata": {},
   "source": [
    "Procesado para varios mensajes (Modo TEST)"
   ]
  },
  {
   "cell_type": "code",
   "execution_count": 31,
   "metadata": {},
   "outputs": [
    {
     "name": "stdout",
     "output_type": "stream",
     "text": [
      "MENSAJE: Y en caso que la semana que viene gane poco peso, (otros 40 gramos) seguiría siendo normal?\n",
      "\n",
      "De hecho, hasta cuando sería normal?\n",
      "\n",
      "\n",
      "-------------------------\n",
      "Similitud del coseno calculada y asignada en la base de datos Neo4j para el query: Y en caso que la semana que viene gane poco peso, (otros 40 gramos) seguiría siendo normal?\n",
      "\n",
      "De hecho, hasta cuando sería normal?\n",
      "\n",
      "\n",
      "ID del Nodo Inicial: t14\n",
      "\n",
      "Información del Camino (mostrando hasta 4 nodos):\n",
      "  Nodo ID: t14, Similaridad: 0.8499402002327563\n",
      "  Nodo ID: q751, Similaridad: 0.8549967665264577\n",
      "  Nodo ID: c3211, Similaridad: 0.8327147471974291\n",
      "  Nodo ID: r2315, Similaridad: 0.901515099613444\n",
      "\n",
      "Media de Similaridad: 0.8597917033925218\n",
      "\n",
      "Valores de string_es (mostrando hasta 4 valores):\n",
      "  MI BEBÉ NO GANA PESO\n",
      "  Una de la situaciones más agobiantes es que el bebé no gane peso, ¿en qué te puedo ayudar?\n",
      "  ¿Mi leche no alimenta?\n",
      "  \n",
      " La evidencia científica ha demostrado que no existen leches de mala calidad. Puedes recibir muchos comentarios de este tipo si tu bebé no engorda o es un bebé de medidas pequeñas, y sin duda, esto puede hacer que dudes de la calidad de tu leche o que a tu leche le falte algún elemento. \n",
      " Puedes estar tranquila, tu leche es perfecta para tu bebé y si quieres, hay que buscar las causas por las que no esté ganando peso de manera óptima.\n",
      "\n",
      "Información del Nodo con Máxima Similaridad:\n",
      "  Nodo ID: r2315, Similaridad: 0.901515099613444\n",
      "  string_es: \n",
      " La evidencia científica ha demostrado que no existen leches de mala calidad. Puedes recibir muchos comentarios de este tipo si tu bebé no engorda o es un bebé de medidas pequeñas, y sin duda, esto puede hacer que dudes de la calidad de tu leche o que a tu leche le falte algún elemento. \n",
      " Puedes estar tranquila, tu leche es perfecta para tu bebé y si quieres, hay que buscar las causas por las que no esté ganando peso de manera óptima.\n"
     ]
    }
   ],
   "source": [
    "for mensaje in mensajes[:1]:\n",
    "    print(\"MENSAJE:\", mensaje)\n",
    "    print(\"-------------------------\")\n",
    "    # Query que deseas comparar con las propiedades de los nodos\n",
    "    query = mensaje\n",
    "    # Conexión a la base de datos Neo4j y cálculo de la similitud del coseno\n",
    "    with GraphDatabase.driver(url, auth=(username, password)) as driver:\n",
    "        embeddings = SentenceTransformer(model_name, **model_kwargs)\n",
    "\n",
    "        with driver.session() as session:\n",
    "            session.execute_write(calculate_similarity, query)\n",
    "\n",
    "    print(f\"Similitud del coseno calculada y asignada en la base de datos Neo4j para el query: {query}\")\n",
    "\n",
    "    # Identificación de los temas de la pregunta\n",
    "    salidaOpen= clasificar_LLMs(mensaje, categorias, chainOpenAI)\n",
    "\n",
    "    # Creación de la instancia de GraphPathFinder\n",
    "    finder = GraphPathFinder(url, username, password)\n",
    "    ids = finder.get_node_ids_by_theme_string(salidaOpen)\n",
    "\n",
    "    # Lista de identificadores de nodo iniciales\n",
    "    start_node_ids = ids  # Lista de nodos iniciales\n",
    "\n",
    "    # Profundidad máxima de búsqueda\n",
    "    Profund_Maxima_Nodos = 7\n",
    "\n",
    "    # Número de caminos con mayor media de similaridad a mostrar\n",
    "    n_top_paths = 5\n",
    "\n",
    "    # Llamada a la función procesar_nodos\n",
    "    resultados = procesar_nodos1(finder, start_node_ids, Profund_Maxima_Nodos, n_top_paths, mensaje, salidaOpen)\n",
    "\n",
    "    mostrar_resultado(resultados[0], Profund_Maxima_Nodos)\n",
    "    # Imprimir resultados\n",
    "    #for resultado in resultados:\n",
    "    #    print(resultado)\n",
    "\n",
    "    # Cerrar la conexión\n",
    "    finder.close()"
   ]
  },
  {
   "cell_type": "markdown",
   "metadata": {},
   "source": [
    "RESUMEN RESULTADOS"
   ]
  },
  {
   "cell_type": "code",
   "execution_count": 32,
   "metadata": {},
   "outputs": [
    {
     "name": "stdout",
     "output_type": "stream",
     "text": [
      "Pregunta: Y en caso que la semana que viene gane poco peso, (otros 40 gramos) seguiría siendo normal?\n",
      "\n",
      "De hecho, hasta cuando sería normal?\n",
      "\n",
      " \n",
      "\n"
     ]
    }
   ],
   "source": [
    "# PREGUNTAS DE PRUEBA\n",
    "print(\"Pregunta:\", query, \"\\n\")"
   ]
  },
  {
   "cell_type": "code",
   "execution_count": 33,
   "metadata": {},
   "outputs": [
    {
     "name": "stdout",
     "output_type": "stream",
     "text": [
      "Tematica: MI BEBÉ NO GANA PESO\n"
     ]
    }
   ],
   "source": [
    "# Tematica identificada\n",
    "print('Tematica:', salidaOpen)"
   ]
  },
  {
   "cell_type": "code",
   "execution_count": 34,
   "metadata": {},
   "outputs": [
    {
     "name": "stdout",
     "output_type": "stream",
     "text": [
      "Nodo: ['t14']\n"
     ]
    }
   ],
   "source": [
    "# Nodo de tematica identificada\n",
    "print('Nodo:', ids)"
   ]
  },
  {
   "cell_type": "code",
   "execution_count": 35,
   "metadata": {},
   "outputs": [
    {
     "name": "stdout",
     "output_type": "stream",
     "text": [
      "Nodos camino identificado: ['t14', 'q751', 'c3211', 'r2315']\n",
      "Nodos camino identificado: ['t14', 'q356', 'c2090', 'r1157']\n",
      "Nodos camino identificado: ['t14', 'q751', 'c3208', 'r2312']\n",
      "Nodos camino identificado: ['t14', 'q350', 'c2418', 'q180', 'c2408']\n",
      "Nodos camino identificado: ['t14', 'q350', 'c2418', 'q180', 'c2417', 'r1446']\n"
     ]
    }
   ],
   "source": [
    "# Nodos con mayor similaridad\n",
    "for t in range(0, n_top_paths):\n",
    "    tuplas = resultados[t]['path_info']\n",
    "    # Extracción del primer elemento de cada tupla\n",
    "    primeros_elementos= [tupla[0] for tupla in tuplas]\n",
    "    # Mostrar la nueva lista\n",
    "    print('Nodos camino identificado:', primeros_elementos)"
   ]
  },
  {
   "cell_type": "code",
   "execution_count": 36,
   "metadata": {},
   "outputs": [
    {
     "name": "stdout",
     "output_type": "stream",
     "text": [
      "Numero de cadenas: 5\n",
      "Cadena:  0 Similaridad Media:  0.8597917033925218 \n",
      "\n",
      "Pregunta:  Y en caso que la semana que viene gane poco peso, (otros 40 gramos) seguiría siendo normal?\n",
      "\n",
      "De hecho, hasta cuando sería normal?\n",
      "\n",
      "\n",
      "0 : (Nodo: t14 ) MI BEBÉ NO GANA PESO\n",
      "1 : (Nodo: q751 ) Una de la situaciones más agobiantes es que el bebé no gane peso, ¿en qué te puedo ayudar?\n",
      "2 : (Nodo: c3211 ) ¿Mi leche no alimenta?\n",
      "3 : (Nodo: r2315 ) \n",
      " La evidencia científica ha demostrado que no existen leches de mala calidad. Puedes recibir muchos comentarios de este tipo si tu bebé no engorda o es un bebé de medidas pequeñas, y sin duda, esto puede hacer que dudes de la calidad de tu leche o que a tu leche le falte algún elemento. \n",
      " Puedes estar tranquila, tu leche es perfecta para tu bebé y si quieres, hay que buscar las causas por las que no esté ganando peso de manera óptima.\n",
      "-------------------------\n",
      "Cadena:  1 Similaridad Media:  0.8578926118955105 \n",
      "\n",
      "Pregunta:  Y en caso que la semana que viene gane poco peso, (otros 40 gramos) seguiría siendo normal?\n",
      "\n",
      "De hecho, hasta cuando sería normal?\n",
      "\n",
      "\n",
      "0 : (Nodo: t14 ) MI BEBÉ NO GANA PESO\n",
      "1 : (Nodo: q356 ) ¿Por qué crees que tu bebé se ha estancado?\n",
      "2 : (Nodo: c2090 ) No ha recuperado el peso del nacimiento\n",
      "3 : (Nodo: r1157 ) \n",
      " En las primeras 6 semanas de vida, los bebés deberían ganar un mínimo de 20 gramos al día (idealmente 30) , lo que se traduce en 140 gramos por semana. \n",
      " Para ayudar a tu bebé a conseguir el peso óptimo, te proponemos que sigas las siguientes pautas: \n",
      " Te recordamos que la lactancia funciona a demanda, es decir, puedes ofrecerle el pecho cada vez que consideres que el bebé quiere comer, ya que la leche materna se digiere en solo media hora. \n",
      " Si no pide pecho muy a menudo, marca la demanda del bebé y no dejes que duerma demasiado: le puedes dar el pecho cada 2 horas de día y cada 3 horas de noche como mínimo. \n",
      " Comprime el pecho mientras el bebé mama para ayudarle a conseguir la mayor cantidad de leche posible. \n",
      " Suplementa si pierde peso o si no lo gana. \n",
      " Recuerda que la primera opción para suplementar es tu leche. Si no te puedes sacar leche, se valorará suplementar con leche artificial, siempre con métodos poco invasivos. \n",
      " No dudes en acudir a tu comadrona, IBCLC o grupo de apoyo a la lactancia, donde puedan valorar una toma de tu bebé, su agarre al pecho y vuestra postura para amamantar. \n",
      " LactApp te ofrece recursos para averiguar por qué tu bebé no aumenta de peso de manera efectiva. \n",
      " \n",
      " *Si le ofreces leche artificial, es importante que vayas valorando al bebé ya que la leche artificial es potencialmente alergénica.\n",
      "-------------------------\n",
      "Cadena:  2 Similaridad Media:  0.8557304744315629 \n",
      "\n",
      "Pregunta:  Y en caso que la semana que viene gane poco peso, (otros 40 gramos) seguiría siendo normal?\n",
      "\n",
      "De hecho, hasta cuando sería normal?\n",
      "\n",
      "\n",
      "0 : (Nodo: t14 ) MI BEBÉ NO GANA PESO\n",
      "1 : (Nodo: q751 ) Una de la situaciones más agobiantes es que el bebé no gane peso, ¿en qué te puedo ayudar?\n",
      "2 : (Nodo: c3208 ) Aumento habitual de peso\n",
      "3 : (Nodo: r2312 ) \n",
      " El peso es algo que preocupa mucho a los padres y que, sin duda, debe ser valorado a fondo por el pediatra en caso de ser necesario. \n",
      " El aumento de peso de los bebés depende de la edad que tengan. Los primeros meses ganan más peso que al llegar al año de vida, donde su crecimiento se estanca de manera temporal \n",
      " Los primeros días de vida, los bebés pierden de un 7 a un 10% de su peso. A partir de los 5 días, empiezan a ganar peso y recuperan el peso del nacimiento sobre los 15 días. A partir de este punto, el aumento aproximado de peso para los bebés amamantados es el siguiente: \n",
      " De 0 a 3 meses: de 20 a 30 gramos por día\n",
      " (140- 210g por semana). \n",
      " De 3 a 6 meses : unos 20 gramos por día\n",
      " (140g por semana). \n",
      " De 6 a 12 meses : unos 15 gramos por día\n",
      " (105g por semana). \n",
      " Cabe recordar que los bebés no ganan peso de manera exacta cada día, por lo que hay semanas que ganan más y otras menos. Lo importante es ir evaluando su crecimiento –si no hay dificultades– de manera mensual. \n",
      " También nos puede servir para evaluar el crecimiento esperado en los bebés si sabemos que deben doblar el peso del nacimiento entre los 4-6 meses y triplicarlo al año. \n",
      " En el caso de que el bebé no aumente de peso de la manera esperada, es necesario buscar las causas y suplementar al bebé, recordando que la primera opción es siempre leche materna extraída.\n",
      "-------------------------\n",
      "Cadena:  3 Similaridad Media:  0.8555260770625667 \n",
      "\n",
      "Pregunta:  Y en caso que la semana que viene gane poco peso, (otros 40 gramos) seguiría siendo normal?\n",
      "\n",
      "De hecho, hasta cuando sería normal?\n",
      "\n",
      "\n",
      "0 : (Nodo: t14 ) MI BEBÉ NO GANA PESO\n",
      "1 : (Nodo: q350 ) Mi bebé...\n",
      "2 : (Nodo: c2418 ) Hasta ahora engordaba y, de repente, se ha estancado\n",
      "3 : (Nodo: q180 ) En 24 horas, ¿cuántas veces le das el pecho?\n",
      "4 : (Nodo: c2408 ) Mi bebé ha perdido más de un 10% del peso\n",
      "-------------------------\n",
      "Cadena:  4 Similaridad Media:  0.854995644629663 \n",
      "\n",
      "Pregunta:  Y en caso que la semana que viene gane poco peso, (otros 40 gramos) seguiría siendo normal?\n",
      "\n",
      "De hecho, hasta cuando sería normal?\n",
      "\n",
      "\n",
      "0 : (Nodo: t14 ) MI BEBÉ NO GANA PESO\n",
      "1 : (Nodo: q350 ) Mi bebé...\n",
      "2 : (Nodo: c2418 ) Hasta ahora engordaba y, de repente, se ha estancado\n",
      "3 : (Nodo: q180 ) En 24 horas, ¿cuántas veces le das el pecho?\n",
      "4 : (Nodo: c2417 ) No las puedo o no las sé contar (no se suelta del pecho)\n",
      "5 : (Nodo: r1446 ) \n",
      " Los bebés deberían realizar un mínimo de 8 a 12 tomas en 24 horas. Durante las primeras semanas de vida, los bebés necesitan mucho rato para completar una toma: se cansan, hacen pausas, se relajan... hasta que sueltan el pecho por sí mismos. \n",
      " A los tres meses aproximadamente, la duración de las tomas se reduce. \n",
      " Si un bebé nunca suelta el pecho por sí mismo, es necesario revisar ciertos aspectos que puedan afectar la capacidad del bebé para conseguir la leche que necesita: \n",
      " Hasta los 3 meses, es necesario revisar la postura y el agarre del bebé al pecho. \n",
      " Aunque no hayas sentido nunca dolor al amamantar, revisa el frenillo lingual de tu bebé. \n",
      " Es posible que una infección en la glándula mamaria, el consumo de algún medicamento o una enfermedad de la madre hayan causado una bajada de producción de leche. \n",
      " En LactApp, podrás ampliar la información sobre estas posibles causas.\n",
      "-------------------------\n"
     ]
    }
   ],
   "source": [
    "# CADENA TEXTOS\n",
    "print('Numero de cadenas:', n_top_paths)\n",
    "# Iterar sobre diferentes cadenas identificadas\n",
    "for n in range(0, n_top_paths):\n",
    "    print('Cadena: ',n, \"Similaridad Media: \",resultados[n]['mean_similarity'], '\\n')\n",
    "    print(\"Pregunta: \", query)\n",
    "    for t, texto in enumerate(resultados[n]['string_es_values']):\n",
    "        tuplas = resultados[n]['path_info']\n",
    "        # Extracción del primer elemento de cada tupla\n",
    "        primeros_elementos= [tupla[0] for tupla in tuplas]\n",
    "        print(t,': (Nodo:', primeros_elementos[t],')', texto)\n",
    "    print('-------------------------')\n"
   ]
  },
  {
   "cell_type": "code",
   "execution_count": 37,
   "metadata": {},
   "outputs": [
    {
     "name": "stdout",
     "output_type": "stream",
     "text": [
      "Similaridad: [0.8499402002327563, 0.8431711646431839, 0.8497322100265694, 0.8705979111346296, 0.8345551591594068, 0.8819772225814323]\n"
     ]
    }
   ],
   "source": [
    "# Extracción del segundo elemento de cada tupla\n",
    "segundos_elementos= [tupla[1] for tupla in tuplas]\n",
    "print('Similaridad:', segundos_elementos) "
   ]
  },
  {
   "cell_type": "code",
   "execution_count": 38,
   "metadata": {},
   "outputs": [
    {
     "name": "stdout",
     "output_type": "stream",
     "text": [
      "Similaridad media: 0.8597917033925218\n"
     ]
    }
   ],
   "source": [
    "# Similaridad media\n",
    "print('Similaridad media:', resultados[0]['mean_similarity'])"
   ]
  },
  {
   "cell_type": "code",
   "execution_count": 39,
   "metadata": {},
   "outputs": [
    {
     "name": "stdout",
     "output_type": "stream",
     "text": [
      "Texto Nodos: ['MI BEBÉ NO GANA PESO', 'Una de la situaciones más agobiantes es que el bebé no gane peso, ¿en qué te puedo ayudar?', '¿Mi leche no alimenta?', '\\n La evidencia científica ha demostrado que no existen leches de mala calidad. Puedes recibir muchos comentarios de este tipo si tu bebé no engorda o es un bebé de medidas pequeñas, y sin duda, esto puede hacer que dudes de la calidad de tu leche o que a tu leche le falte algún elemento. \\n Puedes estar tranquila, tu leche es perfecta para tu bebé y si quieres, hay que buscar las causas por las que no esté ganando peso de manera óptima.']\n"
     ]
    }
   ],
   "source": [
    "# Valores de string_es\n",
    "print('Texto Nodos:', resultados[0]['string_es_values'])"
   ]
  },
  {
   "cell_type": "markdown",
   "metadata": {},
   "source": [
    "SALIDAS EN FORMATO JSON\n",
    "\n",
    "El objetivo es poder interactuar en la aplicacion WEB"
   ]
  },
  {
   "cell_type": "code",
   "execution_count": 40,
   "metadata": {},
   "outputs": [
    {
     "name": "stdout",
     "output_type": "stream",
     "text": [
      "[\n",
      "    {\n",
      "        \"Cadena\": 0,\n",
      "        \"Similaridad_Media\": 0.8597917033925218,\n",
      "        \"Pregunta\": \"Y en caso que la semana que viene gane poco peso, (otros 40 gramos) seguiría siendo normal?\\n\\nDe hecho, hasta cuando sería normal?\\n\\n\",\n",
      "        \"Nodos_Textos\": [\n",
      "            {\n",
      "                \"Nodo\": \"t14\",\n",
      "                \"Similaridad\": 0.8499402002327563,\n",
      "                \"Texto\": \"MI BEBÉ NO GANA PESO\"\n",
      "            },\n",
      "            {\n",
      "                \"Nodo\": \"q751\",\n",
      "                \"Similaridad\": 0.8549967665264577,\n",
      "                \"Texto\": \"Una de la situaciones más agobiantes es que el bebé no gane peso, ¿en qué te puedo ayudar?\"\n",
      "            },\n",
      "            {\n",
      "                \"Nodo\": \"c3211\",\n",
      "                \"Similaridad\": 0.8327147471974291,\n",
      "                \"Texto\": \"¿Mi leche no alimenta?\"\n",
      "            },\n",
      "            {\n",
      "                \"Nodo\": \"r2315\",\n",
      "                \"Similaridad\": 0.901515099613444,\n",
      "                \"Texto\": \"\\n La evidencia científica ha demostrado que no existen leches de mala calidad. Puedes recibir muchos comentarios de este tipo si tu bebé no engorda o es un bebé de medidas pequeñas, y sin duda, esto puede hacer que dudes de la calidad de tu leche o que a tu leche le falte algún elemento. \\n Puedes estar tranquila, tu leche es perfecta para tu bebé y si quieres, hay que buscar las causas por las que no esté ganando peso de manera óptima.\"\n",
      "            }\n",
      "        ]\n",
      "    },\n",
      "    {\n",
      "        \"Cadena\": 1,\n",
      "        \"Similaridad_Media\": 0.8578926118955105,\n",
      "        \"Pregunta\": \"Y en caso que la semana que viene gane poco peso, (otros 40 gramos) seguiría siendo normal?\\n\\nDe hecho, hasta cuando sería normal?\\n\\n\",\n",
      "        \"Nodos_Textos\": [\n",
      "            {\n",
      "                \"Nodo\": \"t14\",\n",
      "                \"Similaridad\": 0.8499402002327563,\n",
      "                \"Texto\": \"MI BEBÉ NO GANA PESO\"\n",
      "            },\n",
      "            {\n",
      "                \"Nodo\": \"q356\",\n",
      "                \"Similaridad\": 0.8314465445860111,\n",
      "                \"Texto\": \"¿Por qué crees que tu bebé se ha estancado?\"\n",
      "            },\n",
      "            {\n",
      "                \"Nodo\": \"c2090\",\n",
      "                \"Similaridad\": 0.8516625336796214,\n",
      "                \"Texto\": \"No ha recuperado el peso del nacimiento\"\n",
      "            },\n",
      "            {\n",
      "                \"Nodo\": \"r1157\",\n",
      "                \"Similaridad\": 0.8985211690836529,\n",
      "                \"Texto\": \"\\n En las primeras 6 semanas de vida, los bebés deberían ganar un mínimo de 20 gramos al día (idealmente 30) , lo que se traduce en 140 gramos por semana. \\n Para ayudar a tu bebé a conseguir el peso óptimo, te proponemos que sigas las siguientes pautas: \\n Te recordamos que la lactancia funciona a demanda, es decir, puedes ofrecerle el pecho cada vez que consideres que el bebé quiere comer, ya que la leche materna se digiere en solo media hora. \\n Si no pide pecho muy a menudo, marca la demanda del bebé y no dejes que duerma demasiado: le puedes dar el pecho cada 2 horas de día y cada 3 horas de noche como mínimo. \\n Comprime el pecho mientras el bebé mama para ayudarle a conseguir la mayor cantidad de leche posible. \\n Suplementa si pierde peso o si no lo gana. \\n Recuerda que la primera opción para suplementar es tu leche. Si no te puedes sacar leche, se valorará suplementar con leche artificial, siempre con métodos poco invasivos. \\n No dudes en acudir a tu comadrona, IBCLC o grupo de apoyo a la lactancia, donde puedan valorar una toma de tu bebé, su agarre al pecho y vuestra postura para amamantar. \\n LactApp te ofrece recursos para averiguar por qué tu bebé no aumenta de peso de manera efectiva. \\n \\n *Si le ofreces leche artificial, es importante que vayas valorando al bebé ya que la leche artificial es potencialmente alergénica.\"\n",
      "            }\n",
      "        ]\n",
      "    },\n",
      "    {\n",
      "        \"Cadena\": 2,\n",
      "        \"Similaridad_Media\": 0.8557304744315629,\n",
      "        \"Pregunta\": \"Y en caso que la semana que viene gane poco peso, (otros 40 gramos) seguiría siendo normal?\\n\\nDe hecho, hasta cuando sería normal?\\n\\n\",\n",
      "        \"Nodos_Textos\": [\n",
      "            {\n",
      "                \"Nodo\": \"t14\",\n",
      "                \"Similaridad\": 0.8499402002327563,\n",
      "                \"Texto\": \"MI BEBÉ NO GANA PESO\"\n",
      "            },\n",
      "            {\n",
      "                \"Nodo\": \"q751\",\n",
      "                \"Similaridad\": 0.8549967665264577,\n",
      "                \"Texto\": \"Una de la situaciones más agobiantes es que el bebé no gane peso, ¿en qué te puedo ayudar?\"\n",
      "            },\n",
      "            {\n",
      "                \"Nodo\": \"c3208\",\n",
      "                \"Similaridad\": 0.8352627353808679,\n",
      "                \"Texto\": \"Aumento habitual de peso\"\n",
      "            },\n",
      "            {\n",
      "                \"Nodo\": \"r2312\",\n",
      "                \"Similaridad\": 0.8827221955861697,\n",
      "                \"Texto\": \"\\n El peso es algo que preocupa mucho a los padres y que, sin duda, debe ser valorado a fondo por el pediatra en caso de ser necesario. \\n El aumento de peso de los bebés depende de la edad que tengan. Los primeros meses ganan más peso que al llegar al año de vida, donde su crecimiento se estanca de manera temporal \\n Los primeros días de vida, los bebés pierden de un 7 a un 10% de su peso. A partir de los 5 días, empiezan a ganar peso y recuperan el peso del nacimiento sobre los 15 días. A partir de este punto, el aumento aproximado de peso para los bebés amamantados es el siguiente: \\n De 0 a 3 meses: de 20 a 30 gramos por día\\n (140- 210g por semana). \\n De 3 a 6 meses : unos 20 gramos por día\\n (140g por semana). \\n De 6 a 12 meses : unos 15 gramos por día\\n (105g por semana). \\n Cabe recordar que los bebés no ganan peso de manera exacta cada día, por lo que hay semanas que ganan más y otras menos. Lo importante es ir evaluando su crecimiento –si no hay dificultades– de manera mensual. \\n También nos puede servir para evaluar el crecimiento esperado en los bebés si sabemos que deben doblar el peso del nacimiento entre los 4-6 meses y triplicarlo al año. \\n En el caso de que el bebé no aumente de peso de la manera esperada, es necesario buscar las causas y suplementar al bebé, recordando que la primera opción es siempre leche materna extraída.\"\n",
      "            }\n",
      "        ]\n",
      "    }\n",
      "]\n"
     ]
    }
   ],
   "source": [
    "import json\n",
    "\n",
    "# CADENA TEXTOS\n",
    "n_top_paths = 3  # Cambia esto según tu necesidad\n",
    "\n",
    "# Crear una lista para almacenar los datos de salida\n",
    "output_data = []\n",
    "\n",
    "# Iterar sobre diferentes cadenas identificadas\n",
    "for n in range(0, n_top_paths):\n",
    "    cadena_data = {\n",
    "        'Cadena': n,\n",
    "        'Similaridad_Media': resultados[n]['mean_similarity'],\n",
    "        'Pregunta': resultados[n]['query'],\n",
    "        'Nodos_Textos': []\n",
    "    }\n",
    "\n",
    "    for t, texto in enumerate(resultados[n]['string_es_values']):\n",
    "        tuplas = resultados[n]['path_info']\n",
    "        primeros_elementos = [tupla[0] for tupla in tuplas]\n",
    "        segundos_elementos = [tupla[1] for tupla in tuplas]\n",
    "        nodo_texto = {\n",
    "            'Nodo': primeros_elementos[t],\n",
    "            'Similaridad': segundos_elementos[t],\n",
    "            'Texto': texto\n",
    "        }\n",
    "        cadena_data['Nodos_Textos'].append(nodo_texto)\n",
    "\n",
    "    output_data.append(cadena_data)\n",
    "\n",
    "# Serializar los datos de salida como JSON\n",
    "json_output = json.dumps(output_data, ensure_ascii=False, indent=4)\n",
    "\n",
    "# Imprimir la salida JSON\n",
    "print(json_output)"
   ]
  },
  {
   "cell_type": "code",
   "execution_count": 41,
   "metadata": {},
   "outputs": [
    {
     "name": "stdout",
     "output_type": "stream",
     "text": [
      "[\n",
      "    {\n",
      "        \"Cadena\": 0,\n",
      "        \"Similaridad_Media\": 0.8597917033925218,\n",
      "        \"Pregunta\": \"Y en caso que la semana que viene gane poco peso, (otros 40 gramos) seguiría siendo normal?\\n\\nDe hecho, hasta cuando sería normal?\\n\\n\",\n",
      "        \"Nodos_Textos\": [\n",
      "            {\n",
      "                \"Nodo\": \"t14\",\n",
      "                \"Similaridad\": 0.8499402002327563,\n",
      "                \"Texto\": \"MI BEBÉ NO GANA PESO\"\n",
      "            },\n",
      "            {\n",
      "                \"Nodo\": \"q751\",\n",
      "                \"Similaridad\": 0.8549967665264577,\n",
      "                \"Texto\": \"Una de la situaciones más agobiantes es que el bebé no gane peso, ¿en qué te puedo ayudar?\"\n",
      "            },\n",
      "            {\n",
      "                \"Nodo\": \"c3211\",\n",
      "                \"Similaridad\": 0.8327147471974291,\n",
      "                \"Texto\": \"¿Mi leche no alimenta?\"\n",
      "            },\n",
      "            {\n",
      "                \"Nodo\": \"r2315\",\n",
      "                \"Similaridad\": 0.901515099613444,\n",
      "                \"Texto\": \"\\n La evidencia científica ha demostrado que no existen leches de mala calidad. Puedes recibir muchos comentarios de este tipo si tu bebé no engorda o es un bebé de medidas pequeñas, y sin duda, esto puede hacer que dudes de la calidad de tu leche o que a tu leche le falte algún elemento. \\n Puedes estar tranquila, tu leche es perfecta para tu bebé y si quieres, hay que buscar las causas por las que no esté ganando peso de manera óptima.\"\n",
      "            }\n",
      "        ]\n",
      "    },\n",
      "    {\n",
      "        \"Cadena\": 1,\n",
      "        \"Similaridad_Media\": 0.8578926118955105,\n",
      "        \"Pregunta\": \"Y en caso que la semana que viene gane poco peso, (otros 40 gramos) seguiría siendo normal?\\n\\nDe hecho, hasta cuando sería normal?\\n\\n\",\n",
      "        \"Nodos_Textos\": [\n",
      "            {\n",
      "                \"Nodo\": \"t14\",\n",
      "                \"Similaridad\": 0.8499402002327563,\n",
      "                \"Texto\": \"MI BEBÉ NO GANA PESO\"\n",
      "            },\n",
      "            {\n",
      "                \"Nodo\": \"q356\",\n",
      "                \"Similaridad\": 0.8314465445860111,\n",
      "                \"Texto\": \"¿Por qué crees que tu bebé se ha estancado?\"\n",
      "            },\n",
      "            {\n",
      "                \"Nodo\": \"c2090\",\n",
      "                \"Similaridad\": 0.8516625336796214,\n",
      "                \"Texto\": \"No ha recuperado el peso del nacimiento\"\n",
      "            },\n",
      "            {\n",
      "                \"Nodo\": \"r1157\",\n",
      "                \"Similaridad\": 0.8985211690836529,\n",
      "                \"Texto\": \"\\n En las primeras 6 semanas de vida, los bebés deberían ganar un mínimo de 20 gramos al día (idealmente 30) , lo que se traduce en 140 gramos por semana. \\n Para ayudar a tu bebé a conseguir el peso óptimo, te proponemos que sigas las siguientes pautas: \\n Te recordamos que la lactancia funciona a demanda, es decir, puedes ofrecerle el pecho cada vez que consideres que el bebé quiere comer, ya que la leche materna se digiere en solo media hora. \\n Si no pide pecho muy a menudo, marca la demanda del bebé y no dejes que duerma demasiado: le puedes dar el pecho cada 2 horas de día y cada 3 horas de noche como mínimo. \\n Comprime el pecho mientras el bebé mama para ayudarle a conseguir la mayor cantidad de leche posible. \\n Suplementa si pierde peso o si no lo gana. \\n Recuerda que la primera opción para suplementar es tu leche. Si no te puedes sacar leche, se valorará suplementar con leche artificial, siempre con métodos poco invasivos. \\n No dudes en acudir a tu comadrona, IBCLC o grupo de apoyo a la lactancia, donde puedan valorar una toma de tu bebé, su agarre al pecho y vuestra postura para amamantar. \\n LactApp te ofrece recursos para averiguar por qué tu bebé no aumenta de peso de manera efectiva. \\n \\n *Si le ofreces leche artificial, es importante que vayas valorando al bebé ya que la leche artificial es potencialmente alergénica.\"\n",
      "            }\n",
      "        ]\n",
      "    },\n",
      "    {\n",
      "        \"Cadena\": 2,\n",
      "        \"Similaridad_Media\": 0.8557304744315629,\n",
      "        \"Pregunta\": \"Y en caso que la semana que viene gane poco peso, (otros 40 gramos) seguiría siendo normal?\\n\\nDe hecho, hasta cuando sería normal?\\n\\n\",\n",
      "        \"Nodos_Textos\": [\n",
      "            {\n",
      "                \"Nodo\": \"t14\",\n",
      "                \"Similaridad\": 0.8499402002327563,\n",
      "                \"Texto\": \"MI BEBÉ NO GANA PESO\"\n",
      "            },\n",
      "            {\n",
      "                \"Nodo\": \"q751\",\n",
      "                \"Similaridad\": 0.8549967665264577,\n",
      "                \"Texto\": \"Una de la situaciones más agobiantes es que el bebé no gane peso, ¿en qué te puedo ayudar?\"\n",
      "            },\n",
      "            {\n",
      "                \"Nodo\": \"c3208\",\n",
      "                \"Similaridad\": 0.8352627353808679,\n",
      "                \"Texto\": \"Aumento habitual de peso\"\n",
      "            },\n",
      "            {\n",
      "                \"Nodo\": \"r2312\",\n",
      "                \"Similaridad\": 0.8827221955861697,\n",
      "                \"Texto\": \"\\n El peso es algo que preocupa mucho a los padres y que, sin duda, debe ser valorado a fondo por el pediatra en caso de ser necesario. \\n El aumento de peso de los bebés depende de la edad que tengan. Los primeros meses ganan más peso que al llegar al año de vida, donde su crecimiento se estanca de manera temporal \\n Los primeros días de vida, los bebés pierden de un 7 a un 10% de su peso. A partir de los 5 días, empiezan a ganar peso y recuperan el peso del nacimiento sobre los 15 días. A partir de este punto, el aumento aproximado de peso para los bebés amamantados es el siguiente: \\n De 0 a 3 meses: de 20 a 30 gramos por día\\n (140- 210g por semana). \\n De 3 a 6 meses : unos 20 gramos por día\\n (140g por semana). \\n De 6 a 12 meses : unos 15 gramos por día\\n (105g por semana). \\n Cabe recordar que los bebés no ganan peso de manera exacta cada día, por lo que hay semanas que ganan más y otras menos. Lo importante es ir evaluando su crecimiento –si no hay dificultades– de manera mensual. \\n También nos puede servir para evaluar el crecimiento esperado en los bebés si sabemos que deben doblar el peso del nacimiento entre los 4-6 meses y triplicarlo al año. \\n En el caso de que el bebé no aumente de peso de la manera esperada, es necesario buscar las causas y suplementar al bebé, recordando que la primera opción es siempre leche materna extraída.\"\n",
      "            }\n",
      "        ]\n",
      "    }\n",
      "]\n"
     ]
    }
   ],
   "source": [
    "# Cargar el JSON\n",
    "data = json.loads(json_output)\n",
    "\n",
    "# Imprimir el JSON formateado en pantalla\n",
    "formatted_json = json.dumps(data, ensure_ascii=False, indent=4)\n",
    "print(formatted_json)"
   ]
  },
  {
   "cell_type": "code",
   "execution_count": 49,
   "metadata": {},
   "outputs": [],
   "source": [
    "from sentence_transformers import SentenceTransformer\n",
    "from neo4j import GraphDatabase\n",
    "\n",
    "# Funcion para generar la salida resultados\n",
    "\n",
    "def procesar_mensajes(mensajes, url, username, password, model_name, model_kwargs, categorias, chainOpenAI,\n",
    "                      calculate_similarity, clasificar_LLMs, procesar_nodos1, mostrar_resultado):\n",
    "    '''\n",
    "    ENTRADA:\n",
    "    mensajes --> Lista de mensajes\n",
    "    url --> URL de la base de datos Neo4j\n",
    "    username --> Nombre de usuario para la autenticación de la base de datos\n",
    "    password --> Contraseña para la autenticación de la base de datos\n",
    "    model_name --> Nombre del modelo para los embeddings\n",
    "    model_kwargs --> Argumentos clave para el modelo (por ejemplo, dispositivo)\n",
    "    categorias --> Lista de categorías para clasificar\n",
    "    chainOpenAI --> Cadena de LangChain\n",
    "    calculate_similarity --> Función para calcular la similaridad\n",
    "    clasificar_LLMs --> Función para clasificar los mensajes\n",
    "    procesar_nodos1 --> Función para procesar los nodos\n",
    "    mostrar_resultado --> Función para mostrar los resultados\n",
    "\n",
    "    SALIDA:\n",
    "    resultados --> Lista de resultados\n",
    "    '''\n",
    "    for mensaje in mensajes:\n",
    "        print(\"MENSAJE:\", mensaje)\n",
    "        print(\"-------------------------\")\n",
    "\n",
    "        # Query que deseas comparar con las propiedades de los nodos\n",
    "        query = mensaje\n",
    "\n",
    "        # Conexión a la base de datos Neo4j y cálculo de la similitud del coseno\n",
    "        with GraphDatabase.driver(url, auth=(username, password)) as driver:\n",
    "            embeddings = SentenceTransformer(model_name, **model_kwargs)\n",
    "\n",
    "            with driver.session() as session:\n",
    "                session.execute_write(calculate_similarity, query)\n",
    "\n",
    "        print(f\"Similitud del coseno calculada y asignada en la base de datos Neo4j para el query: {query}\")\n",
    "\n",
    "        # Identificación de los temas de la pregunta\n",
    "        salidaOpen = clasificar_LLMs(mensaje, categorias, chainOpenAI)\n",
    "\n",
    "        # Creación de la instancia de GraphPathFinder\n",
    "        finder = GraphPathFinder(url, username, password)\n",
    "        ids = finder.get_node_ids_by_theme_string(salidaOpen)\n",
    "\n",
    "        # Lista de identificadores de nodo iniciales\n",
    "        start_node_ids = ids\n",
    "\n",
    "        # Profundidad máxima de búsqueda\n",
    "        Profund_Maxima_Nodos = 7\n",
    "\n",
    "        # Número de caminos con mayor media de similaridad a mostrar\n",
    "        n_top_paths = 5\n",
    "\n",
    "        # Llamada a la función procesar_nodos\n",
    "        resultados = procesar_nodos1(finder, start_node_ids, Profund_Maxima_Nodos, n_top_paths, query, salidaOpen)\n",
    "\n",
    "        if resultados:\n",
    "            mostrar_resultado(resultados[0], Profund_Maxima_Nodos)\n",
    "        else:\n",
    "            print(\"No se encontraron resultados.\")\n",
    "        \n",
    "\n",
    "        # Cerrar la conexión\n",
    "        finder.close()\n",
    "\n",
    "    return resultados"
   ]
  },
  {
   "cell_type": "code",
   "execution_count": 50,
   "metadata": {},
   "outputs": [
    {
     "name": "stdout",
     "output_type": "stream",
     "text": [
      "MENSAJE: Bebé de 8 meses, estoy tomando por indicación de la ginecóloga Natalben Lactancia desde el parto, pero son un pastón a final de mes! Debo seguir tomando las si sigo con lactancia? Hasta cuando? Gracias!\n",
      "-------------------------\n",
      "Similitud del coseno calculada y asignada en la base de datos Neo4j para el query: Bebé de 8 meses, estoy tomando por indicación de la ginecóloga Natalben Lactancia desde el parto, pero son un pastón a final de mes! Debo seguir tomando las si sigo con lactancia? Hasta cuando? Gracias!\n",
      "No se encontraron resultados.\n",
      "MENSAJE: Perfecto, eso me parecía a mi también, de hecho con el primer hijo tomé únicamente yodocefol, pero tenía la duda al haberlo recomendado  la gine. Y debería tomarlo toda la lactancia? Hasta cuando se recomienda?\n",
      "-------------------------\n",
      "Similitud del coseno calculada y asignada en la base de datos Neo4j para el query: Perfecto, eso me parecía a mi también, de hecho con el primer hijo tomé únicamente yodocefol, pero tenía la duda al haberlo recomendado  la gine. Y debería tomarlo toda la lactancia? Hasta cuando se recomienda?\n",
      "ID del Nodo Inicial: t63\n",
      "\n",
      "Información del Camino (mostrando hasta 6 nodos):\n",
      "  Nodo ID: t63, Similaridad: 0.8202456618178877\n",
      "  Nodo ID: q752, Similaridad: 0.8763259188603716\n",
      "  Nodo ID: c3222, Similaridad: 0.8286032742033742\n",
      "  Nodo ID: q753, Similaridad: 0.8552838172393422\n",
      "  Nodo ID: c3226, Similaridad: 0.8432578199261603\n",
      "  Nodo ID: r2326, Similaridad: 0.9058061273660483\n",
      "\n",
      "Media de Similaridad: 0.8549204365688641\n",
      "\n",
      "Valores de string_es (mostrando hasta 6 valores):\n",
      "  PORTEO\n",
      "  Los portabebés son una herramienta maravillosa que nos hacen la vida mucho más fácil ¿qué quieres preguntar?\n",
      "  Otras consultas\n",
      "  El porteo genera muchas dudas, puede que tengas alguna de estas preguntas:\n",
      "  Solo duerme en el portabebés\n",
      "  \n",
      " Que los bebés solo duerman en el portabebés es un clásico. \n",
      " Los bebés quieren contacto y no suelen ser buenos amigos de las cunas. Su naturaleza hace que cada vez que sienten que no están encima de ti, les salten las alarmas. \n",
      " Esto no es malo ni es algo que necesite ser corregido. En realidad, es señal de buena salud que el bebé reclame estar con su madre y pueda descansar bien cuando se encuentra con ella. Es decir, portear al bebé para dormir puede ser una herramienta fabulosa de cara a tener más libertad de movimiento y asegurarte de que tu bebé descansa. \n",
      " Pero el porteo es como la lactancia, tenemos que estar bien los dos y portear solo si nos gusta y nos compensa. Si tú estás a gusto porteando, te funciona y te compensa, entonces no hay nada de malo en que duerma mientras lo porteas. Si no es el caso y, por lo que sea, no estás a gusto porteando a tu bebé mientras duerme, será necesario buscar otras maneras de dormir al bebé, que pueden pasar por pasear a tu bebé, ofrecerle el pecho, tumbaros en la cama o cualquier otra técnica que os funcione a vosotros. \n",
      " Sea como sea, sería recomendable que te turnes con tu pareja o con otro cuidador para descansar tu espalda y, si necesitas dejar al bebé en otro lugar, quítate el portabebés muy lentamente e intenta hacer una transición muy pausada, quedándote en contacto con tu bebé un buen rato, hasta que detectes que su respiración es profunda y pausada. De todas formas, no te garantizamos que en unos minutos se despierte pidiendo más contacto con tu cuerpo ;)\n",
      "\n",
      "Información del Nodo con Máxima Similaridad:\n",
      "  Nodo ID: r2326, Similaridad: 0.9058061273660483\n",
      "  string_es: \n",
      " Que los bebés solo duerman en el portabebés es un clásico. \n",
      " Los bebés quieren contacto y no suelen ser buenos amigos de las cunas. Su naturaleza hace que cada vez que sienten que no están encima de ti, les salten las alarmas. \n",
      " Esto no es malo ni es algo que necesite ser corregido. En realidad, es señal de buena salud que el bebé reclame estar con su madre y pueda descansar bien cuando se encuentra con ella. Es decir, portear al bebé para dormir puede ser una herramienta fabulosa de cara a tener más libertad de movimiento y asegurarte de que tu bebé descansa. \n",
      " Pero el porteo es como la lactancia, tenemos que estar bien los dos y portear solo si nos gusta y nos compensa. Si tú estás a gusto porteando, te funciona y te compensa, entonces no hay nada de malo en que duerma mientras lo porteas. Si no es el caso y, por lo que sea, no estás a gusto porteando a tu bebé mientras duerme, será necesario buscar otras maneras de dormir al bebé, que pueden pasar por pasear a tu bebé, ofrecerle el pecho, tumbaros en la cama o cualquier otra técnica que os funcione a vosotros. \n",
      " Sea como sea, sería recomendable que te turnes con tu pareja o con otro cuidador para descansar tu espalda y, si necesitas dejar al bebé en otro lugar, quítate el portabebés muy lentamente e intenta hacer una transición muy pausada, quedándote en contacto con tu bebé un buen rato, hasta que detectes que su respiración es profunda y pausada. De todas formas, no te garantizamos que en unos minutos se despierte pidiendo más contacto con tu cuerpo ;)\n",
      "MENSAJE: Hola buenas era porque tengo desde el lunes dolores menstruales sobretodo en la zona de los ovarios pero no me baja la regla aún sigo amamantando Ami pequeña el 17 hace los 6 meses \n",
      "-------------------------\n",
      "Similitud del coseno calculada y asignada en la base de datos Neo4j para el query: Hola buenas era porque tengo desde el lunes dolores menstruales sobretodo en la zona de los ovarios pero no me baja la regla aún sigo amamantando Ami pequeña el 17 hace los 6 meses \n",
      "No se encontraron resultados.\n",
      "['Bebé de 8 meses, estoy tomando por indicación de la ginecóloga Natalben Lactancia desde el parto, pero son un pastón a final de mes! Debo seguir tomando las si sigo con lactancia? Hasta cuando? Gracias!', 'Perfecto, eso me parecía a mi también, de hecho con el primer hijo tomé únicamente yodocefol, pero tenía la duda al haberlo recomendado  la gine. Y debería tomarlo toda la lactancia? Hasta cuando se recomienda?', 'Hola buenas era porque tengo desde el lunes dolores menstruales sobretodo en la zona de los ovarios pero no me baja la regla aún sigo amamantando Ami pequeña el 17 hace los 6 meses ']\n",
      "[]\n"
     ]
    }
   ],
   "source": [
    "# Parámetros de conexión a la base de datos\n",
    "#url = URL_NEO4J\n",
    "#username = USERNAME_NEO4J\n",
    "#password = PASSWORD_NEO4J\n",
    "\n",
    "# Parámetros del modelo Sentence Transformer\n",
    "#model_name = BAAI/bge-large-en\n",
    "#model_kwargs = {'device': 'cpu'}\n",
    "\n",
    "# Categorías y cadena OpenAI para clasificación\n",
    "#categorias = categorias\n",
    "#chainOpenAI = chainOpenAI\n",
    "\n",
    "# Lista de mensajes para procesar\n",
    "mensajes = ['Bebé de 8 meses, estoy tomando por indicación de la ginecóloga Natalben Lactancia desde el parto, pero son un pastón a final de mes! Debo seguir tomando las si sigo con lactancia? Hasta cuando? Gracias!', 'Perfecto, eso me parecía a mi también, de hecho con el primer hijo tomé únicamente yodocefol, pero tenía la duda al haberlo recomendado  la gine. Y debería tomarlo toda la lactancia? Hasta cuando se recomienda?', 'Hola buenas era porque tengo desde el lunes dolores menstruales sobretodo en la zona de los ovarios pero no me baja la regla aún sigo amamantando Ami pequeña el 17 hace los 6 meses ']\n",
    "\n",
    "# Llamada a la función principal\n",
    "resultados = procesar_mensajes(mensajes, url, username, password, model_name, model_kwargs, \n",
    "                               categorias, chainOpenAI, calculate_similarity, \n",
    "                               clasificar_LLMs, procesar_nodos1, mostrar_resultado)\n",
    "\n",
    "# Imprimir los resultados\n",
    "print(mensajes)\n",
    "print(resultados)"
   ]
  },
  {
   "cell_type": "code",
   "execution_count": 160,
   "metadata": {},
   "outputs": [],
   "source": [
    "import json\n",
    "\n",
    "def generar_salida_json(resultados, n_top_paths=3):\n",
    "    \"\"\"\n",
    "    Genera una salida JSON a partir de una lista de resultados y un mensaje asociado.\n",
    "\n",
    "    :param resultados: Lista de resultados a procesar.\n",
    "    :param mensaje: Mensaje asociado a incluir en cada cadena de salida.\n",
    "    :param n_top_paths: Número de elementos máximos a considerar en la salida.\n",
    "    :return: Cadena en formato JSON con los datos procesados.\n",
    "    \"\"\"\n",
    "    output_data = []\n",
    "\n",
    "    # Asegurarse de que no se exceda el número de resultados disponibles\n",
    "    n_top_paths = min(n_top_paths, len(resultados))\n",
    "\n",
    "    for n in range(n_top_paths):\n",
    "        cadena_data = {\n",
    "            'Cadena': n,\n",
    "            'Similaridad_Media': resultados[n]['mean_similarity'],\n",
    "            'Pregunta': resultados[n]['query'],  # Incluir el mensaje aquí\n",
    "            'Clasificacion': resultados[n]['clasificacion'],\n",
    "            'Nodos_Textos': []\n",
    "        }\n",
    "\n",
    "        for t, texto in enumerate(resultados[n]['string_es_values']):\n",
    "            tuplas = resultados[n]['path_info']\n",
    "            primeros_elementos = [tupla[0] for tupla in tuplas]\n",
    "            segundos_elementos = [tupla[1] for tupla in tuplas]\n",
    "\n",
    "            nodo_texto = {\n",
    "                'Nodo': primeros_elementos[t],\n",
    "                'Similaridad': segundos_elementos[t], \n",
    "                'Texto': texto    \n",
    "            }\n",
    "            cadena_data['Nodos_Textos'].append(nodo_texto)\n",
    "\n",
    "        output_data.append(cadena_data)\n",
    "\n",
    "    # Serializar los datos de salida como JSON\n",
    "    json_output = json.dumps(output_data, ensure_ascii=False, indent=4)\n",
    "    return json_output\n",
    "\n",
    "# Ejemplo de uso\n",
    "# resultados = [...]  # Asegúrate de que esta variable contiene los resultados esperados\n",
    "# mensaje = \"Mensaje asociado\"\n",
    "# json_output = generar_salida_json(resultados, mensaje, n_top_paths=3)\n",
    "# print(json_output)\n",
    "\n",
    "#'start_node_id': start_node_id,\n",
    "#'path_info': path_info,\n",
    "#'mean_similarity': mean,\n",
    "#'string_es_values': string_es_values,\n",
    "#'max_similarity_node_info': max_similarity_node_info\n",
    "\n"
   ]
  },
  {
   "cell_type": "code",
   "execution_count": 96,
   "metadata": {},
   "outputs": [
    {
     "name": "stdout",
     "output_type": "stream",
     "text": [
      "[\n",
      "    {\n",
      "        \"Cadena\": 0,\n",
      "        \"Similaridad_Media\": 0.863419727233861,\n",
      "        \"Pregunta\": \"Sí, parece que tu bebé tiene algo de retrognatia. Las posiciones verticales te pueden favorecer el agarre\",\n",
      "        \"Nodos_Textos\": [\n",
      "            {\n",
      "                \"Nodo\": \"t16\",\n",
      "                \"Similaridad\": 0.8222326280815713,\n",
      "                \"Texto\": \"DIFICULTADES DE AGARRE\"\n",
      "            },\n",
      "            {\n",
      "                \"Nodo\": \"q380\",\n",
      "                \"Similaridad\": 0.8529781263370453,\n",
      "                \"Texto\": \"¿Tu pecho está duro o sientes que está lleno de leche?\"\n",
      "            },\n",
      "            {\n",
      "                \"Nodo\": \"c2162\",\n",
      "                \"Similaridad\": 0.8792558013469038,\n",
      "                \"Texto\": \"No, el pecho no está demasiado duro\"\n",
      "            },\n",
      "            {\n",
      "                \"Nodo\": \"q381\",\n",
      "                \"Similaridad\": 0.871151566831059,\n",
      "                \"Texto\": \"¿Agarras a tu bebé por la cabeza para darle el pecho?\"\n",
      "            },\n",
      "            {\n",
      "                \"Nodo\": \"c2164\",\n",
      "                \"Similaridad\": 0.8597988989365476,\n",
      "                \"Texto\": \"Sí, lo acerco por la parte posterior de la cabeza\"\n",
      "            },\n",
      "            {\n",
      "                \"Nodo\": \"r1237\",\n",
      "                \"Similaridad\": 0.8951013418700385,\n",
      "                \"Texto\": \"\\n Por todo lo que has indicado en LactApp, creemos que tu bebé muestra dificultades en el agarre quizá debido a interferencias en sus reflejos innatos . \\n Cuando hay que acercar a un bebé al pecho, hacerlo por la cabeza es poco adecuado. Ya que cuando los bebés sienten que les empujas por la cabeza, realizan un movimiento en sentido contrario, lo que puede causar una “lucha” entre madre y bebé y entorpece un buen agarre al pecho. \\n Para acercar a un bebé al pecho existen dos opciones según la postura que prefieras para amamantar: \\n Si le das el pecho en posturas tradicionales (con el bebé tumbado sobre tu brazo): sitúa tu mano entre sus omóplatos y ejerce una ligera presión en dirección a tu cuerpo. \\n Si le das el pecho en posturas ventrales: coloca tu mano en forma de C y sujeta al bebé por debajo de las orejas. \\n Intenta modificar la manera de acercarlo al pecho para valorar si el rechazo desaparece.\"\n",
      "            }\n",
      "        ]\n",
      "    },\n",
      "    {\n",
      "        \"Cadena\": 1,\n",
      "        \"Similaridad_Media\": 0.858271384175589,\n",
      "        \"Pregunta\": \"Sí, parece que tu bebé tiene algo de retrognatia. Las posiciones verticales te pueden favorecer el agarre\",\n",
      "        \"Nodos_Textos\": [\n",
      "            {\n",
      "                \"Nodo\": \"t16\",\n",
      "                \"Similaridad\": 0.8222326280815713,\n",
      "                \"Texto\": \"DIFICULTADES DE AGARRE\"\n",
      "            },\n",
      "            {\n",
      "                \"Nodo\": \"q374\",\n",
      "                \"Similaridad\": 0.8285948256322868,\n",
      "                \"Texto\": \"¿Rechaza un pecho o los dos?\"\n",
      "            },\n",
      "            {\n",
      "                \"Nodo\": \"c273\",\n",
      "                \"Similaridad\": 0.879070176944581,\n",
      "                \"Texto\": \"Mi bebé llora cuando lo acerco al pecho\"\n",
      "            },\n",
      "            {\n",
      "                \"Nodo\": \"q15\",\n",
      "                \"Similaridad\": 0.8310658844119762,\n",
      "                \"Texto\": \"Elige el tema sobre el que quieres consultar:\"\n",
      "            },\n",
      "            {\n",
      "                \"Nodo\": \"c271\",\n",
      "                \"Similaridad\": 0.8822391210779601,\n",
      "                \"Texto\": \"A veces golpea el pecho, es como si se diera cabezazos\"\n",
      "            },\n",
      "            {\n",
      "                \"Nodo\": \"r49\",\n",
      "                \"Similaridad\": 0.9064256689051589,\n",
      "                \"Texto\": \"\\n Cuando los bebés están muy hambrientos y desesperados por comer suelen dar cabezazos incontrolados contra el pecho . A veces, están tan nerviosos que no se saben agarrar. \\n Calma un poco a tu bebé : deja que te succione un poco el dedo, háblale, pasea un poco... Cuando se tranquilice un poco, vuelve a intentar que se agarre de nuevo. \\n Es mejor que si esto os ocurre a menudo inicies la toma con las primeras señales de hambre del bebé: movimientos de las extremidades, bostezos, paladeos... así va a ser más simple el agarre.\"\n",
      "            }\n",
      "        ]\n",
      "    },\n",
      "    {\n",
      "        \"Cadena\": 2,\n",
      "        \"Similaridad_Media\": 0.8570834043066254,\n",
      "        \"Pregunta\": \"Sí, parece que tu bebé tiene algo de retrognatia. Las posiciones verticales te pueden favorecer el agarre\",\n",
      "        \"Nodos_Textos\": [\n",
      "            {\n",
      "                \"Nodo\": \"t16\",\n",
      "                \"Similaridad\": 0.8222326280815713,\n",
      "                \"Texto\": \"DIFICULTADES DE AGARRE\"\n",
      "            },\n",
      "            {\n",
      "                \"Nodo\": \"q380\",\n",
      "                \"Similaridad\": 0.8529781263370453,\n",
      "                \"Texto\": \"¿Tu pecho está duro o sientes que está lleno de leche?\"\n",
      "            },\n",
      "            {\n",
      "                \"Nodo\": \"c2162\",\n",
      "                \"Similaridad\": 0.8792558013469038,\n",
      "                \"Texto\": \"No, el pecho no está demasiado duro\"\n",
      "            },\n",
      "            {\n",
      "                \"Nodo\": \"q381\",\n",
      "                \"Similaridad\": 0.871151566831059,\n",
      "                \"Texto\": \"¿Agarras a tu bebé por la cabeza para darle el pecho?\"\n",
      "            },\n",
      "            {\n",
      "                \"Nodo\": \"c2164\",\n",
      "                \"Similaridad\": 0.8597988989365476,\n",
      "                \"Texto\": \"Sí, lo acerco por la parte posterior de la cabeza\"\n",
      "            }\n",
      "        ]\n",
      "    }\n",
      "]\n"
     ]
    }
   ],
   "source": [
    "json_output = generar_salida_json(resultados, n_top_paths=3)\n",
    "\n",
    "# Cargar el JSON\n",
    "data = json.loads(json_output)\n",
    "\n",
    "# Imprimir el JSON formateado en pantalla\n",
    "formatted_json = json.dumps(data, ensure_ascii=False, indent=4)\n",
    "print(formatted_json)"
   ]
  },
  {
   "cell_type": "code",
   "execution_count": 92,
   "metadata": {},
   "outputs": [
    {
     "name": "stdout",
     "output_type": "stream",
     "text": [
      "[\n",
      "    {\n",
      "        \"Cadena\": 0,\n",
      "        \"Similaridad_Media\": 0.863419727233861,\n",
      "        \"Pregunta\": \"Sí, parece que tu bebé tiene algo de retrognatia. Las posiciones verticales te pueden favorecer el agarre\",\n",
      "        \"Nodos_Textos\": [\n",
      "            {\n",
      "                \"Nodo\": \"t16\",\n",
      "                \"Texto\": \"DIFICULTADES DE AGARRE\"\n",
      "            },\n",
      "            {\n",
      "                \"Nodo\": \"q380\",\n",
      "                \"Texto\": \"¿Tu pecho está duro o sientes que está lleno de leche?\"\n",
      "            },\n",
      "            {\n",
      "                \"Nodo\": \"c2162\",\n",
      "                \"Texto\": \"No, el pecho no está demasiado duro\"\n",
      "            },\n",
      "            {\n",
      "                \"Nodo\": \"q381\",\n",
      "                \"Texto\": \"¿Agarras a tu bebé por la cabeza para darle el pecho?\"\n",
      "            },\n",
      "            {\n",
      "                \"Nodo\": \"c2164\",\n",
      "                \"Texto\": \"Sí, lo acerco por la parte posterior de la cabeza\"\n",
      "            },\n",
      "            {\n",
      "                \"Nodo\": \"r1237\",\n",
      "                \"Texto\": \"\\n Por todo lo que has indicado en LactApp, creemos que tu bebé muestra dificultades en el agarre quizá debido a interferencias en sus reflejos innatos . \\n Cuando hay que acercar a un bebé al pecho, hacerlo por la cabeza es poco adecuado. Ya que cuando los bebés sienten que les empujas por la cabeza, realizan un movimiento en sentido contrario, lo que puede causar una “lucha” entre madre y bebé y entorpece un buen agarre al pecho. \\n Para acercar a un bebé al pecho existen dos opciones según la postura que prefieras para amamantar: \\n Si le das el pecho en posturas tradicionales (con el bebé tumbado sobre tu brazo): sitúa tu mano entre sus omóplatos y ejerce una ligera presión en dirección a tu cuerpo. \\n Si le das el pecho en posturas ventrales: coloca tu mano en forma de C y sujeta al bebé por debajo de las orejas. \\n Intenta modificar la manera de acercarlo al pecho para valorar si el rechazo desaparece.\"\n",
      "            }\n",
      "        ]\n",
      "    },\n",
      "    {\n",
      "        \"Cadena\": 1,\n",
      "        \"Similaridad_Media\": 0.858271384175589,\n",
      "        \"Pregunta\": \"Sí, parece que tu bebé tiene algo de retrognatia. Las posiciones verticales te pueden favorecer el agarre\",\n",
      "        \"Nodos_Textos\": [\n",
      "            {\n",
      "                \"Nodo\": \"t16\",\n",
      "                \"Texto\": \"DIFICULTADES DE AGARRE\"\n",
      "            },\n",
      "            {\n",
      "                \"Nodo\": \"q374\",\n",
      "                \"Texto\": \"¿Rechaza un pecho o los dos?\"\n",
      "            },\n",
      "            {\n",
      "                \"Nodo\": \"c273\",\n",
      "                \"Texto\": \"Mi bebé llora cuando lo acerco al pecho\"\n",
      "            },\n",
      "            {\n",
      "                \"Nodo\": \"q15\",\n",
      "                \"Texto\": \"Elige el tema sobre el que quieres consultar:\"\n",
      "            },\n",
      "            {\n",
      "                \"Nodo\": \"c271\",\n",
      "                \"Texto\": \"A veces golpea el pecho, es como si se diera cabezazos\"\n",
      "            },\n",
      "            {\n",
      "                \"Nodo\": \"r49\",\n",
      "                \"Texto\": \"\\n Cuando los bebés están muy hambrientos y desesperados por comer suelen dar cabezazos incontrolados contra el pecho . A veces, están tan nerviosos que no se saben agarrar. \\n Calma un poco a tu bebé : deja que te succione un poco el dedo, háblale, pasea un poco... Cuando se tranquilice un poco, vuelve a intentar que se agarre de nuevo. \\n Es mejor que si esto os ocurre a menudo inicies la toma con las primeras señales de hambre del bebé: movimientos de las extremidades, bostezos, paladeos... así va a ser más simple el agarre.\"\n",
      "            }\n",
      "        ]\n",
      "    },\n",
      "    {\n",
      "        \"Cadena\": 2,\n",
      "        \"Similaridad_Media\": 0.8570834043066254,\n",
      "        \"Pregunta\": \"Sí, parece que tu bebé tiene algo de retrognatia. Las posiciones verticales te pueden favorecer el agarre\",\n",
      "        \"Nodos_Textos\": [\n",
      "            {\n",
      "                \"Nodo\": \"t16\",\n",
      "                \"Texto\": \"DIFICULTADES DE AGARRE\"\n",
      "            },\n",
      "            {\n",
      "                \"Nodo\": \"q380\",\n",
      "                \"Texto\": \"¿Tu pecho está duro o sientes que está lleno de leche?\"\n",
      "            },\n",
      "            {\n",
      "                \"Nodo\": \"c2162\",\n",
      "                \"Texto\": \"No, el pecho no está demasiado duro\"\n",
      "            },\n",
      "            {\n",
      "                \"Nodo\": \"q381\",\n",
      "                \"Texto\": \"¿Agarras a tu bebé por la cabeza para darle el pecho?\"\n",
      "            },\n",
      "            {\n",
      "                \"Nodo\": \"c2164\",\n",
      "                \"Texto\": \"Sí, lo acerco por la parte posterior de la cabeza\"\n",
      "            }\n",
      "        ]\n",
      "    }\n",
      "]\n"
     ]
    }
   ],
   "source": [
    "# Imprimir la salida JSON\n",
    "print(json_output)"
   ]
  },
  {
   "cell_type": "markdown",
   "metadata": {},
   "source": [
    "Procesado masivo de mensajes de TEST\n",
    "\n",
    "Lista con mensajes --> OBTENER ARCHIVO"
   ]
  },
  {
   "cell_type": "code",
   "execution_count": 97,
   "metadata": {},
   "outputs": [],
   "source": [
    "def leer_csv_especifico(directorio, nombre_archivo):\n",
    "    \"\"\"\n",
    "    Esta función lee un archivo .csv específico en el directorio dado.\n",
    "\n",
    "    :param directorio: Ruta del directorio donde buscar el archivo\n",
    "    :param nombre_archivo: Nombre del archivo .csv a leer\n",
    "    :return: DataFrame de pandas con los datos del archivo .csv, o None si el archivo no se encuentra o hay un error\n",
    "    \"\"\"\n",
    "    try:\n",
    "        ruta_archivo_csv = os.path.join(directorio, nombre_archivo)\n",
    "        \n",
    "        # Verificar si el archivo existe\n",
    "        if os.path.exists(ruta_archivo_csv) and ruta_archivo_csv.endswith('.csv'):\n",
    "            df = pd.read_csv(ruta_archivo_csv)\n",
    "            print(f\"Archivo CSV leído: {nombre_archivo}\")\n",
    "            return df\n",
    "        else:\n",
    "            print(f\"No se encontró el archivo '{nombre_archivo}' en el directorio.\")\n",
    "            return None\n",
    "    except Exception as e:\n",
    "        print(f\"Error al leer el archivo: {e}\")\n",
    "        return None"
   ]
  },
  {
   "cell_type": "code",
   "execution_count": 114,
   "metadata": {},
   "outputs": [],
   "source": [
    "def leer_excel_especifico(directorio, nombre_archivo):\n",
    "    \"\"\"\n",
    "    Esta función lee un archivo .xlsx específico en el directorio dado.\n",
    "\n",
    "    :param directorio: Ruta del directorio donde buscar el archivo\n",
    "    :param nombre_archivo: Nombre del archivo .xlsx a leer\n",
    "    :return: DataFrame de pandas con los datos del archivo .xlsx, o None si el archivo no se encuentra o hay un error\n",
    "    \"\"\"\n",
    "    try:\n",
    "        ruta_archivo_excel = os.path.join(directorio, nombre_archivo)\n",
    "        \n",
    "        # Verificar si el archivo existe\n",
    "        if os.path.exists(ruta_archivo_excel) and ruta_archivo_excel.endswith('.xlsx'):\n",
    "            df = pd.read_excel(ruta_archivo_excel)\n",
    "            print(f\"Archivo Excel leído: {nombre_archivo}\")\n",
    "            return df\n",
    "        else:\n",
    "            print(f\"No se encontró el archivo '{nombre_archivo}' en el directorio.\")\n",
    "            return None\n",
    "    except Exception as e:\n",
    "        print(f\"Error al leer el archivo: {e}\")\n",
    "        return None"
   ]
  },
  {
   "cell_type": "code",
   "execution_count": 108,
   "metadata": {},
   "outputs": [],
   "source": [
    "def listar_achivos(directorio):\n",
    "    \"\"\"\n",
    "    Esta función lista los archivos en el directorio dado.\n",
    "\n",
    "    :param directorio: Ruta del directorio a listar\n",
    "    \"\"\"\n",
    "    try:\n",
    "        # Listar todos los archivos y directorios en el directorio dado\n",
    "        archivos = os.listdir(directorio)\n",
    "        print(f\"Archivos en '{directorio}':\")\n",
    "        \n",
    "        # Iterar a través de los archivos y directorios\n",
    "        for archivo in archivos:\n",
    "            # Ruta completa del archivo\n",
    "            ruta_completa = os.path.join(directorio, archivo)\n",
    "            \n",
    "            # Verificar si es un archivo o un directorio\n",
    "            if os.path.isfile(ruta_completa):\n",
    "                print(f\"Archivo: {archivo}\")\n",
    "            else:\n",
    "                print(f\"Directorio: {archivo}\")\n",
    "    except Exception as e:\n",
    "        print(f\"Error: {e}\")"
   ]
  },
  {
   "cell_type": "code",
   "execution_count": 109,
   "metadata": {},
   "outputs": [
    {
     "name": "stdout",
     "output_type": "stream",
     "text": [
      "Archivos en '/media/ubuntu/Linux3/02_TFM/DATOS_APP':\n",
      "Archivo: conversations_no_chitchat.csv\n",
      "Archivo: conversations.csv\n"
     ]
    }
   ],
   "source": [
    "# Uso del script\n",
    "directorio = '/media/ubuntu/Linux3/02_TFM/DATOS_APP'\n",
    "listar_archivos(directorio)"
   ]
  },
  {
   "cell_type": "code",
   "execution_count": 100,
   "metadata": {},
   "outputs": [
    {
     "name": "stdout",
     "output_type": "stream",
     "text": [
      "Archivo CSV leído: conversations.csv\n"
     ]
    }
   ],
   "source": [
    "# Uso del script\n",
    "df = leer_csv_especifico(directorio, 'conversations.csv')"
   ]
  },
  {
   "cell_type": "code",
   "execution_count": 103,
   "metadata": {},
   "outputs": [
    {
     "data": {
      "text/html": [
       "<div>\n",
       "<style scoped>\n",
       "    .dataframe tbody tr th:only-of-type {\n",
       "        vertical-align: middle;\n",
       "    }\n",
       "\n",
       "    .dataframe tbody tr th {\n",
       "        vertical-align: top;\n",
       "    }\n",
       "\n",
       "    .dataframe thead th {\n",
       "        text-align: right;\n",
       "    }\n",
       "</style>\n",
       "<table border=\"1\" class=\"dataframe\">\n",
       "  <thead>\n",
       "    <tr style=\"text-align: right;\">\n",
       "      <th></th>\n",
       "      <th>treeName</th>\n",
       "      <th>msg_id</th>\n",
       "      <th>db_user_id</th>\n",
       "      <th>link</th>\n",
       "      <th>message</th>\n",
       "      <th>user_id</th>\n",
       "      <th>expert</th>\n",
       "      <th>tree</th>\n",
       "      <th>time</th>\n",
       "      <th>discard</th>\n",
       "      <th>classified</th>\n",
       "      <th>expert_old</th>\n",
       "      <th>empty</th>\n",
       "      <th>conversation_id</th>\n",
       "    </tr>\n",
       "  </thead>\n",
       "  <tbody>\n",
       "    <tr>\n",
       "      <th>0</th>\n",
       "      <td>Classifying</td>\n",
       "      <td>5e5ea4db4196ca0011c5fdbf</td>\n",
       "      <td>33020</td>\n",
       "      <td>Classifying</td>\n",
       "      <td>Hola! Buenas tardes! Una pregunta: Una mami de...</td>\n",
       "      <td>000121b28e5a9eda9f9fecf5</td>\n",
       "      <td>user</td>\n",
       "      <td>Classifying</td>\n",
       "      <td>1.583261e+09</td>\n",
       "      <td>Classifying</td>\n",
       "      <td>True</td>\n",
       "      <td>1MP_Laura</td>\n",
       "      <td>0</td>\n",
       "      <td>1</td>\n",
       "    </tr>\n",
       "  </tbody>\n",
       "</table>\n",
       "</div>"
      ],
      "text/plain": [
       "      treeName                    msg_id  db_user_id         link  \\\n",
       "0  Classifying  5e5ea4db4196ca0011c5fdbf       33020  Classifying   \n",
       "\n",
       "                                             message  \\\n",
       "0  Hola! Buenas tardes! Una pregunta: Una mami de...   \n",
       "\n",
       "                    user_id expert         tree          time      discard  \\\n",
       "0  000121b28e5a9eda9f9fecf5   user  Classifying  1.583261e+09  Classifying   \n",
       "\n",
       "  classified expert_old  empty  conversation_id  \n",
       "0       True  1MP_Laura      0                1  "
      ]
     },
     "execution_count": 103,
     "metadata": {},
     "output_type": "execute_result"
    }
   ],
   "source": [
    "df.head(1)"
   ]
  },
  {
   "cell_type": "code",
   "execution_count": 115,
   "metadata": {},
   "outputs": [
    {
     "name": "stdout",
     "output_type": "stream",
     "text": [
      "Archivos en '/media/ubuntu/Linux3/02_TFM/TEST_BIBLIOTECA/MODELOS':\n",
      "Archivo: list.gbnf\n",
      "Archivo: AAU_Neo4j_01.ipynb\n",
      "Archivo: SALIDA.xlsx\n",
      "Archivo: .env\n",
      "Archivo: CLA03.ipynb\n",
      "Directorio: __pycache__\n",
      "Archivo: CLA04_TEST.ipynb\n",
      "Archivo: AAU_Neo4j_02.ipynb\n",
      "Archivo: llama-2-13b-chat.Q3_K_M.gguf\n",
      "Archivo: MODELO_Mistral7b.ipynb\n",
      "Archivo: MODELO_OpenAI.ipynb\n",
      "Archivo: openai_utils.py\n",
      "Archivo: CLA02.ipynb\n",
      "Archivo: CLA04.ipynb\n",
      "Archivo: AAU_langchain_neo4jvector.ipynb\n",
      "Archivo: MODELO_Llama2.ipynb\n",
      "Archivo: CLASIFICACION.ipynb\n",
      "Archivo: Angel.pdf\n",
      "Archivo: estructura1.json\n",
      "Archivo: CLA01_OpenAI.ipynb\n",
      "Archivo: a.xlsx\n"
     ]
    }
   ],
   "source": [
    "# Uso del script\n",
    "directorio = '/media/ubuntu/Linux3/02_TFM/TEST_BIBLIOTECA/MODELOS'\n",
    "listar_archivos(directorio)"
   ]
  },
  {
   "cell_type": "code",
   "execution_count": 116,
   "metadata": {},
   "outputs": [
    {
     "name": "stdout",
     "output_type": "stream",
     "text": [
      "Archivo Excel leído: a.xlsx\n"
     ]
    },
    {
     "data": {
      "text/html": [
       "<div>\n",
       "<style scoped>\n",
       "    .dataframe tbody tr th:only-of-type {\n",
       "        vertical-align: middle;\n",
       "    }\n",
       "\n",
       "    .dataframe tbody tr th {\n",
       "        vertical-align: top;\n",
       "    }\n",
       "\n",
       "    .dataframe thead th {\n",
       "        text-align: right;\n",
       "    }\n",
       "</style>\n",
       "<table border=\"1\" class=\"dataframe\">\n",
       "  <thead>\n",
       "    <tr style=\"text-align: right;\">\n",
       "      <th></th>\n",
       "      <th>Unnamed: 0</th>\n",
       "      <th>msg_id</th>\n",
       "      <th>user_id</th>\n",
       "      <th>time</th>\n",
       "      <th>message</th>\n",
       "      <th>expert</th>\n",
       "      <th>treeName</th>\n",
       "    </tr>\n",
       "  </thead>\n",
       "  <tbody>\n",
       "    <tr>\n",
       "      <th>0</th>\n",
       "      <td>5</td>\n",
       "      <td>64f59763872fff8b680b361d</td>\n",
       "      <td>0002d0367e95ae169d1ee7fa</td>\n",
       "      <td>1.693817e+09</td>\n",
       "      <td>Hola buenos días , me siento fatal hoy empiezo...</td>\n",
       "      <td>user</td>\n",
       "      <td>LA VUELTA AL TRABAJO</td>\n",
       "    </tr>\n",
       "  </tbody>\n",
       "</table>\n",
       "</div>"
      ],
      "text/plain": [
       "   Unnamed: 0                    msg_id                   user_id  \\\n",
       "0           5  64f59763872fff8b680b361d  0002d0367e95ae169d1ee7fa   \n",
       "\n",
       "           time                                            message expert  \\\n",
       "0  1.693817e+09  Hola buenos días , me siento fatal hoy empiezo...   user   \n",
       "\n",
       "                treeName  \n",
       "0   LA VUELTA AL TRABAJO  "
      ]
     },
     "execution_count": 116,
     "metadata": {},
     "output_type": "execute_result"
    }
   ],
   "source": [
    "# Uso del script\n",
    "df = leer_excel_especifico(directorio, 'a.xlsx')\n",
    "df.head(1)"
   ]
  },
  {
   "cell_type": "code",
   "execution_count": 119,
   "metadata": {},
   "outputs": [
    {
     "data": {
      "text/html": [
       "<div>\n",
       "<style scoped>\n",
       "    .dataframe tbody tr th:only-of-type {\n",
       "        vertical-align: middle;\n",
       "    }\n",
       "\n",
       "    .dataframe tbody tr th {\n",
       "        vertical-align: top;\n",
       "    }\n",
       "\n",
       "    .dataframe thead th {\n",
       "        text-align: right;\n",
       "    }\n",
       "</style>\n",
       "<table border=\"1\" class=\"dataframe\">\n",
       "  <thead>\n",
       "    <tr style=\"text-align: right;\">\n",
       "      <th></th>\n",
       "      <th>message</th>\n",
       "      <th>treeName</th>\n",
       "      <th>expert</th>\n",
       "    </tr>\n",
       "  </thead>\n",
       "  <tbody>\n",
       "    <tr>\n",
       "      <th>0</th>\n",
       "      <td>Hola buenos días , me siento fatal hoy empiezo...</td>\n",
       "      <td>LA VUELTA AL TRABAJO</td>\n",
       "      <td>user</td>\n",
       "    </tr>\n",
       "  </tbody>\n",
       "</table>\n",
       "</div>"
      ],
      "text/plain": [
       "                                             message               treeName  \\\n",
       "0  Hola buenos días , me siento fatal hoy empiezo...   LA VUELTA AL TRABAJO   \n",
       "\n",
       "  expert  \n",
       "0   user  "
      ]
     },
     "execution_count": 119,
     "metadata": {},
     "output_type": "execute_result"
    }
   ],
   "source": [
    "# Selecciona solo tres columnas\n",
    "nuevo_df = df[['message', 'treeName','expert']]\n",
    "nuevo_df.head(1)"
   ]
  },
  {
   "cell_type": "code",
   "execution_count": 120,
   "metadata": {},
   "outputs": [
    {
     "name": "stdout",
     "output_type": "stream",
     "text": [
      "[' LA VUELTA AL TRABAJO', 'DOLOR EN EL PECHO', 'MI BEBÉ NO GANA PESO', 'PAÑALES SUCIOS', '¿PUEDO...?', 'Menstruación y fertilidad', 'DEJAR DE DAR EL PECHO', 'LACTANCIA POR ETAPAS', 'BACHES Y CRISIS', 'LOS PRIMEROS DÍAS', 'SUEÑO Y LACTANCIA', 'CONSERVACIÓN ', 'Durante mi embarazo', 'RELACTAR ', 'LACTANCIA MIXTA', 'DIFICULTADES DE AGARRE', ' BULTOS EN EL PECHO', 'CONCEPTOS BÁSICOS', 'ALIMENTOS SÓLIDOS', 'PRODUCTOS PARA LA LACTANCIA', 'COSAS QUE HACE MI BEBÉ', '¿QUÉ HAGO SI...?', 'SOBRE MI SALUD', 'PRUEBAS DIAGNÓSTICAS ', 'SALUD DE MI BEBÉ', 'CÓMO PRODUCIR MÁS LECHE', 'Coronavirus', 'EL DESTETE POR ETAPAS', 'LA DONACIÓN DE LECHE', 'EMBARAZO: SEGUIR LACTANDO ', 'MI BEBÉ MAMA MUCHO', 'SKFin', 'ME HE QUEDADO EMBARAZADA', 'EXTRACCIÓN DE LECHE', 'PECHO: FORMA Y TAMAÑO', 'MIS SENTIMIENTOS ', 'A PARTIR DE 6 MESES ', 'GRIETAS Y HERIDAS', '¿TENGO POCA LECHE?', 'EN QUÉ DARLE LA LECHE', 'ESTOY ENFERMA ', 'MI BEBÉ ES PREMATURO', 'INDUCCIÓN', 'No Clasificable', 'GUÍA DEL DOLOR AL AMAMANTAR', 'PORTEO', 'GEMELOS, MELLIZOS', 'Preparar mi lactancia ', 'Baby Led Weaning', 'Lactancia artificial', 'Sueño del bebé', 'Mi embarazo por etapas', 'ÁRBOL EMOCIONES', 'DEJAR LA FÓRMULA', 'SEGUIR PREPARÁNDOME', 'Planifica tu vuelta al trabajo']\n",
      "['user', 'lactapp']\n"
     ]
    }
   ],
   "source": [
    "# Obtener los valores únicos de la columna\n",
    "valores_unicostreeName = df['treeName'].unique()\n",
    "valores_unicosexpert = df['expert'].unique()\n",
    "# Convertir a lista si es necesario\n",
    "valores_unicostreeNameL = list(valores_unicostreeName)\n",
    "valores_unicosexpertL = list(valores_unicosexpert)\n",
    "# Mostrar la lista\n",
    "print(valores_unicostreeNameL)\n",
    "print(valores_unicosexpertL)"
   ]
  },
  {
   "cell_type": "code",
   "execution_count": 125,
   "metadata": {},
   "outputs": [
    {
     "name": "stdout",
     "output_type": "stream",
     "text": [
      "Longitud: 35 Elementos únicos en Archivo Mensajes: [' LA VUELTA AL TRABAJO', 'MI BEBÉ NO GANA PESO', 'PAÑALES SUCIOS', 'Menstruación y fertilidad', 'LOS PRIMEROS DÍAS', 'SUEÑO Y LACTANCIA', 'CONSERVACIÓN ', 'RELACTAR ', ' BULTOS EN EL PECHO', 'CONCEPTOS BÁSICOS', 'ALIMENTOS SÓLIDOS', 'COSAS QUE HACE MI BEBÉ', '¿QUÉ HAGO SI...?', 'PRUEBAS DIAGNÓSTICAS ', 'SALUD DE MI BEBÉ', 'CÓMO PRODUCIR MÁS LECHE', 'LA DONACIÓN DE LECHE', 'EMBARAZO: SEGUIR LACTANDO ', 'MI BEBÉ MAMA MUCHO', 'SKFin', 'EXTRACCIÓN DE LECHE', 'PECHO: FORMA Y TAMAÑO', 'MIS SENTIMIENTOS ', 'A PARTIR DE 6 MESES ', 'EN QUÉ DARLE LA LECHE', 'ESTOY ENFERMA ', 'MI BEBÉ ES PREMATURO', 'INDUCCIÓN', 'No Clasificable', 'GUÍA DEL DOLOR AL AMAMANTAR', 'Preparar mi lactancia ', 'Sueño del bebé', 'ÁRBOL EMOCIONES', 'DEJAR LA FÓRMULA', 'SEGUIR PREPARÁNDOME']\n",
      "Longitud: 39 Elementos únicos en Neo4j: ['EMBARAZO: SEGUIR LACTANDO', 'CONSERVACIÓN', 'Semana Mundial de la Lactancia', 'MIS SENTIMIENTOS', 'LOS PRIMEROS DÍAS', 'MI BEBÉ MAMA MUCHO', 'Punto Violeta', 'LA VUELTA AL TRABAJO', 'SUEÑO Y LACTANCIA', 'COSAS QUE HACE MI BEBÉ', 'PECHO: FORMA Y TAMAÑO', 'A PARTIR DE 6 MESES', 'Guía de regalos', 'EXTRACCIÓN DE LECHE', 'DEJAR LA FÓRMULA', 'MI BEBÉ ES PREMATURO', 'INDUCCIÓN', 'PRUEBAS DIAGNÓSTICAS', 'CÓMO PRODUCIR MÁS LECHE', 'SEGUIR PREPARÁNDOME', 'MI BEBÉ NO GANA PESO', 'LA DONACIÓN DE LECHE', '¡QUIERO SER DONANTE!', 'EN QUÉ DARLE LA LECHE', 'Cómo gestionar mi mastitis', 'SALUD DE MI BEBÉ', 'GUÍA DEL DOLOR AL AMAMANTAR', 'ALIMENTOS SÓLIDOS', 'RELACTAR', 'PAÑALES SUCIOS', 'CONCEPTOS BÁSICOS', 'Emociones', 'EL CAMINO DE LA LECHE', '¿QUÉ HAGO SI...?', 'Sueño del bebé', 'Visitas y talleres', 'BULTOS EN EL PECHO', 'Preparar mi lactancia', 'ESTOY ENFERMA']\n",
      "Longitud: 21 Elementos comunes en ambas listas: ['DOLOR EN EL PECHO', '¿PUEDO...?', 'DEJAR DE DAR EL PECHO', 'LACTANCIA POR ETAPAS', 'BACHES Y CRISIS', 'Durante mi embarazo', 'LACTANCIA MIXTA', 'DIFICULTADES DE AGARRE', 'PRODUCTOS PARA LA LACTANCIA', 'SOBRE MI SALUD', 'Coronavirus', 'EL DESTETE POR ETAPAS', 'ME HE QUEDADO EMBARAZADA', 'GRIETAS Y HERIDAS', '¿TENGO POCA LECHE?', 'PORTEO', 'GEMELOS, MELLIZOS', 'Baby Led Weaning', 'Lactancia artificial', 'Mi embarazo por etapas', 'Planifica tu vuelta al trabajo']\n"
     ]
    }
   ],
   "source": [
    "# Comparacion categorias\n",
    "lista1 = valores_unicostreeName\n",
    "lista2 = categorias\n",
    "\n",
    "# Encuentra elementos únicos en lista1\n",
    "unicos_en_lista1 = [item for item in lista1 if item not in lista2]\n",
    "\n",
    "# Encuentra elementos únicos en lista2\n",
    "unicos_en_lista2 = [item for item in lista2 if item not in lista1]\n",
    "\n",
    "# Encuentra elementos comunes en ambas listas\n",
    "elementos_comunes = [item for item in lista1 if item in lista2]\n",
    "\n",
    "# Imprimir resultados\n",
    "print(\"Longitud:\", len(unicos_en_lista1),\"Elementos únicos en Archivo Mensajes:\", unicos_en_lista1)\n",
    "print(\"Longitud:\", len(unicos_en_lista2), \"Elementos únicos en Neo4j:\", unicos_en_lista2)\n",
    "print(\"Longitud:\", len(elementos_comunes),\"Elementos comunes en ambas listas:\", elementos_comunes)\n"
   ]
  },
  {
   "cell_type": "code",
   "execution_count": 126,
   "metadata": {},
   "outputs": [],
   "source": [
    "# Añadir una categoria a la lista\n",
    "elementos_comunes.append('No Clasificable')"
   ]
  },
  {
   "cell_type": "code",
   "execution_count": 131,
   "metadata": {},
   "outputs": [
    {
     "data": {
      "text/plain": [
       "(131383, 3)"
      ]
     },
     "execution_count": 131,
     "metadata": {},
     "output_type": "execute_result"
    }
   ],
   "source": [
    "# Crear un nuevo DataFrame con solo los valores que estan en la lista de elementos comunes para poder analizarlos\n",
    "nuevo_df1 = nuevo_df[nuevo_df['treeName'].isin(elementos_comunes)]\n",
    "nuevo_df1.shape"
   ]
  },
  {
   "cell_type": "markdown",
   "metadata": {},
   "source": [
    "Analisis de mensajes \n",
    "\n",
    "Mensaje --> Clasificacion donde envia sistema | Nodo donde envia | Camino identificado | Clasificación Experta"
   ]
  },
  {
   "cell_type": "code",
   "execution_count": 250,
   "metadata": {},
   "outputs": [
    {
     "name": "stdout",
     "output_type": "stream",
     "text": [
      "['Bebé de 8 meses, estoy tomando por indicación de la ginecóloga Natalben Lactancia desde el parto, pero son un pastón a final de mes! Debo seguir tomando las si sigo con lactancia? Hasta cuando? Gracias!', 'Perfecto, eso me parecía a mi también, de hecho con el primer hijo tomé únicamente yodocefol, pero tenía la duda al haberlo recomendado  la gine. Y debería tomarlo toda la lactancia? Hasta cuando se recomienda?', 'Hola buenas era porque tengo desde el lunes dolores menstruales sobretodo en la zona de los ovarios pero no me baja la regla aún sigo amamantando Ami pequeña el 17 hace los 6 meses ']\n"
     ]
    }
   ],
   "source": [
    "# Extraer los mensajes de la columna message\n",
    "mensajes = nuevo_df1['message'].to_list()[0:3]\n",
    "print(mensajes)"
   ]
  },
  {
   "cell_type": "code",
   "execution_count": 251,
   "metadata": {},
   "outputs": [
    {
     "name": "stdout",
     "output_type": "stream",
     "text": [
      "PROCESANDO MENSAJE 1: Bebé de 8 meses, estoy tomando por indicación de la ginecóloga Natalben Lactancia desde el parto, pero son un pastón a final de mes! Debo seguir tomando las si sigo con lactancia? Hasta cuando? Gracias!\n",
      "-------------------------\n",
      "Similitud del coseno calculada para el query: Bebé de 8 meses, estoy tomando por indicación de la ginecóloga Natalben Lactancia desde el parto, pero son un pastón a final de mes! Debo seguir tomando las si sigo con lactancia? Hasta cuando? Gracias!\n",
      "Error al procesar el mensaje 1: Bebé de 8 meses, estoy tomando por indicación de la ginecóloga Natalben Lactancia desde el parto, pero son un pastón a final de mes! Debo seguir tomando las si sigo con lactancia? Hasta cuando? Gracias!\n",
      "Detalle del error: list index out of range\n",
      "PROCESANDO MENSAJE 2: Perfecto, eso me parecía a mi también, de hecho con el primer hijo tomé únicamente yodocefol, pero tenía la duda al haberlo recomendado  la gine. Y debería tomarlo toda la lactancia? Hasta cuando se recomienda?\n",
      "-------------------------\n",
      "Similitud del coseno calculada para el query: Perfecto, eso me parecía a mi también, de hecho con el primer hijo tomé únicamente yodocefol, pero tenía la duda al haberlo recomendado  la gine. Y debería tomarlo toda la lactancia? Hasta cuando se recomienda?\n",
      "Error al procesar el mensaje 2: Perfecto, eso me parecía a mi también, de hecho con el primer hijo tomé únicamente yodocefol, pero tenía la duda al haberlo recomendado  la gine. Y debería tomarlo toda la lactancia? Hasta cuando se recomienda?\n",
      "Detalle del error: list index out of range\n",
      "PROCESANDO MENSAJE 3: Hola buenas era porque tengo desde el lunes dolores menstruales sobretodo en la zona de los ovarios pero no me baja la regla aún sigo amamantando Ami pequeña el 17 hace los 6 meses \n",
      "-------------------------\n",
      "Similitud del coseno calculada para el query: Hola buenas era porque tengo desde el lunes dolores menstruales sobretodo en la zona de los ovarios pero no me baja la regla aún sigo amamantando Ami pequeña el 17 hace los 6 meses \n",
      "Error al procesar el mensaje 3: Hola buenas era porque tengo desde el lunes dolores menstruales sobretodo en la zona de los ovarios pero no me baja la regla aún sigo amamantando Ami pequeña el 17 hace los 6 meses \n",
      "Detalle del error: list index out of range\n"
     ]
    }
   ],
   "source": [
    "# Llamada a la función principal\n",
    "resultados = procesar_mensajes(mensajes, url, username, password, model_name, model_kwargs, \n",
    "                               categorias, chainOpenAI, calculate_similarity, \n",
    "                               clasificar_LLMs, procesar_nodos1, mostrar_resultado)"
   ]
  },
  {
   "cell_type": "code",
   "execution_count": 252,
   "metadata": {},
   "outputs": [
    {
     "data": {
      "text/plain": [
       "[]"
      ]
     },
     "execution_count": 252,
     "metadata": {},
     "output_type": "execute_result"
    }
   ],
   "source": [
    "resultados\n"
   ]
  },
  {
   "cell_type": "code",
   "execution_count": 198,
   "metadata": {},
   "outputs": [],
   "source": [
    "json_output = generar_salida_json(resultados, n_top_paths=3)"
   ]
  },
  {
   "cell_type": "code",
   "execution_count": 1,
   "metadata": {},
   "outputs": [
    {
     "ename": "NameError",
     "evalue": "name 'json' is not defined",
     "output_type": "error",
     "traceback": [
      "\u001b[0;31m---------------------------------------------------------------------------\u001b[0m",
      "\u001b[0;31mNameError\u001b[0m                                 Traceback (most recent call last)",
      "\u001b[1;32m/media/ubuntu/Linux3/CHAT_BOT_FINANCIERO/Investment-Banker-Chatbot/VERSION_LIMPIA_1.ipynb Cell 83\u001b[0m line \u001b[0;36m2\n\u001b[1;32m      <a href='vscode-notebook-cell:/media/ubuntu/Linux3/CHAT_BOT_FINANCIERO/Investment-Banker-Chatbot/VERSION_LIMPIA_1.ipynb#Y145sZmlsZQ%3D%3D?line=0'>1</a>\u001b[0m \u001b[39m# Cargar el JSON\u001b[39;00m\n\u001b[0;32m----> <a href='vscode-notebook-cell:/media/ubuntu/Linux3/CHAT_BOT_FINANCIERO/Investment-Banker-Chatbot/VERSION_LIMPIA_1.ipynb#Y145sZmlsZQ%3D%3D?line=1'>2</a>\u001b[0m data \u001b[39m=\u001b[39m json\u001b[39m.\u001b[39mloads(json_output)\n\u001b[1;32m      <a href='vscode-notebook-cell:/media/ubuntu/Linux3/CHAT_BOT_FINANCIERO/Investment-Banker-Chatbot/VERSION_LIMPIA_1.ipynb#Y145sZmlsZQ%3D%3D?line=3'>4</a>\u001b[0m \u001b[39m# Imprimir el JSON formateado en pantalla\u001b[39;00m\n\u001b[1;32m      <a href='vscode-notebook-cell:/media/ubuntu/Linux3/CHAT_BOT_FINANCIERO/Investment-Banker-Chatbot/VERSION_LIMPIA_1.ipynb#Y145sZmlsZQ%3D%3D?line=4'>5</a>\u001b[0m formatted_json \u001b[39m=\u001b[39m json\u001b[39m.\u001b[39mdumps(data, ensure_ascii\u001b[39m=\u001b[39m\u001b[39mFalse\u001b[39;00m, indent\u001b[39m=\u001b[39m\u001b[39m4\u001b[39m)\n",
      "\u001b[0;31mNameError\u001b[0m: name 'json' is not defined"
     ]
    }
   ],
   "source": [
    "# Cargar el JSON\n",
    "data = json.loads(json_output)\n",
    "\n",
    "# Imprimir el JSON formateado en pantalla\n",
    "formatted_json = json.dumps(data, ensure_ascii=False, indent=4)\n",
    "print(formatted_json)"
   ]
  },
  {
   "cell_type": "code",
   "execution_count": 186,
   "metadata": {},
   "outputs": [],
   "source": [
    "# CORRECTA\n",
    "\n",
    "def imprimir_resultados_OK(indice_mensaje, mensaje, resultados, profundidad_maxima):\n",
    "    print(f\"RESULTADOS PARA EL MENSAJE {indice_mensaje} ('{mensaje}'):\")\n",
    "    print(\"Profundidad Máxima:\", profundidad_maxima)\n",
    "    print(\"--------------------------------------------------\")\n",
    "    for idx, resultado in enumerate(resultados, 1):\n",
    "        print(f\"Resultado {idx}: {resultado}\")\n",
    "    print(\"--------------------------------------------------\\n\")\n",
    "\n",
    "def procesar_mensajes_OK(mensajes, url, username, password, model_name, model_kwargs, categorias, chainOpenAI,\n",
    "                      calculate_similarity, clasificar_LLMs, procesar_nodos1, mostrar_resultado):\n",
    "    resultados_globales = []\n",
    "    for indice, mensaje in enumerate(mensajes, 1):\n",
    "        print(f\"PROCESANDO MENSAJE {indice}: {mensaje}\")\n",
    "        print(\"-------------------------\")\n",
    "\n",
    "        query = mensaje\n",
    "\n",
    "        try:\n",
    "            with GraphDatabase.driver(url, auth=(username, password)) as driver:\n",
    "                embeddings = SentenceTransformer(model_name, **model_kwargs)\n",
    "\n",
    "                with driver.session() as session:\n",
    "                    session.execute_write(calculate_similarity, query)\n",
    "\n",
    "            print(f\"Similitud del coseno calculada para el query: {query}\")\n",
    "\n",
    "            salidaOpen = clasificar_LLMs(mensaje, categorias, chainOpenAI)\n",
    "\n",
    "            finder = GraphPathFinder(url, username, password)\n",
    "            ids = finder.get_node_ids_by_theme_string(salidaOpen)\n",
    "\n",
    "            start_node_ids = ids\n",
    "            Profund_Maxima_Nodos = 7\n",
    "            n_top_paths = 5\n",
    "\n",
    "            resultados = procesar_nodos1(finder, start_node_ids, Profund_Maxima_Nodos, n_top_paths, query, salidaOpen)\n",
    "            mostrar_resultado(resultados[0], Profund_Maxima_Nodos)\n",
    "\n",
    "            imprimir_resultados_OK(indice, mensaje, resultados, Profund_Maxima_Nodos)\n",
    "\n",
    "            resultados_globales.append((indice, mensaje, resultados))\n",
    "\n",
    "            finder.close()\n",
    "\n",
    "        except Exception as e:\n",
    "            print(f\"Error al procesar el mensaje {indice}: {mensaje}\")\n",
    "            print(f\"Detalle del error: {e}\")\n",
    "\n",
    "    return resultados_globales"
   ]
  },
  {
   "cell_type": "code",
   "execution_count": 194,
   "metadata": {},
   "outputs": [],
   "source": [
    "# CORRECTA\n",
    "\n",
    "def generar_salida_json_OK(resultados, n_top_paths=3):\n",
    "    \"\"\"\n",
    "    Genera una salida JSON a partir de una lista de resultados y un mensaje asociado.\n",
    "\n",
    "    :param resultados: Lista de resultados a procesar. Cada elemento es una tupla (indice, mensaje, resultados).\n",
    "    :param n_top_paths: Número de elementos máximos a considerar en la salida.\n",
    "    :return: Cadena en formato JSON con los datos procesados.\n",
    "    \"\"\"\n",
    "    output_data = {\n",
    "        'Mensajes_Procesados': []\n",
    "    }\n",
    "\n",
    "    for indice, mensaje, datos_resultado in resultados:\n",
    "        # Asegurarse de que no se exceda el número de resultados disponibles\n",
    "        n_top_paths = min(n_top_paths, len(datos_resultado))\n",
    "\n",
    "        mensaje_data = {\n",
    "            'Indice': indice,\n",
    "            'Contenido': mensaje,\n",
    "            'Clasificacion': datos_resultado[0]['clasificacion'] if datos_resultado else None,\n",
    "            'Cadenas_Analizadas': []\n",
    "        }\n",
    "\n",
    "        for n in range(n_top_paths):\n",
    "            cadena_data = {\n",
    "                'Indice_Cadena': n,\n",
    "                'Similaridad_Media': datos_resultado[n]['mean_similarity'],\n",
    "                'Nodos': []\n",
    "            }\n",
    "\n",
    "            for t, texto in enumerate(datos_resultado[n]['string_es_values']):\n",
    "                tuplas = datos_resultado[n]['path_info']\n",
    "                primeros_elementos = [tupla[0] for tupla in tuplas]\n",
    "                segundos_elementos = [tupla[1] for tupla in tuplas]\n",
    "\n",
    "                nodo_data = {\n",
    "                    'Indice_Nodo': primeros_elementos[t],\n",
    "                    'Similaridad': segundos_elementos[t],\n",
    "                    'Texto': texto\n",
    "                }\n",
    "                cadena_data['Nodos'].append(nodo_data)\n",
    "\n",
    "            mensaje_data['Cadenas_Analizadas'].append(cadena_data)\n",
    "\n",
    "        output_data['Mensajes_Procesados'].append(mensaje_data)\n",
    "\n",
    "    # Serializar los datos de salida como JSON\n",
    "    json_output = json.dumps(output_data, ensure_ascii=False, indent=4)\n",
    "    return json_output\n"
   ]
  },
  {
   "cell_type": "code",
   "execution_count": 238,
   "metadata": {},
   "outputs": [],
   "source": [
    "# Define a prompt template for generating prompts.\n",
    "# Define una plantilla de prompt para generar preguntas.\n",
    "prompt_template1 = \"\"\"Como experto en lactancia, tu tarea es identificar y formular preguntas clave que aún no han sido mencionadas por el usuario,\n",
    "pero que son esenciales para comprender y responder completamente a su consulta sobre '{theme}'.\n",
    "\\nPregunta del usuario: '{user_message}'\\n\n",
    "Temática: Lactancia y '{theme}'.\n",
    "\\nFormato de salida deseado: Preguntas adicionales para el usuario\n",
    "- ¿Pregunta 1 relacionada con el concepto no mencionado?\n",
    "- ¿Pregunta 2 relacionada con otro concepto no mencionado?\n",
    "...\n",
    "Elabora preguntas que ayuden a profundizar en los aspectos no cubiertos por la pregunta original del usuario, basándote en tu conocimiento especializado en lactancia.\n",
    "\"\"\"\n",
    "\n",
    "prompt_template2 = \"\"\"Como experto en lactancia, tu tarea es analizar y extraer la información relevante de la pregunta del usuario,\n",
    "relacionada con el tema '{theme}', que puede ser crucial para resolver su consulta.\n",
    "\\nPregunta del usuario: '{user_message}'\\n\n",
    "Temática: Lactancia y '{theme}'.\n",
    "\\nFormato de salida deseado: Lista de información relevante contenida en la pregunta del usuario\n",
    "- [Información relevante 1]\n",
    "- [Información relevante 2]\n",
    "...\n",
    "Identifica y enumera los elementos de información en la pregunta del usuario que son esenciales para entender y responder adecuadamente a su consulta, basándote en tu conocimiento especializado en lactancia.\n",
    "\"\"\"\n",
    "\n",
    "# Specify the input variables used in the template.\n",
    "# Especifica las variables de entrada utilizadas en la plantilla.\n",
    "input_variables = ['theme', 'user_message']\n",
    "\n",
    "# Create a PromptTemplate object with the specified template and input variables.\n",
    "# Crea un objeto PromptTemplate con la plantilla y las variables de entrada especificadas.\n",
    "prompt1 = PromptTemplate(template=prompt_template1, input_variables=input_variables)\n",
    "prompt2 = PromptTemplate(template=prompt_template2, input_variables=input_variables)"
   ]
  },
  {
   "cell_type": "code",
   "execution_count": 239,
   "metadata": {},
   "outputs": [
    {
     "data": {
      "text/plain": [
       "PromptTemplate(input_variables=['theme', 'user_message'], template=\"Como experto en lactancia, tu tarea es identificar y formular preguntas clave que aún no han sido mencionadas por el usuario,\\npero que son esenciales para comprender y responder completamente a su consulta sobre '{theme}'.\\n\\nPregunta del usuario: '{user_message}'\\n\\nTemática: Lactancia y '{theme}'.\\n\\nFormato de salida deseado: Preguntas adicionales para el usuario\\n- ¿Pregunta 1 relacionada con el concepto no mencionado?\\n- ¿Pregunta 2 relacionada con otro concepto no mencionado?\\n...\\nElabora preguntas que ayuden a profundizar en los aspectos no cubiertos por la pregunta original del usuario, basándote en tu conocimiento especializado en lactancia.\\n\")"
      ]
     },
     "execution_count": 239,
     "metadata": {},
     "output_type": "execute_result"
    }
   ],
   "source": [
    "prompt"
   ]
  },
  {
   "cell_type": "code",
   "execution_count": 249,
   "metadata": {},
   "outputs": [
    {
     "data": {
      "text/plain": [
       "'Sí, parece que tu bebé tiene algo de retrognatia. Las posiciones verticales te pueden favorecer el agarre'"
      ]
     },
     "execution_count": 249,
     "metadata": {},
     "output_type": "execute_result"
    }
   ],
   "source": [
    "resultados[0][1]"
   ]
  },
  {
   "cell_type": "code",
   "execution_count": 240,
   "metadata": {},
   "outputs": [],
   "source": [
    "user_message = resultados[0][1]"
   ]
  },
  {
   "cell_type": "code",
   "execution_count": 241,
   "metadata": {},
   "outputs": [
    {
     "data": {
      "text/plain": [
       "'DIFICULTADES DE AGARRE'"
      ]
     },
     "execution_count": 241,
     "metadata": {},
     "output_type": "execute_result"
    }
   ],
   "source": [
    "resultados[0][2][0]['string_es_values'][0]"
   ]
  },
  {
   "cell_type": "code",
   "execution_count": 242,
   "metadata": {},
   "outputs": [],
   "source": [
    "theme = resultados[0][2][0]['string_es_values'][0]"
   ]
  },
  {
   "cell_type": "code",
   "execution_count": 243,
   "metadata": {},
   "outputs": [],
   "source": [
    "chainOpenAI1 = prompt1 | modelOpenAI | StrOutputParser()\n",
    "chainOpenAI2 = prompt2 | modelOpenAI | StrOutputParser()"
   ]
  },
  {
   "cell_type": "code",
   "execution_count": 244,
   "metadata": {},
   "outputs": [],
   "source": [
    "def clasificar_LLMs(Tema, Mensaje, chain):\n",
    "    '''Función de clasificación\n",
    "    Entrada:\n",
    "        texto -> Conversación Usuaria\n",
    "        categorias --> Lista de categorias donde se ha de clasificar\n",
    "        chain --> Cadena de LangChain\n",
    "    respuesta:\n",
    "        Respuesta del modelo\n",
    "    '''\n",
    "    response = chain.invoke({'theme':Tema, 'user_message':Mensaje})\n",
    "    return response"
   ]
  },
  {
   "cell_type": "code",
   "execution_count": 245,
   "metadata": {},
   "outputs": [
    {
     "name": "stdout",
     "output_type": "stream",
     "text": [
      "1. ¿Has notado alguna otra dificultad de agarre además de la retrognatia?\n",
      "2. ¿Cuánto tiempo llevas experimentando estas dificultades de agarre?\n",
      "3. ¿Has intentado diferentes posiciones de lactancia para mejorar el agarre?\n",
      "4. ¿Has recibido algún consejo o ayuda profesional para abordar estas dificultades de agarre?\n",
      "5. ¿Has notado algún cambio en la alimentación o el crecimiento de tu bebé debido a estas dificultades de agarre?\n",
      "6. ¿Has considerado el uso de dispositivos de ayuda, como pezoneras o protectores de pezones, para mejorar el agarre?\n",
      "7. ¿Has experimentado dolor o molestias durante la lactancia debido a estas dificultades de agarre?\n",
      "8. ¿Has notado alguna relación entre las dificultades de agarre y la producción de leche materna?\n",
      "9. ¿Has intentado técnicas de estimulación o masaje para ayudar a tu bebé a abrir más la boca durante el agarre?\n",
      "10. ¿Has consultado con otros expertos en lactancia o grupos de apoyo para obtener más orientación sobre estas dificultades de agarre?\n"
     ]
    }
   ],
   "source": [
    "print(clasificar_LLMs(theme, user_message, chainOpenAI1))"
   ]
  },
  {
   "cell_type": "code",
   "execution_count": 246,
   "metadata": {},
   "outputs": [
    {
     "name": "stdout",
     "output_type": "stream",
     "text": [
      "- El bebé tiene dificultades de agarre.\n",
      "- El bebé tiene retrognatia.\n",
      "- Las posiciones verticales pueden favorecer el agarre.\n"
     ]
    }
   ],
   "source": [
    "print(clasificar_LLMs(theme, user_message, chainOpenAI2))"
   ]
  },
  {
   "cell_type": "code",
   "execution_count": 221,
   "metadata": {},
   "outputs": [
    {
     "data": {
      "text/plain": [
       "['Sí, parece que tu bebé tiene algo de retrognatia. Las posiciones verticales te pueden favorecer el agarre']"
      ]
     },
     "execution_count": 221,
     "metadata": {},
     "output_type": "execute_result"
    }
   ],
   "source": [
    "user_message"
   ]
  }
 ],
 "metadata": {
  "kernelspec": {
   "display_name": "Python 3 (ipykernel)",
   "language": "python",
   "name": "python3"
  },
  "language_info": {
   "codemirror_mode": {
    "name": "ipython",
    "version": 3
   },
   "file_extension": ".py",
   "mimetype": "text/x-python",
   "name": "python",
   "nbconvert_exporter": "python",
   "pygments_lexer": "ipython3",
   "version": "3.11.4"
  }
 },
 "nbformat": 4,
 "nbformat_minor": 4
}
