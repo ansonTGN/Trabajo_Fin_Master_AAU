{
 "cells": [
  {
   "cell_type": "markdown",
   "metadata": {},
   "source": [
    "PROGRAMA_ANALISIS_LactAPP\n",
    "\n",
    "Version: 05/12/2023\n",
    "\n",
    "Test de funcionamiento Neo4j para analisis.\n",
    "\n",
    "Necesario:\n",
    "\n",
    "    - Docker Neo4j arrancado\n",
    "\n",
    "    - Activado entorno venv\n",
    "\n",
    "    - Licencia OpenAI (Archivo: .env)\n",
    "\n",
    "Version 1.01"
   ]
  },
  {
   "cell_type": "code",
   "execution_count": 29,
   "metadata": {},
   "outputs": [],
   "source": [
    "# Bibliotecas a Cargar\n",
    "\n",
    "# Group 1: Web Framework (Flask) / Grupo 1: Framework Web (Flask)\n",
    "from flask import Flask, request, jsonify, render_template\n",
    "# Flask is a Python web framework used for building web applications.\n",
    "# Imports include essential components for creating routes, handling HTTP requests, and rendering HTML templates.\n",
    "# Flask es un framework web de Python que se utiliza para crear aplicaciones web.\n",
    "# Las importaciones incluyen componentes esenciales para crear rutas, manejar solicitudes HTTP y renderizar plantillas HTML.\n",
    "\n",
    "# Group 2: System Operations and Environment Variables / Grupo 2: Operaciones del Sistema y Variables de Entorno\n",
    "import os\n",
    "from dotenv import load_dotenv, find_dotenv\n",
    "# This group handles system related operations and environment variables.\n",
    "# 'os' provides functions for interacting with the operating system.\n",
    "# 'dotenv' allows loading environment variables from '.env' files.\n",
    "# Este grupo maneja operaciones relacionadas con el sistema y variables de entorno.\n",
    "# 'os' proporciona funciones para interactuar con el sistema operativo.\n",
    "# 'dotenv' permite cargar variables de entorno desde archivos '.env'.\n",
    "\n",
    "# Group 3: Natural Language Processing (NLP) / Grupo 3: Procesamiento de Lenguaje Natural (NLP)\n",
    "from langchain import (\n",
    "    PromptTemplate, LLMChain, llms, text_splitter, vectorstores, chains, embeddings\n",
    ")\n",
    "from sentence_transformers import SentenceTransformer\n",
    "from sklearn.metrics.pairwise import cosine_similarity\n",
    "# This group focuses on natural language processing (NLP) and utilizes the 'langchain' library.\n",
    "# It includes various functionalities for text processing and language models.\n",
    "# 'SentenceTransformer' is used for generating sentence vector representations for similarity calculations.\n",
    "# 'cosine_similarity' is used to calculate cosine similarity between vectors.\n",
    "# Este grupo se centra en el procesamiento de lenguaje natural (NLP) y utiliza la biblioteca 'langchain'.\n",
    "# Incluye diversas funcionalidades para el procesamiento de texto y modelos de lenguaje.\n",
    "# 'SentenceTransformer' permite generar representaciones vectoriales de oraciones para cálculos de similitud.\n",
    "# 'cosine_similarity' se usa para calcular la similitud de coseno entre vectores.\n",
    "\n",
    "# Group 4: Data Loading and Database Operations / Grupo 4: Carga de Datos y Operaciones de Base de Datos\n",
    "from langchain.document_loaders import PyPDFLoader\n",
    "from langchain.vectorstores.neo4j_vector import Neo4jVector\n",
    "from langchain.graphs import Neo4jGraph\n",
    "from neo4j import GraphDatabase\n",
    "# This group is responsible for loading documents and handling database operations.\n",
    "# It includes functionalities for loading PDF documents ('PyPDFLoader') and working with databases like Neo4j.\n",
    "# Este grupo se encarga de cargar documentos y manejar operaciones de base de datos.\n",
    "# Incluye funcionalidades para cargar documentos PDF ('PyPDFLoader') y trabajar con bases de datos como Neo4j.\n",
    "\n",
    "# Group 5: Additional Language Processing / Grupo 5: Procesamiento de Lenguaje Adicional\n",
    "from langchain.llms import CTransformers\n",
    "from langchain.prompts import ChatPromptTemplate\n",
    "from langchain.chat_models import ChatOpenAI\n",
    "from langchain.schema.output_parser import StrOutputParser\n",
    "from langchain.text_splitter import RecursiveCharacterTextSplitter\n",
    "from langchain.vectorstores import Chroma\n",
    "from langchain.chains import RetrievalQA\n",
    "from langchain.embeddings import HuggingFaceBgeEmbeddings\n",
    "from langchain.prompts import PromptTemplate\n",
    "from langchain.chains import LLMChain\n",
    "from langchain.chains.prompt_selector import ConditionalPromptSelector\n",
    "# This group includes additional imports related to 'langchain' and language models,\n",
    "# like 'ChatOpenAI' for generating chat responses.\n",
    "# Este grupo incluye importaciones adicionales relacionadas con 'langchain' y modelos de lenguaje,\n",
    "# como 'ChatOpenAI' para generar respuestas de chat.\n"
   ]
  },
  {
   "cell_type": "code",
   "execution_count": 2,
   "metadata": {},
   "outputs": [],
   "source": [
    "## Caso de usar .env file\n",
    "## In case of using a .env file\n",
    "\n",
    "# Carga de variables de Entorno \n",
    "# Load environment variables\n",
    "\n",
    "load_dotenv(find_dotenv(), override=True)\n",
    "\n",
    "# Accede a las variables de entorno en tu código\n",
    "# Access environment variables in your code\n",
    "OPENAI_API_KEY = os.getenv('OPENAI_API_KEY')\n",
    "URL_NEO4J = os.getenv('URL_NEO4J')\n",
    "USERNAME_NEO4J = os.getenv('USERNAME_NEO4J')\n",
    "PASSWORD_NEO4J = os.getenv('PASSWORD_NEO4J')\n",
    "\n",
    "# Ahora, puedes usar las variables en tu script\n",
    "# Now, you can use the variables in your script\n",
    "#print(f'OPENAI_API_KEY: {OPENAI_API_KEY}')\n",
    "#print(f'URL_NEO4J: {URL_NEO4J}')\n",
    "#print(f'USERNAME_NEO4J: {USERNAME_NEO4J}')\n",
    "#print(f'PASSWORD_NEO4J: {PASSWORD_NEO4J}')"
   ]
  },
  {
   "cell_type": "markdown",
   "metadata": {},
   "source": [
    "1.- CARGA MODELO LOCAL\n",
    "\n",
    "Modelo Local -> llm"
   ]
  },
  {
   "cell_type": "code",
   "execution_count": 3,
   "metadata": {},
   "outputs": [],
   "source": [
    "# Initialize LLM and other components as in the original code\n",
    "# Inicializa el LLM y otros componentes como en el código original\n",
    "\n",
    "# Uncomment and set the appropriate model name for your local environment\n",
    "# Descomenta y establece el nombre del modelo adecuado para tu entorno local\n",
    "\n",
    "# local_llm = \"neural-chat-7b-v3-1.Q4_K_M.gguf\"\n",
    "local_llm = \"openhermes-2.5-mistral-7b.Q3_K_M.gguf\""
   ]
  },
  {
   "cell_type": "code",
   "execution_count": 4,
   "metadata": {},
   "outputs": [],
   "source": [
    "# Model Parameters\n",
    "# Parámetros del Modelo\n",
    "\n",
    "# Define configuration parameters for the model\n",
    "# Define los parámetros de configuración para el modelo\n",
    "config = {\n",
    "    'max_new_tokens': 512,       # Maximum number of new tokens generated\n",
    "    'repetition_penalty': 1.1,   # Repetition penalty for text generation\n",
    "    'temperature': 0,           # Temperature for controlling randomness (0 for deterministic output)\n",
    "    'context_length': 1024,     # Length of the input context\n",
    "    'stream': False             # Whether to stream the output or generate it all at once\n",
    "}"
   ]
  },
  {
   "cell_type": "markdown",
   "metadata": {},
   "source": [
    "| Parameter            | Type      | Description                                                     | Default   |\n",
    "|----------------------|-----------|-----------------------------------------------------------------|-----------|\n",
    "| top_k                | int       | The top-k value to use for sampling.                            | 40        |\n",
    "| top_p                | float     | The top-p value to use for sampling.                            | 0.95      |\n",
    "| temperature          | float     | The temperature to use for sampling.                            | 0.8       |\n",
    "| repetition_penalty   | float     | The repetition penalty to use for sampling.                     | 1.1       |\n",
    "| last_n_tokens        | int       | The number of last tokens to use for repetition penalty.        | 64        |\n",
    "| seed                 | int       | The seed value to use for sampling tokens.                      | -1        |\n",
    "| max_new_tokens       | int       | The maximum number of new tokens to generate.                   | 256       |\n",
    "| stop                 | List[str] | A list of sequences to stop generation when encountered.        | None      |\n",
    "| stream               | bool      | Whether to stream the generated text.                           | False     |\n",
    "| reset                | bool      | Whether to reset the model state before generating text.        | True      |\n",
    "| batch_size           | int       | The batch size to use for evaluating tokens in a single prompt. | 8         |\n",
    "| threads              | int       | The number of threads to use for evaluating tokens.             | -1        |\n",
    "| context_length       | int       | The maximum context length to use.                              | -1        |\n",
    "| gpu_layers           | int       | The number of layers to run on GPU.                             | 0         |"
   ]
  },
  {
   "cell_type": "code",
   "execution_count": 5,
   "metadata": {},
   "outputs": [
    {
     "name": "stdout",
     "output_type": "stream",
     "text": [
      "LLM Initialized....\n"
     ]
    }
   ],
   "source": [
    "# Initialize a CTransformers object with the specified parameters.\n",
    "# Inicializa un objeto CTransformers con los parámetros especificados.\n",
    "llm = CTransformers(\n",
    "    model=local_llm,\n",
    "    model_type=\"mistral\",\n",
    "    lib=\"avx2\",\n",
    "    **config\n",
    ")\n",
    "\n",
    "# Print a message to indicate that LLM (Language Model) has been initialized.\n",
    "# Imprime un mensaje para indicar que LLM (Modelo de Lenguaje) ha sido inicializado.\n",
    "print(\"LLM Initialized....\")"
   ]
  },
  {
   "cell_type": "markdown",
   "metadata": {},
   "source": [
    "2- MODELO EMBEDDINGS"
   ]
  },
  {
   "cell_type": "code",
   "execution_count": 8,
   "metadata": {},
   "outputs": [],
   "source": [
    "# Define the model name for embeddings.\n",
    "# Define el nombre del modelo para los embeddings.\n",
    "model_name = \"BAAI/bge-large-en\"\n",
    "\n",
    "# Specify keyword arguments for the model (e.g., device).\n",
    "# Especifica argumentos clave para el modelo (por ejemplo, dispositivo).\n",
    "model_kwargs = {'device': 'cpu'}\n",
    "\n",
    "# Specify keyword arguments for encoding (e.g., normalization settings).\n",
    "# Especifica argumentos clave para la codificación (por ejemplo, configuración de normalización).\n",
    "encode_kwargs = {'normalize_embeddings': False}\n",
    "\n",
    "# Initialize HuggingFaceBgeEmbeddings with the specified parameters.\n",
    "# Inicializa HuggingFaceBgeEmbeddings con los parámetros especificados.\n",
    "embeddings = HuggingFaceBgeEmbeddings(\n",
    "    model_name=model_name,\n",
    "    model_kwargs=model_kwargs,\n",
    "    encode_kwargs=encode_kwargs\n",
    ")"
   ]
  },
  {
   "cell_type": "markdown",
   "metadata": {},
   "source": [
    "3.- DEFINICION PROMPTS\n",
    "\n",
    "Para modelo local\n",
    "\n",
    "Nota: El modelo local se utilizara en caso de que queramos generar una respuesta en modo texto usando el contexto de la cadana identificada como mas relevante para la pregunta indicada por la usuaria."
   ]
  },
  {
   "cell_type": "code",
   "execution_count": 9,
   "metadata": {},
   "outputs": [],
   "source": [
    "# Define a prompt template for generating prompts.\n",
    "# Define una plantilla de prompt para generar preguntas.\n",
    "prompt_template = \"\"\"Use the following pieces of information to answer the user's question.\n",
    "If you don't know the answer, just say that you don't know, don't try to make up an answer.\n",
    "\n",
    "Context: {context}\n",
    "Question: {question}\n",
    "\n",
    "Only return the helpful answer below and nothing else.\n",
    "Helpful answer:\n",
    "\"\"\"\n",
    "\n",
    "# Specify the input variables used in the template.\n",
    "# Especifica las variables de entrada utilizadas en la plantilla.\n",
    "input_variables = ['context', 'question']\n",
    "\n",
    "# Create a PromptTemplate object with the specified template and input variables.\n",
    "# Crea un objeto PromptTemplate con la plantilla y las variables de entrada especificadas.\n",
    "prompt = PromptTemplate(template=prompt_template, input_variables=input_variables)"
   ]
  },
  {
   "cell_type": "markdown",
   "metadata": {},
   "source": [
    "4.- DATOS CONEXION Neo4j\n",
    "\n",
    "La estructura de árboles de la aplicación LactApp se encuentra en una BBDD Neo4j\n",
    "\n",
    "Hemos procedido a:\n",
    "\n",
    "- Generar BBDD Neo4j en Docker\n",
    "\n",
    "- Cargar sobre esa BBDD el DUMP proporcionado con los datos de la aplicación."
   ]
  },
  {
   "cell_type": "code",
   "execution_count": 10,
   "metadata": {},
   "outputs": [],
   "source": [
    "# Establish a connection to the Neo4j database.\n",
    "# Establece una conexión a la base de datos Neo4j.\n",
    "url = URL_NEO4J\n",
    "username = USERNAME_NEO4J\n",
    "password = PASSWORD_NEO4J"
   ]
  },
  {
   "cell_type": "code",
   "execution_count": 12,
   "metadata": {},
   "outputs": [
    {
     "name": "stdout",
     "output_type": "stream",
     "text": [
      "Successful connection to the Neo4j database\n"
     ]
    }
   ],
   "source": [
    "# Function to check the connection to the Neo4j database\n",
    "# Función para verificar la conexión a la base de datos Neo4j\n",
    "def verificar_conexion(url, username, password):\n",
    "    try:\n",
    "        # Attempt to establish a connection to the Neo4j database\n",
    "        # Intento de establecer una conexión a la base de datos Neo4j\n",
    "        with GraphDatabase.driver(url, auth=(username, password)) as driver:\n",
    "            with driver.session() as session:\n",
    "                # Run a test query to check the connection\n",
    "                # Ejecutar una consulta de prueba para verificar la conexión\n",
    "                session.run(\"RETURN 1\")\n",
    "        return True  # Return True if the connection is successful\n",
    "    except Exception as e:\n",
    "        # Handle any exceptions that occur during the connection attempt\n",
    "        # Manejar cualquier excepción que ocurra durante el intento de conexión\n",
    "        print(f\"Connection error: {str(e)}\")\n",
    "        return False  # Return False if the connection fails\n",
    "\n",
    "# Check the connection to the Neo4j database\n",
    "# Verifica la conexión a la base de datos Neo4j\n",
    "if verificar_conexion(url, username, password):\n",
    "    print(\"Successful connection to the Neo4j database\")\n",
    "else:\n",
    "    print(\"Failed to connect to the Neo4j database\")"
   ]
  },
  {
   "cell_type": "markdown",
   "metadata": {},
   "source": [
    "5.- INICIALIZACION EMBEDDING DE LA BBDD Neo4j\n",
    "\n",
    "Procedemos a realizar el embedding de todos los nodos (Solo la primera vez)\n",
    "\n",
    "Utilizaremos el modelo de embedding inicializado --> embeddings\n",
    "\n",
    "Luego solo se realizara el embedding de los nodos que no dispongan de embedding ya calculado."
   ]
  },
  {
   "cell_type": "code",
   "execution_count": 13,
   "metadata": {},
   "outputs": [],
   "source": [
    "# Function to initialize the embedding for a node type\n",
    "# Función para inicializar el embedding para un tipo de nodo\n",
    "def init_node_embedding(node_label, text_properties):\n",
    "    return Neo4jVector.from_existing_graph(\n",
    "        embedding=embeddings,  # The embedding to use for initialization\n",
    "        url=url,  # URL for the Neo4j database\n",
    "        username=username,  # Username for database authentication\n",
    "        password=password,  # Password for database authentication\n",
    "        index_name=f\"{node_label.lower()}_index\",  # Name of the index for the node label\n",
    "        node_label=node_label,  # Label of the node type\n",
    "        text_node_properties=text_properties,  # Text properties for node embedding\n",
    "        embedding_node_property=\"NEWembedding\"  # Property name for the embedding in the database\n",
    "    )"
   ]
  },
  {
   "cell_type": "code",
   "execution_count": 14,
   "metadata": {},
   "outputs": [
    {
     "name": "stdout",
     "output_type": "stream",
     "text": [
      "Choice embedding OK\n",
      "Question embedding OK\n",
      "Theme embedding OK\n"
     ]
    }
   ],
   "source": [
    "# Initialize embeddings for different types of nodes\n",
    "# Inicializar embeddings para diferentes tipos de nodos\n",
    "\n",
    "# Initialize embedding for \"Choice\" nodes with support for Spanish strings\n",
    "Choice_embedding = init_node_embedding(\"Choice\", [\"string_es\"])\n",
    "print(\"Choice embedding OK\")  # Print message to indicate successful initialization\n",
    "# Inicializar la incrustación para nodos \"Choice\" con soporte para cadenas en español\n",
    "# Imprimir mensaje para indicar una inicialización exitosa\n",
    "\n",
    "# Initialize embedding for \"Question\" nodes with support for Spanish strings\n",
    "Question_embedding = init_node_embedding(\"Question\", [\"string_es\"])\n",
    "print(\"Question embedding OK\")  # Print message to indicate successful initialization\n",
    "# Inicializar la incrustación para nodos \"Question\" con soporte para cadenas en español\n",
    "# Imprimir mensaje para indicar una inicialización exitosa\n",
    "\n",
    "# Initialize embedding for \"Theme\" nodes with support for Spanish strings\n",
    "Theme_embedding = init_node_embedding(\"Theme\", [\"string_es\"])\n",
    "print(\"Theme embedding OK\")  # Print message to indicate successful initialization\n",
    "# Inicializar la incrustación para nodos \"Theme\" con soporte para cadenas en español\n",
    "# Imprimir mensaje para indicar una inicialización exitosa"
   ]
  },
  {
   "cell_type": "markdown",
   "metadata": {},
   "source": [
    "6.- CALCULO SIMILITUD ENTRE EMBEDDING BBDD Neo4j y QUERY\n",
    "\n",
    "Generaremos una propiedad 'similarity_query' en cada nodo.\n",
    "\n",
    "El valor de esa propiedad sera la similitud entre el vector de la query y el EMBEDDING almacenado en cada nodo.\n",
    "\n",
    "Se actualizara cada vez que se plantee una query nueva."
   ]
  },
  {
   "cell_type": "code",
   "execution_count": 15,
   "metadata": {},
   "outputs": [],
   "source": [
    "# Function to calculate similarity between the query and nodes\n",
    "# Función para calcular la similitud entre la consulta y los nodos\n",
    "def calculate_similarity(tx, input_query):\n",
    "    # Get embeddings for the query\n",
    "    # Obtener representaciones incrustadas (embeddings) para la consulta\n",
    "    query_embedding = embeddings.encode(input_query, **encode_kwargs)\n",
    "\n",
    "    # Obtain information for all nodes\n",
    "    # Obtener información de todos los nodos\n",
    "    result = tx.run(\"\"\"\n",
    "    MATCH (n)\n",
    "    RETURN ID(n) AS node_id, n.NEWembedding AS node_embedding\n",
    "    \"\"\")\n",
    "\n",
    "    queries_to_update = []\n",
    "\n",
    "    for record in result:\n",
    "        node_id = record[\"node_id\"]\n",
    "        node_embedding = record[\"node_embedding\"]\n",
    "\n",
    "        # Calculate cosine similarity between the query and the node\n",
    "        # Calcular la similitud del coseno entre la consulta y el nodo\n",
    "        similarity_score = cosine_similarity([query_embedding], [node_embedding])[0][0]\n",
    "\n",
    "        # Prepare the query to update the node\n",
    "        # Preparar la consulta para actualizar el nodo\n",
    "        queries_to_update.append({\n",
    "            \"node_id\": node_id,\n",
    "            \"score\": similarity_score\n",
    "        })\n",
    "\n",
    "    # Update all nodes in a single transaction\n",
    "    # Actualizar todos los nodos en una sola transacción\n",
    "    for query_data in queries_to_update:\n",
    "        tx.run(\"\"\"\n",
    "        MATCH (n)\n",
    "        WHERE ID(n) = $node_id\n",
    "        SET n.similarity_query = $score\n",
    "        \"\"\", node_id=query_data[\"node_id\"], score=query_data[\"score\"])"
   ]
  },
  {
   "cell_type": "markdown",
   "metadata": {},
   "source": [
    "7.- CALCULO NODOS MAS CERCANOS SEGUN MEDIA SIMILARIDAD INDICADA\n",
    "\n",
    "- calculate_top_similarity_nodes --> Identifica los 5 nodos mas cercanos y lo devuelve en forma de lista "
   ]
  },
  {
   "cell_type": "code",
   "execution_count": 16,
   "metadata": {},
   "outputs": [],
   "source": [
    "# Function to calculate the list of closest nodes\n",
    "# Función para calcular la lista de nodos más cercanos\n",
    "def calculate_top_similarity_nodes(tx, input_query):\n",
    "    # Get embeddings for the query\n",
    "    query_embedding = embeddings.encode(input_query, **encode_kwargs)\n",
    "\n",
    "    result = tx.run(\"\"\"\n",
    "    MATCH (n)\n",
    "    RETURN n.node_id AS node_id, n.NEWembedding AS node_embedding, n.similaridadquery AS similarity_score, n.string_es AS node_text\n",
    "    ORDER BY similarity_score DESC\n",
    "    LIMIT 5\n",
    "    \"\"\")\n",
    "\n",
    "    top_nodes = []\n",
    "\n",
    "    for record in result:\n",
    "        node_id = record[\"node_id\"]\n",
    "        node_embedding = record[\"node_embedding\"]\n",
    "        similarity_score = record[\"similarity_score\"]\n",
    "        textoNodo = record[\"node_text\"]\n",
    "\n",
    "        top_nodes.append({\n",
    "            \"node_id\": node_id,\n",
    "            \"node_embedding\": node_embedding,\n",
    "            \"similarity_score\": similarity_score,\n",
    "            \"texto\": textoNodo\n",
    "        })\n",
    "\n",
    "    return top_nodes"
   ]
  },
  {
   "cell_type": "code",
   "execution_count": null,
   "metadata": {},
   "outputs": [],
   "source": []
  },
  {
   "cell_type": "markdown",
   "metadata": {},
   "source": [
    "8.- CLASE PARA CALCULO CAMINOS OPTIMOS\n",
    "\n",
    "Clase para identificar caminos optimos\n",
    "    \n",
    "    find_path -> Dado Nodo de inicio, profundidad maxima de busqueda devuelve lista de información de nodos para los caminos encontrados.\n",
    "    \n",
    "    get_all_themes_string -->  lista de cadenas de todos los Themas de la Neo4j\n",
    "    \n",
    "     get_node_ids_by_theme_string --> Devuelve una lista de IDs de nodos asociados con la cadena de tema proporcionada"
   ]
  },
  {
   "cell_type": "code",
   "execution_count": 17,
   "metadata": {},
   "outputs": [],
   "source": [
    "class GraphPathFinder:\n",
    "    def __init__(self, url, user, password):\n",
    "        # Initialize the GraphPathFinder class with database connection parameters\n",
    "        # Inicializar la clase GraphPathFinder con parámetros de conexión a la base de datos\n",
    "        self.driver = GraphDatabase.driver(url, auth=(user, password))\n",
    "\n",
    "    def close(self):\n",
    "        # Close the database connection\n",
    "        # Cerrar la conexión a la base de datos\n",
    "        self.driver.close()\n",
    "\n",
    "    def find_paths(self, start_node_id, max_depth, external_embedding):\n",
    "        with self.driver.session() as session:\n",
    "            query = \"\"\"\n",
    "            MATCH path = (n {node_id: $start_node_id})-[*1..%s]-(end)\n",
    "            WHERE all(node in nodes(path) WHERE node.similaridadquery >= 0.7)\n",
    "            RETURN [node in nodes(path) | [node.node_id, node.similaridadquery, node.string_es]] AS node_info\n",
    "            ORDER BY reduce(s = 0, n IN nodes(path) | s + n.similaridadquery) DESC\n",
    "            \"\"\" % max_depth\n",
    "            result = session.run(query, start_node_id=start_node_id)\n",
    "            # Return a list of node information for the found paths\n",
    "            # Devolver una lista de información de nodos para los caminos encontrados\n",
    "            return [record[\"node_info\"] for record in result]\n",
    "\n",
    "    def get_all_theme_strings(self):\n",
    "        with self.driver.session() as session:\n",
    "            query = \"\"\"\n",
    "            MATCH (theme:Theme)\n",
    "            RETURN collect(theme.string_es) AS theme_strings\n",
    "            \"\"\"\n",
    "            result = session.run(query)\n",
    "            # Return a list of all theme strings in the database\n",
    "            # Devolver una lista de todas las cadenas de temas en la base de datos\n",
    "            return [record[\"theme_strings\"] for record in result][0]\n",
    "\n",
    "    def get_node_ids_by_theme_string(self, theme_string):\n",
    "        with self.driver.session() as session:\n",
    "            query = \"\"\"\n",
    "            MATCH (node:Theme {string_es: $theme_string})\n",
    "            RETURN collect(node.node_id) AS node_ids\n",
    "            \"\"\"\n",
    "            result = session.run(query, theme_string=theme_string)\n",
    "            # Return a list of node IDs associated with the given theme string\n",
    "            # Devolver una lista de IDs de nodos asociados con la cadena de tema proporcionada\n",
    "            return [record[\"node_ids\"] for record in result][0]"
   ]
  },
  {
   "cell_type": "markdown",
   "metadata": {},
   "source": [
    "9.- PROCESADO NODOS\n",
    "\n",
    "procesar_nodos --> Dado un nodo inicial, una profundidad máxima de nodo, y un número maximo de nodos a extraer nos devuelve la información."
   ]
  },
  {
   "cell_type": "code",
   "execution_count": 18,
   "metadata": {},
   "outputs": [],
   "source": [
    "def procesar_nodos1(finder, start_node_ids, Profund_Maxima_Nodos, n_top_paths, external_embedding=None):\n",
    "    \"\"\"\n",
    "    finder --> Clase de analisis caminos\n",
    "    start_nodes_ids --> Nodo inicial donde empezar la busqueda\n",
    "    Profund_Maxima_Nodos --> máximo nivel de profundidad de los nodos\n",
    "    n_top_paths --> Numero de caminos a devolver\n",
    "    external_embedding --> A utilizar en el futuro\n",
    "    \"\"\"\n",
    "\n",
    "    resultados = []  # Almacenará los resultados finales\n",
    "\n",
    "    # Itera sobre los nodos iniciales\n",
    "    for start_node_id in start_node_ids:\n",
    "        # Encuentra los caminos desde el nodo inicial\n",
    "        paths = finder.find_paths(start_node_id, Profund_Maxima_Nodos, external_embedding)\n",
    "\n",
    "        # Calcula la media de similaridad y almacena junto con el camino\n",
    "        path_with_mean = []\n",
    "        for path in paths:\n",
    "            if path:\n",
    "                # Calcula la media de la similaridad en el camino\n",
    "                mean_similarity = sum(node[1] for node in path if node[1] is not None) / len(path)\n",
    "                path_with_mean.append((path, mean_similarity))\n",
    "\n",
    "        # Ordena los caminos por la media de similaridad de mayor a menor\n",
    "        path_with_mean.sort(key=lambda x: x[1], reverse=True)\n",
    "\n",
    "        # Guarda la información de los n caminos con mayor media\n",
    "        top_paths = path_with_mean[:n_top_paths]\n",
    "        for path, mean in top_paths:\n",
    "            path_info = [(node[0], node[1]) for node in path]\n",
    "            string_es_values = [node[2] for node in path if node[2] is not None]\n",
    "            max_similarity_node = max(path, key=lambda x: x[1])\n",
    "            max_similarity_node_info = (max_similarity_node[0], max_similarity_node[1], max_similarity_node[2])\n",
    "\n",
    "            resultados.append({\n",
    "                'start_node_id': start_node_id,\n",
    "                'path_info': path_info,\n",
    "                'mean_similarity': mean,\n",
    "                'string_es_values': string_es_values,\n",
    "                'max_similarity_node_info': max_similarity_node_info\n",
    "            })\n",
    "\n",
    "    return resultados  # Devuelve los resultados finales"
   ]
  },
  {
   "cell_type": "code",
   "execution_count": 19,
   "metadata": {},
   "outputs": [],
   "source": [
    "# Visualización de resultados formato texto.\n",
    "\n",
    "def mostrar_resultado(resultado, mostrar):\n",
    "    ''' Imprime el resultado de la búsqueda de caminos en la base de datos Neo4j\n",
    "    limitando el número de nodos del camino mostrados\n",
    "    y valores de string_es a mostrar.\n",
    "    el valor limite dado por: 'mostrar'\n",
    "    '''\n",
    "    print(\"ID del Nodo Inicial:\", resultado['start_node_id'])\n",
    "\n",
    "    print(\"\\nInformación del Camino (mostrando hasta {} nodos):\".format(mostrar))\n",
    "    for node in resultado['path_info'][:mostrar]:\n",
    "        print(f\"  Nodo ID: {node[0]}, Similaridad: {node[1]}\")\n",
    "\n",
    "    print(\"\\nMedia de Similaridad:\", resultado['mean_similarity'])\n",
    "\n",
    "    print(\"\\nValores de string_es (mostrando hasta {} valores):\".format(mostrar))\n",
    "    for value in resultado['string_es_values'][:mostrar]:\n",
    "        print(f\"  {value}\")\n",
    "\n",
    "    print(\"\\nInformación del Nodo con Máxima Similaridad:\")\n",
    "    max_node_info = resultado['max_similarity_node_info']\n",
    "    print(f\"  Nodo ID: {max_node_info[0]}, Similaridad: {max_node_info[1]}\")\n",
    "    print(f\"  string_es: {max_node_info[2]}\")"
   ]
  },
  {
   "cell_type": "markdown",
   "metadata": {},
   "source": [
    "A.- PROCESO COMPLETO DE ANALISIS EN SECUENCIA"
   ]
  },
  {
   "cell_type": "markdown",
   "metadata": {},
   "source": [
    "A1.- Identificación Mensajes Usuarias disponibles"
   ]
  },
  {
   "cell_type": "code",
   "execution_count": 20,
   "metadata": {},
   "outputs": [],
   "source": [
    "FILEDATOS = '/media/ubuntu/Linux3/02_TFM/TEST_BIBLIOTECA/MODELOS/a.xlsx'\n",
    "\n",
    "import pandas as pd\n",
    "import numpy as np\n",
    "df = pd.read_excel(FILEDATOS)"
   ]
  },
  {
   "cell_type": "code",
   "execution_count": 22,
   "metadata": {},
   "outputs": [],
   "source": [
    "mensajes = df['message'].to_list()\n",
    "mensajes = list(set(mensajes))"
   ]
  },
  {
   "cell_type": "markdown",
   "metadata": {},
   "source": [
    "A2.- GENERACION DE CLASIFICACION MENSAJE USUARIA USANDO LLMs"
   ]
  },
  {
   "cell_type": "code",
   "execution_count": 24,
   "metadata": {},
   "outputs": [],
   "source": [
    "# Carga Modelo Open AI\n",
    "\n",
    "#modelOpenAI = ChatOpenAI(temperature=0, model_name=\"gpt-3.5-turbo\")\n",
    "\n",
    "modelOpenAI = ChatOpenAI(temperature=0)"
   ]
  },
  {
   "cell_type": "code",
   "execution_count": 30,
   "metadata": {},
   "outputs": [
    {
     "name": "stdout",
     "output_type": "stream",
     "text": [
      "Mistral7:\n",
      " input_variables=['categorias', 'texto'] template=\"<s> [INST] You are an expert in breastfeeding.If you don't know the answer, just say that you don't know. The output must be only the category. [/INST] </s> [INST] Question: classify the text: {texto}. Context: The categories for classify are: {categorias}. Answer: [/INST]\"\n",
      "OpenAI:\n",
      " input_variables=['categorias', 'texto'] template='\"Clasifica el siguiente texto en una de las siguientes categorías {categorias}: \\n Texto: {texto}\\nCategoría: '\n"
     ]
    }
   ],
   "source": [
    "# Ejemplo de Prompts condicionales\n",
    "\n",
    "#Ref: https://python.langchain.com/docs/guides/local_llms\n",
    "# Mistral --> https://smith.langchain.com/hub/rlm/rag-prompt-mistral\n",
    "# Llama --> https://smith.langchain.com/hub/rlm/rag-prompt-llama\n",
    "\n",
    "\n",
    "DEFAULT_MISTRAL_SEARCH_PROMPT = PromptTemplate(\n",
    "    input_variables=[\"texto\", \"categorias\"],\n",
    "    template=\"\"\"<s> [INST] You are an expert in breastfeeding.\\\n",
    "If you don't know the answer, just say that you don't know. \\\n",
    "The output must be only the category. [/INST] </s> \\\n",
    "[INST] Question: classify the text: {texto}. \\\n",
    "Context: The categories for classify are: {categorias}. \\\n",
    "Answer: [/INST]\"\"\",\n",
    ")\n",
    "\n",
    "DEFAULT_SEARCH_PROMPT = PromptTemplate(\n",
    "    input_variables=[\"texto\", \"categorias\"],\n",
    "    template=\"\"\"\"Clasifica el siguiente texto en una de las siguientes categorías {categorias}: \\n Texto: {texto}\\nCategoría: \"\"\",\n",
    ")\n",
    "\n",
    "QUESTION_PROMPT_SELECTOR = ConditionalPromptSelector(\n",
    "    default_prompt=DEFAULT_SEARCH_PROMPT,\n",
    "    conditionals=[\n",
    "        (lambda model: (model == llm), DEFAULT_MISTRAL_SEARCH_PROMPT)\n",
    "    ],\n",
    ")\n",
    "\n",
    "\n",
    "prompt2 = QUESTION_PROMPT_SELECTOR.get_prompt(llm)\n",
    "prompt3 = QUESTION_PROMPT_SELECTOR.get_prompt(modelOpenAI)\n",
    "\n",
    "\n",
    "\n",
    "print('Mistral7:\\n', prompt2)\n",
    "\n",
    "print('OpenAI:\\n', prompt3)"
   ]
  },
  {
   "cell_type": "code",
   "execution_count": 31,
   "metadata": {},
   "outputs": [],
   "source": [
    "# Caso Mistral y Llama2\n",
    "\n",
    "chainMistral = prompt2 | llm | StrOutputParser()\n",
    "\n",
    "chainOpenAI = prompt3 | modelOpenAI | StrOutputParser()"
   ]
  },
  {
   "cell_type": "code",
   "execution_count": 32,
   "metadata": {},
   "outputs": [],
   "source": [
    "def clasificar_LLMs(texto, categorias, chain):\n",
    "    '''Función de clasificación\n",
    "    Entrada:\n",
    "        texto -> Conversación Usuaria\n",
    "        categorias --> Lista de categorias donde se ha de clasificar\n",
    "        chain --> Cadena de LangChain\n",
    "    respuesta:\n",
    "        Respuesta del modelo\n",
    "    '''\n",
    "    response = chain.invoke({\"categorias\": categorias, \"texto\": texto})\n",
    "    return response"
   ]
  },
  {
   "cell_type": "code",
   "execution_count": 33,
   "metadata": {},
   "outputs": [],
   "source": [
    "# Mensaje de TEST\n",
    "\n",
    "entrada = mensajes[0]"
   ]
  },
  {
   "cell_type": "markdown",
   "metadata": {},
   "source": [
    "CREACION LISTA CON TODAS LAS CATEGORIAS EN BBDD Neo4j"
   ]
  },
  {
   "cell_type": "code",
   "execution_count": 34,
   "metadata": {},
   "outputs": [
    {
     "name": "stdout",
     "output_type": "stream",
     "text": [
      "['EMBARAZO: SEGUIR LACTANDO', 'CONSERVACIÓN', 'Semana Mundial de la Lactancia', 'MIS SENTIMIENTOS', 'Coronavirus', 'GEMELOS, MELLIZOS', 'Mi embarazo por etapas', 'LOS PRIMEROS DÍAS', 'PORTEO', 'Planifica tu vuelta al trabajo', 'MI BEBÉ MAMA MUCHO', '¿TENGO POCA LECHE?', 'Punto Violeta', 'LA VUELTA AL TRABAJO', 'GRIETAS Y HERIDAS', 'SUEÑO Y LACTANCIA', 'COSAS QUE HACE MI BEBÉ', 'BACHES Y CRISIS', 'PECHO: FORMA Y TAMAÑO', 'A PARTIR DE 6 MESES', 'Guía de regalos', 'EXTRACCIÓN DE LECHE', 'DEJAR LA FÓRMULA', 'Lactancia artificial', 'MI BEBÉ ES PREMATURO', 'INDUCCIÓN', 'ME HE QUEDADO EMBARAZADA', 'EL DESTETE POR ETAPAS', 'DEJAR DE DAR EL PECHO', 'PRUEBAS DIAGNÓSTICAS', 'CÓMO PRODUCIR MÁS LECHE', 'SEGUIR PREPARÁNDOME', 'MI BEBÉ NO GANA PESO', 'LA DONACIÓN DE LECHE', '¡QUIERO SER DONANTE!', 'LACTANCIA MIXTA', 'EN QUÉ DARLE LA LECHE', 'Cómo gestionar mi mastitis', 'Baby Led Weaning', 'SALUD DE MI BEBÉ', 'GUÍA DEL DOLOR AL AMAMANTAR', 'SOBRE MI SALUD', 'DOLOR EN EL PECHO', '¿PUEDO...?', 'ALIMENTOS SÓLIDOS', 'PRODUCTOS PARA LA LACTANCIA', 'RELACTAR', 'PAÑALES SUCIOS', 'CONCEPTOS BÁSICOS', 'Emociones', 'EL CAMINO DE LA LECHE', '¿QUÉ HAGO SI...?', 'LACTANCIA POR ETAPAS', 'Sueño del bebé', 'Visitas y talleres', 'Durante mi embarazo', 'BULTOS EN EL PECHO', 'Preparar mi lactancia', 'DIFICULTADES DE AGARRE', 'ESTOY ENFERMA']\n",
      "60\n"
     ]
    }
   ],
   "source": [
    "# Creación de la instancia de GraphPathFinder\n",
    "finder = GraphPathFinder(url, username, password)\n",
    "categorias = finder.get_all_theme_strings()\n",
    "categorias = list(set(categorias))\n",
    "print(categorias)\n",
    "print(len(categorias))"
   ]
  },
  {
   "cell_type": "markdown",
   "metadata": {},
   "source": [
    "IDENTIFICACION DE CLASIFICACION DEL MENSAJE DE LA USUARIA\n",
    "\n",
    "entrada --> Mensaje de entrada\n",
    "\n",
    "categorias --> Lista de todas las categorias identificadas en Neo4j\n",
    "\n",
    "chainOpenAI --> Cadena de analisis con OpenAI"
   ]
  },
  {
   "cell_type": "code",
   "execution_count": 35,
   "metadata": {},
   "outputs": [],
   "source": [
    "salidaOpen= clasificar_LLMs(entrada, categorias, chainOpenAI)"
   ]
  },
  {
   "cell_type": "markdown",
   "metadata": {},
   "source": [
    "IDENTIFICACION NODO CON MAYOR SIMILITUD"
   ]
  },
  {
   "cell_type": "code",
   "execution_count": 36,
   "metadata": {},
   "outputs": [
    {
     "name": "stdout",
     "output_type": "stream",
     "text": [
      "['t7']\n",
      "1\n"
     ]
    }
   ],
   "source": [
    "# Creación de la instancia de GraphPathFinder\n",
    "finder = GraphPathFinder(url, username, password)\n",
    "ids = finder.get_node_ids_by_theme_string(salidaOpen)\n",
    "ids = list(set(ids))\n",
    "print(ids)\n",
    "print(len(ids))"
   ]
  },
  {
   "cell_type": "markdown",
   "metadata": {},
   "source": [
    "Procesado para varios mensajes (Modo TEST)"
   ]
  },
  {
   "cell_type": "code",
   "execution_count": 37,
   "metadata": {},
   "outputs": [
    {
     "name": "stdout",
     "output_type": "stream",
     "text": [
      "MENSAJE: Hola, buenos días.\n",
      "Mi bebé tiene 23 días, hace una semana la pediatra detectó un frenillo lingual tipo 1. La lactancia era indolora hasta hace 4 días. Con el pecho izquierdo vamos bien, no hay dolor. Pero con el derecho, el pezón me duele al engancharse el bebé, durante la toma y al terminar durante un rato, quizás 15-20 min. No tengo grietas, se trata de un dolor punzante. He probado varias posiciones y, cuando abre mucho la boca para engancharse no va del todo mal, por lo menos el dolor no es intenso. ¿Cómo puedo hacer para conseguir la mejor apertura de su boca y evitar dolor? Gracias \n",
      "-------------------------\n",
      "Similitud del coseno calculada y asignada en la base de datos Neo4j para el query: Hola, buenos días.\n",
      "Mi bebé tiene 23 días, hace una semana la pediatra detectó un frenillo lingual tipo 1. La lactancia era indolora hasta hace 4 días. Con el pecho izquierdo vamos bien, no hay dolor. Pero con el derecho, el pezón me duele al engancharse el bebé, durante la toma y al terminar durante un rato, quizás 15-20 min. No tengo grietas, se trata de un dolor punzante. He probado varias posiciones y, cuando abre mucho la boca para engancharse no va del todo mal, por lo menos el dolor no es intenso. ¿Cómo puedo hacer para conseguir la mejor apertura de su boca y evitar dolor? Gracias \n",
      "ID del Nodo Inicial: t7\n",
      "\n",
      "Información del Camino (mostrando hasta 7 nodos):\n",
      "  Nodo ID: t7, Similaridad: 0.8527326575391612\n",
      "  Nodo ID: q122, Similaridad: 0.881504183846252\n",
      "  Nodo ID: c497, Similaridad: 0.8668521781707211\n",
      "  Nodo ID: r628, Similaridad: 0.8958604153320516\n",
      "\n",
      "Media de Similaridad: 0.8742373587220464\n",
      "\n",
      "Valores de string_es (mostrando hasta 7 valores):\n",
      "  DOLOR EN EL PECHO\n",
      "  Sobre la corriente que sientes en el pecho:\n",
      "  Lo siento durante y entre las tomas. No es muy doloroso\n",
      "  \n",
      " Por lo que has indicado en LactApp, creemos que se trata de la sensación que produce el reflejo de salida o eyección de leche . Es una sensación más aguda las primeras semanas de lactancia y, a medida que pasan los meses, va disminuyendo. \n",
      " Esta sensación eléctrica, que puede llegar a ser bastante dolorosa, se puede repetir a lo largo de la toma, cuando se producen nuevos reflejos de eyección de la leche. \n",
      " También la puedes sentir momentos antes de que el bebé se despierte para pedir el pecho, o si oyes llorar a un bebé, aunque no sea el tuyo. El cuerpo de la madre se sincroniza con el del bebé. \n",
      " Si el dolor aumenta o se intensifica, no dudes en consultar de nuevo LactApp, acudir a un grupo de apoyo a la lactancia o consultar con una IBCLC o comadrona.\n",
      "\n",
      "Información del Nodo con Máxima Similaridad:\n",
      "  Nodo ID: r628, Similaridad: 0.8958604153320516\n",
      "  string_es: \n",
      " Por lo que has indicado en LactApp, creemos que se trata de la sensación que produce el reflejo de salida o eyección de leche . Es una sensación más aguda las primeras semanas de lactancia y, a medida que pasan los meses, va disminuyendo. \n",
      " Esta sensación eléctrica, que puede llegar a ser bastante dolorosa, se puede repetir a lo largo de la toma, cuando se producen nuevos reflejos de eyección de la leche. \n",
      " También la puedes sentir momentos antes de que el bebé se despierte para pedir el pecho, o si oyes llorar a un bebé, aunque no sea el tuyo. El cuerpo de la madre se sincroniza con el del bebé. \n",
      " Si el dolor aumenta o se intensifica, no dudes en consultar de nuevo LactApp, acudir a un grupo de apoyo a la lactancia o consultar con una IBCLC o comadrona.\n"
     ]
    }
   ],
   "source": [
    "for mensaje in mensajes[:1]:\n",
    "    print(\"MENSAJE:\", mensaje)\n",
    "    print(\"-------------------------\")\n",
    "    # Query que deseas comparar con las propiedades de los nodos\n",
    "    query = mensaje\n",
    "    # Conexión a la base de datos Neo4j y cálculo de la similitud del coseno\n",
    "    with GraphDatabase.driver(url, auth=(username, password)) as driver:\n",
    "        embeddings = SentenceTransformer(model_name, **model_kwargs)\n",
    "\n",
    "        with driver.session() as session:\n",
    "            session.execute_write(calculate_similarity, query)\n",
    "\n",
    "    print(f\"Similitud del coseno calculada y asignada en la base de datos Neo4j para el query: {query}\")\n",
    "\n",
    "    # Identificación de los temas de la pregunta\n",
    "    salidaOpen= clasificar_LLMs(mensaje, categorias, chainOpenAI)\n",
    "\n",
    "    # Creación de la instancia de GraphPathFinder\n",
    "    finder = GraphPathFinder(url, username, password)\n",
    "    ids = finder.get_node_ids_by_theme_string(salidaOpen)\n",
    "\n",
    "    # Lista de identificadores de nodo iniciales\n",
    "    start_node_ids = ids  # Lista de nodos iniciales\n",
    "\n",
    "    # Profundidad máxima de búsqueda\n",
    "    Profund_Maxima_Nodos = 7\n",
    "\n",
    "    # Número de caminos con mayor media de similaridad a mostrar\n",
    "    n_top_paths = 5\n",
    "\n",
    "    # Llamada a la función procesar_nodos\n",
    "    resultados = procesar_nodos1(finder, start_node_ids, Profund_Maxima_Nodos, n_top_paths)\n",
    "\n",
    "    mostrar_resultado(resultados[0], Profund_Maxima_Nodos)\n",
    "    # Imprimir resultados\n",
    "    #for resultado in resultados:\n",
    "    #    print(resultado)\n",
    "\n",
    "    # Cerrar la conexión\n",
    "    finder.close()"
   ]
  },
  {
   "cell_type": "markdown",
   "metadata": {},
   "source": [
    "RESUMEN RESULTADOS"
   ]
  },
  {
   "cell_type": "code",
   "execution_count": 38,
   "metadata": {},
   "outputs": [
    {
     "name": "stdout",
     "output_type": "stream",
     "text": [
      "Pregunta: Hola, buenos días.\n",
      "Mi bebé tiene 23 días, hace una semana la pediatra detectó un frenillo lingual tipo 1. La lactancia era indolora hasta hace 4 días. Con el pecho izquierdo vamos bien, no hay dolor. Pero con el derecho, el pezón me duele al engancharse el bebé, durante la toma y al terminar durante un rato, quizás 15-20 min. No tengo grietas, se trata de un dolor punzante. He probado varias posiciones y, cuando abre mucho la boca para engancharse no va del todo mal, por lo menos el dolor no es intenso. ¿Cómo puedo hacer para conseguir la mejor apertura de su boca y evitar dolor? Gracias  \n",
      "\n"
     ]
    }
   ],
   "source": [
    "# PREGUNTAS DE PRUEBA\n",
    "print(\"Pregunta:\", query, \"\\n\")"
   ]
  },
  {
   "cell_type": "code",
   "execution_count": 39,
   "metadata": {},
   "outputs": [
    {
     "name": "stdout",
     "output_type": "stream",
     "text": [
      "Tematica: DOLOR EN EL PECHO\n"
     ]
    }
   ],
   "source": [
    "# Tematica identificada\n",
    "print('Tematica:', salidaOpen)"
   ]
  },
  {
   "cell_type": "code",
   "execution_count": 40,
   "metadata": {},
   "outputs": [
    {
     "name": "stdout",
     "output_type": "stream",
     "text": [
      "Nodo: ['t7']\n"
     ]
    }
   ],
   "source": [
    "# Nodo de tematica identificada\n",
    "print('Nodo:', ids)"
   ]
  },
  {
   "cell_type": "code",
   "execution_count": 41,
   "metadata": {},
   "outputs": [
    {
     "name": "stdout",
     "output_type": "stream",
     "text": [
      "Nodos camino identificado: ['t7', 'q122', 'c497', 'r628']\n",
      "Nodos camino identificado: ['t7', 'q122', 'c498', 'r630']\n",
      "Nodos camino identificado: ['t7', 'q122', 'c496', 'r627']\n",
      "Nodos camino identificado: ['t7', 'q122', 'c495', 'r626']\n",
      "Nodos camino identificado: ['t7', 'q122']\n"
     ]
    }
   ],
   "source": [
    "# Nodos con mayor similaridad\n",
    "for t in range(0, n_top_paths):\n",
    "    tuplas = resultados[t]['path_info']\n",
    "    # Extracción del primer elemento de cada tupla\n",
    "    primeros_elementos= [tupla[0] for tupla in tuplas]\n",
    "    # Mostrar la nueva lista\n",
    "    print('Nodos camino identificado:', primeros_elementos)"
   ]
  },
  {
   "cell_type": "code",
   "execution_count": 42,
   "metadata": {},
   "outputs": [
    {
     "name": "stdout",
     "output_type": "stream",
     "text": [
      "Numero de cadenas: 5\n",
      "Cadena:  0 Similaridad Media:  0.8742373587220464 \n",
      "\n",
      "Pregunta:  Hola, buenos días.\n",
      "Mi bebé tiene 23 días, hace una semana la pediatra detectó un frenillo lingual tipo 1. La lactancia era indolora hasta hace 4 días. Con el pecho izquierdo vamos bien, no hay dolor. Pero con el derecho, el pezón me duele al engancharse el bebé, durante la toma y al terminar durante un rato, quizás 15-20 min. No tengo grietas, se trata de un dolor punzante. He probado varias posiciones y, cuando abre mucho la boca para engancharse no va del todo mal, por lo menos el dolor no es intenso. ¿Cómo puedo hacer para conseguir la mejor apertura de su boca y evitar dolor? Gracias \n",
      "0 : (Nodo: t7 ) DOLOR EN EL PECHO\n",
      "1 : (Nodo: q122 ) Sobre la corriente que sientes en el pecho:\n",
      "2 : (Nodo: c497 ) Lo siento durante y entre las tomas. No es muy doloroso\n",
      "3 : (Nodo: r628 ) \n",
      " Por lo que has indicado en LactApp, creemos que se trata de la sensación que produce el reflejo de salida o eyección de leche . Es una sensación más aguda las primeras semanas de lactancia y, a medida que pasan los meses, va disminuyendo. \n",
      " Esta sensación eléctrica, que puede llegar a ser bastante dolorosa, se puede repetir a lo largo de la toma, cuando se producen nuevos reflejos de eyección de la leche. \n",
      " También la puedes sentir momentos antes de que el bebé se despierte para pedir el pecho, o si oyes llorar a un bebé, aunque no sea el tuyo. El cuerpo de la madre se sincroniza con el del bebé. \n",
      " Si el dolor aumenta o se intensifica, no dudes en consultar de nuevo LactApp, acudir a un grupo de apoyo a la lactancia o consultar con una IBCLC o comadrona.\n",
      "-------------------------\n",
      "Cadena:  1 Similaridad Media:  0.8707113107716048 \n",
      "\n",
      "Pregunta:  Hola, buenos días.\n",
      "Mi bebé tiene 23 días, hace una semana la pediatra detectó un frenillo lingual tipo 1. La lactancia era indolora hasta hace 4 días. Con el pecho izquierdo vamos bien, no hay dolor. Pero con el derecho, el pezón me duele al engancharse el bebé, durante la toma y al terminar durante un rato, quizás 15-20 min. No tengo grietas, se trata de un dolor punzante. He probado varias posiciones y, cuando abre mucho la boca para engancharse no va del todo mal, por lo menos el dolor no es intenso. ¿Cómo puedo hacer para conseguir la mejor apertura de su boca y evitar dolor? Gracias \n",
      "0 : (Nodo: t7 ) DOLOR EN EL PECHO\n",
      "1 : (Nodo: q122 ) Sobre la corriente que sientes en el pecho:\n",
      "2 : (Nodo: c498 ) Lo siento durante y entre las tomas. Es bastante doloroso\n",
      "3 : (Nodo: r630 ) \n",
      " Por lo que has indicado en LactApp, creemos que se podría tratar de: \n",
      " Un principio de infección de la glándula , caracterizado por sensación de pinchazos que suelen ir desde el pezón hacia la espalda. \n",
      " Una isquemia del pezón , si el dolor está inicialmente localizado en la punta del pezón y puedes observar cambios de coloración. La isquemia puede aparecer al entrar en una habitación con aire acondicionado, al salir a la calle cuando hace mucho frío o al entrar en la ducha cuando el agua aún no está demasiado caliente. \n",
      "\n",
      " En LactApp, puedes encontrar más información acerca de todas estas situaciones. Si el dolor aumenta o se intensifica, no dudes en consultar de nuevo LactApp, acudir a un grupo de apoyo a la lactancia o consultar con una IBCLC o comadrona.\n",
      "-------------------------\n",
      "Cadena:  2 Similaridad Media:  0.8698151877249307 \n",
      "\n",
      "Pregunta:  Hola, buenos días.\n",
      "Mi bebé tiene 23 días, hace una semana la pediatra detectó un frenillo lingual tipo 1. La lactancia era indolora hasta hace 4 días. Con el pecho izquierdo vamos bien, no hay dolor. Pero con el derecho, el pezón me duele al engancharse el bebé, durante la toma y al terminar durante un rato, quizás 15-20 min. No tengo grietas, se trata de un dolor punzante. He probado varias posiciones y, cuando abre mucho la boca para engancharse no va del todo mal, por lo menos el dolor no es intenso. ¿Cómo puedo hacer para conseguir la mejor apertura de su boca y evitar dolor? Gracias \n",
      "0 : (Nodo: t7 ) DOLOR EN EL PECHO\n",
      "1 : (Nodo: q122 ) Sobre la corriente que sientes en el pecho:\n",
      "2 : (Nodo: c496 ) Lo siento fuera de las tomas y es muy doloroso\n",
      "3 : (Nodo: r627 ) \n",
      " Por lo que has indicado en LactApp, creemos que se podría tratar de: \n",
      " La sensación que produce el reflejo de salida o eyección de leche . Es un sensación más aguda las primeras semanas de lactancia y, a medida que pasan los meses, va disminuyendo. Es una sensación eléctrica que se puede repetir a lo largo de la toma cuando se producen nuevos reflejos de eyección de la leche. \n",
      " Un principio de infección de la glándula , caracterizado por sensación de pinchazos que se suelen sentir desde el pezón hacia la espalda. \n",
      " Una isquemia del pezón , si el dolor está inicialmente localizado en la punta del pezón y puedes observar cambios de coloración. La isquemia puede aparecer al entrar en una habitación con aire acondicionado, al salir a la calle cuando hace mucho frío o al entrar en la ducha cuando el agua aún no está demasiado caliente. \n",
      "\n",
      " En LactApp, puedes encontrar más información acerca de todas estas situaciones. Si el dolor aumenta o se intensifica, no dudes en consultar de nuevo LactApp, acudir a un grupo de apoyo a la lactancia o consultar con una IBCLC o comadrona.\n",
      "-------------------------\n",
      "Cadena:  3 Similaridad Media:  0.86960325061903 \n",
      "\n",
      "Pregunta:  Hola, buenos días.\n",
      "Mi bebé tiene 23 días, hace una semana la pediatra detectó un frenillo lingual tipo 1. La lactancia era indolora hasta hace 4 días. Con el pecho izquierdo vamos bien, no hay dolor. Pero con el derecho, el pezón me duele al engancharse el bebé, durante la toma y al terminar durante un rato, quizás 15-20 min. No tengo grietas, se trata de un dolor punzante. He probado varias posiciones y, cuando abre mucho la boca para engancharse no va del todo mal, por lo menos el dolor no es intenso. ¿Cómo puedo hacer para conseguir la mejor apertura de su boca y evitar dolor? Gracias \n",
      "0 : (Nodo: t7 ) DOLOR EN EL PECHO\n",
      "1 : (Nodo: q122 ) Sobre la corriente que sientes en el pecho:\n",
      "2 : (Nodo: c495 ) Solo dura unos segundos, reaparece a lo largo de la toma\n",
      "3 : (Nodo: r626 ) \n",
      " Por lo que has indicado en LactApp, creemos que se trata de la sensación que produce el reflejo de salida o eyección de leche . Es una sensación más aguda las primeras semanas de lactancia y, a medida que pasan los meses, va disminuyendo. \n",
      " Esta sensación eléctrica, que puede llegar a ser bastante dolorosa, se puede repetir a lo largo de la toma, cuando se producen nuevos reflejos de eyección de la leche. \n",
      " Si el dolor aumenta o se intensifica, no dudes en consultar de nuevo LactApp, acudir a un grupo de apoyo a la lactancia o consultar con una IBCLC o comadrona.\n",
      "-------------------------\n",
      "Cadena:  4 Similaridad Media:  0.8671184206927065 \n",
      "\n",
      "Pregunta:  Hola, buenos días.\n",
      "Mi bebé tiene 23 días, hace una semana la pediatra detectó un frenillo lingual tipo 1. La lactancia era indolora hasta hace 4 días. Con el pecho izquierdo vamos bien, no hay dolor. Pero con el derecho, el pezón me duele al engancharse el bebé, durante la toma y al terminar durante un rato, quizás 15-20 min. No tengo grietas, se trata de un dolor punzante. He probado varias posiciones y, cuando abre mucho la boca para engancharse no va del todo mal, por lo menos el dolor no es intenso. ¿Cómo puedo hacer para conseguir la mejor apertura de su boca y evitar dolor? Gracias \n",
      "0 : (Nodo: t7 ) DOLOR EN EL PECHO\n",
      "1 : (Nodo: q122 ) Sobre la corriente que sientes en el pecho:\n",
      "-------------------------\n"
     ]
    }
   ],
   "source": [
    "# CADENA TEXTOS\n",
    "print('Numero de cadenas:', n_top_paths)\n",
    "# Iterar sobre diferentes cadenas identificadas\n",
    "for n in range(0, n_top_paths):\n",
    "    print('Cadena: ',n, \"Similaridad Media: \",resultados[n]['mean_similarity'], '\\n')\n",
    "    print(\"Pregunta: \", query)\n",
    "    for t, texto in enumerate(resultados[n]['string_es_values']):\n",
    "        tuplas = resultados[n]['path_info']\n",
    "        # Extracción del primer elemento de cada tupla\n",
    "        primeros_elementos= [tupla[0] for tupla in tuplas]\n",
    "        print(t,': (Nodo:', primeros_elementos[t],')', texto)\n",
    "    print('-------------------------')\n"
   ]
  },
  {
   "cell_type": "code",
   "execution_count": 43,
   "metadata": {},
   "outputs": [
    {
     "name": "stdout",
     "output_type": "stream",
     "text": [
      "Similaridad: [0.8527326575391612, 0.881504183846252]\n"
     ]
    }
   ],
   "source": [
    "# Extracción del segundo elemento de cada tupla\n",
    "segundos_elementos= [tupla[1] for tupla in tuplas]\n",
    "print('Similaridad:', segundos_elementos) "
   ]
  },
  {
   "cell_type": "code",
   "execution_count": 44,
   "metadata": {},
   "outputs": [
    {
     "name": "stdout",
     "output_type": "stream",
     "text": [
      "Similaridad media: 0.8742373587220464\n"
     ]
    }
   ],
   "source": [
    "# Similaridad media\n",
    "print('Similaridad media:', resultados[0]['mean_similarity'])"
   ]
  },
  {
   "cell_type": "code",
   "execution_count": 45,
   "metadata": {},
   "outputs": [
    {
     "name": "stdout",
     "output_type": "stream",
     "text": [
      "Texto Nodos: ['DOLOR EN EL PECHO', 'Sobre la corriente que sientes en el pecho:', 'Lo siento durante y entre las tomas. No es muy doloroso', '\\n Por lo que has indicado en LactApp, creemos que se trata de la sensación que produce el reflejo de salida o eyección de leche . Es una sensación más aguda las primeras semanas de lactancia y, a medida que pasan los meses, va disminuyendo. \\n Esta sensación eléctrica, que puede llegar a ser bastante dolorosa, se puede repetir a lo largo de la toma, cuando se producen nuevos reflejos de eyección de la leche. \\n También la puedes sentir momentos antes de que el bebé se despierte para pedir el pecho, o si oyes llorar a un bebé, aunque no sea el tuyo. El cuerpo de la madre se sincroniza con el del bebé. \\n Si el dolor aumenta o se intensifica, no dudes en consultar de nuevo LactApp, acudir a un grupo de apoyo a la lactancia o consultar con una IBCLC o comadrona.']\n"
     ]
    }
   ],
   "source": [
    "# Valores de string_es\n",
    "print('Texto Nodos:', resultados[0]['string_es_values'])"
   ]
  },
  {
   "cell_type": "markdown",
   "metadata": {},
   "source": [
    "SALIDAS EN FORMATO JSON\n",
    "\n",
    "El objetivo es poder interactuar en la aplicacion WEB"
   ]
  },
  {
   "cell_type": "code",
   "execution_count": 46,
   "metadata": {},
   "outputs": [
    {
     "name": "stdout",
     "output_type": "stream",
     "text": [
      "[\n",
      "    {\n",
      "        \"Cadena\": 0,\n",
      "        \"Similaridad_Media\": 0.8742373587220464,\n",
      "        \"Pregunta\": \"Hola, buenos días.\\nMi bebé tiene 23 días, hace una semana la pediatra detectó un frenillo lingual tipo 1. La lactancia era indolora hasta hace 4 días. Con el pecho izquierdo vamos bien, no hay dolor. Pero con el derecho, el pezón me duele al engancharse el bebé, durante la toma y al terminar durante un rato, quizás 15-20 min. No tengo grietas, se trata de un dolor punzante. He probado varias posiciones y, cuando abre mucho la boca para engancharse no va del todo mal, por lo menos el dolor no es intenso. ¿Cómo puedo hacer para conseguir la mejor apertura de su boca y evitar dolor? Gracias \",\n",
      "        \"Nodos_Textos\": [\n",
      "            {\n",
      "                \"Nodo\": \"t7\",\n",
      "                \"Texto\": \"DOLOR EN EL PECHO\"\n",
      "            },\n",
      "            {\n",
      "                \"Nodo\": \"q122\",\n",
      "                \"Texto\": \"Sobre la corriente que sientes en el pecho:\"\n",
      "            },\n",
      "            {\n",
      "                \"Nodo\": \"c497\",\n",
      "                \"Texto\": \"Lo siento durante y entre las tomas. No es muy doloroso\"\n",
      "            },\n",
      "            {\n",
      "                \"Nodo\": \"r628\",\n",
      "                \"Texto\": \"\\n Por lo que has indicado en LactApp, creemos que se trata de la sensación que produce el reflejo de salida o eyección de leche . Es una sensación más aguda las primeras semanas de lactancia y, a medida que pasan los meses, va disminuyendo. \\n Esta sensación eléctrica, que puede llegar a ser bastante dolorosa, se puede repetir a lo largo de la toma, cuando se producen nuevos reflejos de eyección de la leche. \\n También la puedes sentir momentos antes de que el bebé se despierte para pedir el pecho, o si oyes llorar a un bebé, aunque no sea el tuyo. El cuerpo de la madre se sincroniza con el del bebé. \\n Si el dolor aumenta o se intensifica, no dudes en consultar de nuevo LactApp, acudir a un grupo de apoyo a la lactancia o consultar con una IBCLC o comadrona.\"\n",
      "            }\n",
      "        ]\n",
      "    },\n",
      "    {\n",
      "        \"Cadena\": 1,\n",
      "        \"Similaridad_Media\": 0.8707113107716048,\n",
      "        \"Pregunta\": \"Hola, buenos días.\\nMi bebé tiene 23 días, hace una semana la pediatra detectó un frenillo lingual tipo 1. La lactancia era indolora hasta hace 4 días. Con el pecho izquierdo vamos bien, no hay dolor. Pero con el derecho, el pezón me duele al engancharse el bebé, durante la toma y al terminar durante un rato, quizás 15-20 min. No tengo grietas, se trata de un dolor punzante. He probado varias posiciones y, cuando abre mucho la boca para engancharse no va del todo mal, por lo menos el dolor no es intenso. ¿Cómo puedo hacer para conseguir la mejor apertura de su boca y evitar dolor? Gracias \",\n",
      "        \"Nodos_Textos\": [\n",
      "            {\n",
      "                \"Nodo\": \"t7\",\n",
      "                \"Texto\": \"DOLOR EN EL PECHO\"\n",
      "            },\n",
      "            {\n",
      "                \"Nodo\": \"q122\",\n",
      "                \"Texto\": \"Sobre la corriente que sientes en el pecho:\"\n",
      "            },\n",
      "            {\n",
      "                \"Nodo\": \"c498\",\n",
      "                \"Texto\": \"Lo siento durante y entre las tomas. Es bastante doloroso\"\n",
      "            },\n",
      "            {\n",
      "                \"Nodo\": \"r630\",\n",
      "                \"Texto\": \"\\n Por lo que has indicado en LactApp, creemos que se podría tratar de: \\n Un principio de infección de la glándula , caracterizado por sensación de pinchazos que suelen ir desde el pezón hacia la espalda. \\n Una isquemia del pezón , si el dolor está inicialmente localizado en la punta del pezón y puedes observar cambios de coloración. La isquemia puede aparecer al entrar en una habitación con aire acondicionado, al salir a la calle cuando hace mucho frío o al entrar en la ducha cuando el agua aún no está demasiado caliente. \\n\\n En LactApp, puedes encontrar más información acerca de todas estas situaciones. Si el dolor aumenta o se intensifica, no dudes en consultar de nuevo LactApp, acudir a un grupo de apoyo a la lactancia o consultar con una IBCLC o comadrona.\"\n",
      "            }\n",
      "        ]\n",
      "    },\n",
      "    {\n",
      "        \"Cadena\": 2,\n",
      "        \"Similaridad_Media\": 0.8698151877249307,\n",
      "        \"Pregunta\": \"Hola, buenos días.\\nMi bebé tiene 23 días, hace una semana la pediatra detectó un frenillo lingual tipo 1. La lactancia era indolora hasta hace 4 días. Con el pecho izquierdo vamos bien, no hay dolor. Pero con el derecho, el pezón me duele al engancharse el bebé, durante la toma y al terminar durante un rato, quizás 15-20 min. No tengo grietas, se trata de un dolor punzante. He probado varias posiciones y, cuando abre mucho la boca para engancharse no va del todo mal, por lo menos el dolor no es intenso. ¿Cómo puedo hacer para conseguir la mejor apertura de su boca y evitar dolor? Gracias \",\n",
      "        \"Nodos_Textos\": [\n",
      "            {\n",
      "                \"Nodo\": \"t7\",\n",
      "                \"Texto\": \"DOLOR EN EL PECHO\"\n",
      "            },\n",
      "            {\n",
      "                \"Nodo\": \"q122\",\n",
      "                \"Texto\": \"Sobre la corriente que sientes en el pecho:\"\n",
      "            },\n",
      "            {\n",
      "                \"Nodo\": \"c496\",\n",
      "                \"Texto\": \"Lo siento fuera de las tomas y es muy doloroso\"\n",
      "            },\n",
      "            {\n",
      "                \"Nodo\": \"r627\",\n",
      "                \"Texto\": \"\\n Por lo que has indicado en LactApp, creemos que se podría tratar de: \\n La sensación que produce el reflejo de salida o eyección de leche . Es un sensación más aguda las primeras semanas de lactancia y, a medida que pasan los meses, va disminuyendo. Es una sensación eléctrica que se puede repetir a lo largo de la toma cuando se producen nuevos reflejos de eyección de la leche. \\n Un principio de infección de la glándula , caracterizado por sensación de pinchazos que se suelen sentir desde el pezón hacia la espalda. \\n Una isquemia del pezón , si el dolor está inicialmente localizado en la punta del pezón y puedes observar cambios de coloración. La isquemia puede aparecer al entrar en una habitación con aire acondicionado, al salir a la calle cuando hace mucho frío o al entrar en la ducha cuando el agua aún no está demasiado caliente. \\n\\n En LactApp, puedes encontrar más información acerca de todas estas situaciones. Si el dolor aumenta o se intensifica, no dudes en consultar de nuevo LactApp, acudir a un grupo de apoyo a la lactancia o consultar con una IBCLC o comadrona.\"\n",
      "            }\n",
      "        ]\n",
      "    }\n",
      "]\n"
     ]
    }
   ],
   "source": [
    "import json\n",
    "\n",
    "# CADENA TEXTOS\n",
    "n_top_paths = 3  # Cambia esto según tu necesidad\n",
    "\n",
    "# Crear una lista para almacenar los datos de salida\n",
    "output_data = []\n",
    "\n",
    "# Iterar sobre diferentes cadenas identificadas\n",
    "for n in range(0, n_top_paths):\n",
    "    cadena_data = {\n",
    "        'Cadena': n,\n",
    "        'Similaridad_Media': resultados[n]['mean_similarity'],\n",
    "        'Pregunta': query,\n",
    "        'Nodos_Textos': []\n",
    "    }\n",
    "\n",
    "    for t, texto in enumerate(resultados[n]['string_es_values']):\n",
    "        tuplas = resultados[n]['path_info']\n",
    "        primeros_elementos = [tupla[0] for tupla in tuplas]\n",
    "        nodo_texto = {\n",
    "            'Nodo': primeros_elementos[t],\n",
    "            'Texto': texto\n",
    "        }\n",
    "        cadena_data['Nodos_Textos'].append(nodo_texto)\n",
    "\n",
    "    output_data.append(cadena_data)\n",
    "\n",
    "# Serializar los datos de salida como JSON\n",
    "json_output = json.dumps(output_data, ensure_ascii=False, indent=4)\n",
    "\n",
    "# Imprimir la salida JSON\n",
    "print(json_output)"
   ]
  },
  {
   "cell_type": "code",
   "execution_count": 47,
   "metadata": {},
   "outputs": [
    {
     "name": "stdout",
     "output_type": "stream",
     "text": [
      "[\n",
      "    {\n",
      "        \"Cadena\": 0,\n",
      "        \"Similaridad_Media\": 0.8742373587220464,\n",
      "        \"Pregunta\": \"Hola, buenos días.\\nMi bebé tiene 23 días, hace una semana la pediatra detectó un frenillo lingual tipo 1. La lactancia era indolora hasta hace 4 días. Con el pecho izquierdo vamos bien, no hay dolor. Pero con el derecho, el pezón me duele al engancharse el bebé, durante la toma y al terminar durante un rato, quizás 15-20 min. No tengo grietas, se trata de un dolor punzante. He probado varias posiciones y, cuando abre mucho la boca para engancharse no va del todo mal, por lo menos el dolor no es intenso. ¿Cómo puedo hacer para conseguir la mejor apertura de su boca y evitar dolor? Gracias \",\n",
      "        \"Nodos_Textos\": [\n",
      "            {\n",
      "                \"Nodo\": \"t7\",\n",
      "                \"Texto\": \"DOLOR EN EL PECHO\"\n",
      "            },\n",
      "            {\n",
      "                \"Nodo\": \"q122\",\n",
      "                \"Texto\": \"Sobre la corriente que sientes en el pecho:\"\n",
      "            },\n",
      "            {\n",
      "                \"Nodo\": \"c497\",\n",
      "                \"Texto\": \"Lo siento durante y entre las tomas. No es muy doloroso\"\n",
      "            },\n",
      "            {\n",
      "                \"Nodo\": \"r628\",\n",
      "                \"Texto\": \"\\n Por lo que has indicado en LactApp, creemos que se trata de la sensación que produce el reflejo de salida o eyección de leche . Es una sensación más aguda las primeras semanas de lactancia y, a medida que pasan los meses, va disminuyendo. \\n Esta sensación eléctrica, que puede llegar a ser bastante dolorosa, se puede repetir a lo largo de la toma, cuando se producen nuevos reflejos de eyección de la leche. \\n También la puedes sentir momentos antes de que el bebé se despierte para pedir el pecho, o si oyes llorar a un bebé, aunque no sea el tuyo. El cuerpo de la madre se sincroniza con el del bebé. \\n Si el dolor aumenta o se intensifica, no dudes en consultar de nuevo LactApp, acudir a un grupo de apoyo a la lactancia o consultar con una IBCLC o comadrona.\"\n",
      "            }\n",
      "        ]\n",
      "    },\n",
      "    {\n",
      "        \"Cadena\": 1,\n",
      "        \"Similaridad_Media\": 0.8707113107716048,\n",
      "        \"Pregunta\": \"Hola, buenos días.\\nMi bebé tiene 23 días, hace una semana la pediatra detectó un frenillo lingual tipo 1. La lactancia era indolora hasta hace 4 días. Con el pecho izquierdo vamos bien, no hay dolor. Pero con el derecho, el pezón me duele al engancharse el bebé, durante la toma y al terminar durante un rato, quizás 15-20 min. No tengo grietas, se trata de un dolor punzante. He probado varias posiciones y, cuando abre mucho la boca para engancharse no va del todo mal, por lo menos el dolor no es intenso. ¿Cómo puedo hacer para conseguir la mejor apertura de su boca y evitar dolor? Gracias \",\n",
      "        \"Nodos_Textos\": [\n",
      "            {\n",
      "                \"Nodo\": \"t7\",\n",
      "                \"Texto\": \"DOLOR EN EL PECHO\"\n",
      "            },\n",
      "            {\n",
      "                \"Nodo\": \"q122\",\n",
      "                \"Texto\": \"Sobre la corriente que sientes en el pecho:\"\n",
      "            },\n",
      "            {\n",
      "                \"Nodo\": \"c498\",\n",
      "                \"Texto\": \"Lo siento durante y entre las tomas. Es bastante doloroso\"\n",
      "            },\n",
      "            {\n",
      "                \"Nodo\": \"r630\",\n",
      "                \"Texto\": \"\\n Por lo que has indicado en LactApp, creemos que se podría tratar de: \\n Un principio de infección de la glándula , caracterizado por sensación de pinchazos que suelen ir desde el pezón hacia la espalda. \\n Una isquemia del pezón , si el dolor está inicialmente localizado en la punta del pezón y puedes observar cambios de coloración. La isquemia puede aparecer al entrar en una habitación con aire acondicionado, al salir a la calle cuando hace mucho frío o al entrar en la ducha cuando el agua aún no está demasiado caliente. \\n\\n En LactApp, puedes encontrar más información acerca de todas estas situaciones. Si el dolor aumenta o se intensifica, no dudes en consultar de nuevo LactApp, acudir a un grupo de apoyo a la lactancia o consultar con una IBCLC o comadrona.\"\n",
      "            }\n",
      "        ]\n",
      "    },\n",
      "    {\n",
      "        \"Cadena\": 2,\n",
      "        \"Similaridad_Media\": 0.8698151877249307,\n",
      "        \"Pregunta\": \"Hola, buenos días.\\nMi bebé tiene 23 días, hace una semana la pediatra detectó un frenillo lingual tipo 1. La lactancia era indolora hasta hace 4 días. Con el pecho izquierdo vamos bien, no hay dolor. Pero con el derecho, el pezón me duele al engancharse el bebé, durante la toma y al terminar durante un rato, quizás 15-20 min. No tengo grietas, se trata de un dolor punzante. He probado varias posiciones y, cuando abre mucho la boca para engancharse no va del todo mal, por lo menos el dolor no es intenso. ¿Cómo puedo hacer para conseguir la mejor apertura de su boca y evitar dolor? Gracias \",\n",
      "        \"Nodos_Textos\": [\n",
      "            {\n",
      "                \"Nodo\": \"t7\",\n",
      "                \"Texto\": \"DOLOR EN EL PECHO\"\n",
      "            },\n",
      "            {\n",
      "                \"Nodo\": \"q122\",\n",
      "                \"Texto\": \"Sobre la corriente que sientes en el pecho:\"\n",
      "            },\n",
      "            {\n",
      "                \"Nodo\": \"c496\",\n",
      "                \"Texto\": \"Lo siento fuera de las tomas y es muy doloroso\"\n",
      "            },\n",
      "            {\n",
      "                \"Nodo\": \"r627\",\n",
      "                \"Texto\": \"\\n Por lo que has indicado en LactApp, creemos que se podría tratar de: \\n La sensación que produce el reflejo de salida o eyección de leche . Es un sensación más aguda las primeras semanas de lactancia y, a medida que pasan los meses, va disminuyendo. Es una sensación eléctrica que se puede repetir a lo largo de la toma cuando se producen nuevos reflejos de eyección de la leche. \\n Un principio de infección de la glándula , caracterizado por sensación de pinchazos que se suelen sentir desde el pezón hacia la espalda. \\n Una isquemia del pezón , si el dolor está inicialmente localizado en la punta del pezón y puedes observar cambios de coloración. La isquemia puede aparecer al entrar en una habitación con aire acondicionado, al salir a la calle cuando hace mucho frío o al entrar en la ducha cuando el agua aún no está demasiado caliente. \\n\\n En LactApp, puedes encontrar más información acerca de todas estas situaciones. Si el dolor aumenta o se intensifica, no dudes en consultar de nuevo LactApp, acudir a un grupo de apoyo a la lactancia o consultar con una IBCLC o comadrona.\"\n",
      "            }\n",
      "        ]\n",
      "    }\n",
      "]\n"
     ]
    }
   ],
   "source": [
    "# Cargar el JSON\n",
    "data = json.loads(json_output)\n",
    "\n",
    "# Imprimir el JSON formateado en pantalla\n",
    "formatted_json = json.dumps(data, ensure_ascii=False, indent=4)\n",
    "print(formatted_json)"
   ]
  },
  {
   "cell_type": "code",
   "execution_count": null,
   "metadata": {},
   "outputs": [],
   "source": []
  }
 ],
 "metadata": {
  "kernelspec": {
   "display_name": "Python 3 (ipykernel)",
   "language": "python",
   "name": "python3"
  },
  "language_info": {
   "codemirror_mode": {
    "name": "ipython",
    "version": 3
   },
   "file_extension": ".py",
   "mimetype": "text/x-python",
   "name": "python",
   "nbconvert_exporter": "python",
   "pygments_lexer": "ipython3",
   "version": "3.11.4"
  }
 },
 "nbformat": 4,
 "nbformat_minor": 4
}
